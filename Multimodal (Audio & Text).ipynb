{
  "cells": [
    {
      "cell_type": "markdown",
      "metadata": {
        "id": "view-in-github",
        "colab_type": "text"
      },
      "source": [
        "<a href=\"https://colab.research.google.com/github/CarlHad333/Non_Verbal_Behaviour/blob/main/Multimodal%20(Audio%20%26%20Text).ipynb\" target=\"_parent\"><img src=\"https://colab.research.google.com/assets/colab-badge.svg\" alt=\"Open In Colab\"/></a>"
      ]
    },
    {
      "cell_type": "code",
      "execution_count": null,
      "metadata": {
        "colab": {
          "base_uri": "https://localhost:8080/"
        },
        "id": "RIkWydqE8l1C",
        "outputId": "d77d4019-1b62-4f87-facb-300b0f6b4011"
      },
      "outputs": [
        {
          "name": "stdout",
          "output_type": "stream",
          "text": [
            "Mounted at /content/gdrive\n"
          ]
        }
      ],
      "source": [
        "from google.colab import drive\n",
        "drive.mount('/content/gdrive')"
      ]
    },
    {
      "cell_type": "code",
      "execution_count": null,
      "metadata": {
        "colab": {
          "base_uri": "https://localhost:8080/"
        },
        "id": "QDKeGR5ck31v",
        "outputId": "9e7750eb-3990-49de-c4b2-75d74a22fe0a"
      },
      "outputs": [
        {
          "name": "stdout",
          "output_type": "stream",
          "text": [
            "Collecting neattext\n",
            "  Downloading neattext-0.1.3-py3-none-any.whl (114 kB)\n",
            "\u001b[2K     \u001b[90m━━━━━━━━━━━━━━━━━━━━━━━━━━━━━━━━━━━━━━━━\u001b[0m \u001b[32m114.7/114.7 kB\u001b[0m \u001b[31m1.8 MB/s\u001b[0m eta \u001b[36m0:00:00\u001b[0m\n",
            "\u001b[?25hInstalling collected packages: neattext\n",
            "Successfully installed neattext-0.1.3\n"
          ]
        }
      ],
      "source": [
        "#installing a package we'll need for text pre-processing\n",
        "!pip install neattext"
      ]
    },
    {
      "cell_type": "markdown",
      "metadata": {
        "id": "HJUtM4yGY-VO"
      },
      "source": [
        "##Importing necessary packages"
      ]
    },
    {
      "cell_type": "code",
      "execution_count": null,
      "metadata": {
        "id": "8MTuB-gXk5an"
      },
      "outputs": [],
      "source": [
        "#importing necessary packages\n",
        "import numpy as np\n",
        "import pandas as pd\n",
        "import os\n",
        "import pandas\n",
        "import librosa\n",
        "from sklearn.linear_model import LogisticRegression\n",
        "from sklearn.metrics import accuracy_score\n",
        "from sklearn.metrics import confusion_matrix\n",
        "from sklearn.preprocessing import LabelEncoder\n",
        "from skimage.transform import resize\n",
        "import re\n",
        "import neattext.functions as nfx\n",
        "from sklearn.pipeline import Pipeline\n",
        "from sklearn.model_selection import train_test_split\n",
        "from sklearn.feature_extraction.text import CountVectorizer, TfidfVectorizer\n",
        "from xgboost import XGBClassifier\n",
        "from sklearn.pipeline import Pipeline\n",
        "import torch\n",
        "import torch.nn as nn\n",
        "from torch.utils.data import DataLoader, TensorDataset\n",
        "import torch.optim as optim\n",
        "import torchvision.models as models\n",
        "from sklearn.neural_network import MLPClassifier\n",
        "from sklearn.ensemble import RandomForestClassifier\n",
        "from sklearn.svm import LinearSVC\n",
        "from sklearn.metrics import confusion_matrix\n",
        "import matplotlib.pyplot as plt\n",
        "import seaborn as sns\n",
        "import numpy as np"
      ]
    },
    {
      "cell_type": "markdown",
      "metadata": {
        "id": "-YPi5sOyX0a-"
      },
      "source": [
        "#1- Text data prepping\n",
        "(same as in notebook Text_classification.ipynb)"
      ]
    },
    {
      "cell_type": "code",
      "execution_count": null,
      "metadata": {
        "id": "BrjZbGmtk7vk"
      },
      "outputs": [],
      "source": [
        "def get_labels(annot_file, file_name):\n",
        "\n",
        "    f = open(annot_file, 'r').read()\n",
        "    f = f.split('\\n')\n",
        "    f = f[2:]\n",
        "\n",
        "    for data in f:\n",
        "\n",
        "        if len(data) > 0:\n",
        "            if data[0] == '[':\n",
        "                data2 = data.split('\\t')\n",
        "\n",
        "                if data2[1] == file_name:\n",
        "                    emo = data2[2]\n",
        "                    vad = data2[3][1:-1].split(', ')\n",
        "                    return emo, [float(x) for x in vad]\n",
        "\n",
        "    raise ValueError('Label not found')\n",
        "def get_wav(path):\n",
        "    '''returns the signal as a tensor + the sample rate'''\n",
        "    x, sr = librosa.load(path, sr=16000)\n",
        "    return x, sr"
      ]
    },
    {
      "cell_type": "code",
      "execution_count": null,
      "metadata": {
        "colab": {
          "base_uri": "https://localhost:8080/",
          "height": 243
        },
        "id": "uiLQaBcrk-w0",
        "outputId": "a7fa092e-b472-45f3-9776-aa4f16ad89a8"
      },
      "outputs": [
        {
          "data": {
            "application/vnd.google.colaboratory.intrinsic+json": {
              "summary": "{\n  \"name\": \"display(df\",\n  \"rows\": 5,\n  \"fields\": [\n    {\n      \"column\": \"Unnamed: 0\",\n      \"properties\": {\n        \"dtype\": \"number\",\n        \"std\": 1,\n        \"min\": 0,\n        \"max\": 4,\n        \"num_unique_values\": 5,\n        \"samples\": [\n          1,\n          4,\n          2\n        ],\n        \"semantic_type\": \"\",\n        \"description\": \"\"\n      }\n    },\n    {\n      \"column\": \"session\",\n      \"properties\": {\n        \"dtype\": \"number\",\n        \"std\": 0,\n        \"min\": 1,\n        \"max\": 1,\n        \"num_unique_values\": 1,\n        \"samples\": [\n          1\n        ],\n        \"semantic_type\": \"\",\n        \"description\": \"\"\n      }\n    },\n    {\n      \"column\": \"method\",\n      \"properties\": {\n        \"dtype\": \"category\",\n        \"num_unique_values\": 1,\n        \"samples\": [\n          \"script\"\n        ],\n        \"semantic_type\": \"\",\n        \"description\": \"\"\n      }\n    },\n    {\n      \"column\": \"gender\",\n      \"properties\": {\n        \"dtype\": \"category\",\n        \"num_unique_values\": 1,\n        \"samples\": [\n          \"F\"\n        ],\n        \"semantic_type\": \"\",\n        \"description\": \"\"\n      }\n    },\n    {\n      \"column\": \"n_annotators\",\n      \"properties\": {\n        \"dtype\": \"number\",\n        \"std\": 1,\n        \"min\": 0,\n        \"max\": 3,\n        \"num_unique_values\": 2,\n        \"samples\": [\n          0\n        ],\n        \"semantic_type\": \"\",\n        \"description\": \"\"\n      }\n    },\n    {\n      \"column\": \"agreement\",\n      \"properties\": {\n        \"dtype\": \"number\",\n        \"std\": 1,\n        \"min\": 0,\n        \"max\": 3,\n        \"num_unique_values\": 3,\n        \"samples\": [\n          3\n        ],\n        \"semantic_type\": \"\",\n        \"description\": \"\"\n      }\n    },\n    {\n      \"column\": \"emotion\",\n      \"properties\": {\n        \"dtype\": \"string\",\n        \"num_unique_values\": 4,\n        \"samples\": [\n          \"fru\"\n        ],\n        \"semantic_type\": \"\",\n        \"description\": \"\"\n      }\n    },\n    {\n      \"column\": \"valence\",\n      \"properties\": {\n        \"dtype\": \"number\",\n        \"std\": 0.27386127875258304,\n        \"min\": 2.0,\n        \"max\": 2.5,\n        \"num_unique_values\": 2,\n        \"samples\": [\n          2.0\n        ],\n        \"semantic_type\": \"\",\n        \"description\": \"\"\n      }\n    },\n    {\n      \"column\": \"activation\",\n      \"properties\": {\n        \"dtype\": \"number\",\n        \"std\": 0.5477225575051661,\n        \"min\": 2.0,\n        \"max\": 3.0,\n        \"num_unique_values\": 2,\n        \"samples\": [\n          3.0\n        ],\n        \"semantic_type\": \"\",\n        \"description\": \"\"\n      }\n    },\n    {\n      \"column\": \"dominance\",\n      \"properties\": {\n        \"dtype\": \"number\",\n        \"std\": 0.4183300132670378,\n        \"min\": 2.0,\n        \"max\": 3.0,\n        \"num_unique_values\": 3,\n        \"samples\": [\n          2.0\n        ],\n        \"semantic_type\": \"\",\n        \"description\": \"\"\n      }\n    },\n    {\n      \"column\": \"wav_path\",\n      \"properties\": {\n        \"dtype\": \"string\",\n        \"num_unique_values\": 5,\n        \"samples\": [\n          \"IEMOCAP_full_release/Session1/sentences/wav/Ses01F_script02_1/Ses01F_script02_1_F001.wav\"\n        ],\n        \"semantic_type\": \"\",\n        \"description\": \"\"\n      }\n    },\n    {\n      \"column\": \"MOCAP_rotated_path\",\n      \"properties\": {\n        \"dtype\": \"string\",\n        \"num_unique_values\": 5,\n        \"samples\": [\n          \"IEMOCAP_full_release/Session1/sentences/MOCAP_rotated/Ses01F_script02_1/Ses01F_script02_1_F001.txt\"\n        ],\n        \"semantic_type\": \"\",\n        \"description\": \"\"\n      }\n    },\n    {\n      \"column\": \"MOCAP_head_path\",\n      \"properties\": {\n        \"dtype\": \"string\",\n        \"num_unique_values\": 5,\n        \"samples\": [\n          \"IEMOCAP_full_release/Session1/sentences/MOCAP_head/Ses01F_script02_1/Ses01F_script02_1_F001.txt\"\n        ],\n        \"semantic_type\": \"\",\n        \"description\": \"\"\n      }\n    },\n    {\n      \"column\": \"MOCAP_hand_path\",\n      \"properties\": {\n        \"dtype\": \"string\",\n        \"num_unique_values\": 5,\n        \"samples\": [\n          \"IEMOCAP_full_release/Session1/sentences/MOCAP_hand/Ses01F_script02_1/Ses01F_script02_1_F001.txt\"\n        ],\n        \"semantic_type\": \"\",\n        \"description\": \"\"\n      }\n    },\n    {\n      \"column\": \"FA_ph_path\",\n      \"properties\": {\n        \"dtype\": \"string\",\n        \"num_unique_values\": 5,\n        \"samples\": [\n          \"IEMOCAP_full_release/Session1/sentences/ForcedAlignment/Ses01F_script02_1/Ses01F_script02_1_F001.phseg\"\n        ],\n        \"semantic_type\": \"\",\n        \"description\": \"\"\n      }\n    },\n    {\n      \"column\": \"FA_st_path\",\n      \"properties\": {\n        \"dtype\": \"string\",\n        \"num_unique_values\": 5,\n        \"samples\": [\n          \"IEMOCAP_full_release/Session1/sentences/ForcedAlignment/Ses01F_script02_1/Ses01F_script02_1_F001.stseg\"\n        ],\n        \"semantic_type\": \"\",\n        \"description\": \"\"\n      }\n    },\n    {\n      \"column\": \"FA_sy_path\",\n      \"properties\": {\n        \"dtype\": \"string\",\n        \"num_unique_values\": 5,\n        \"samples\": [\n          \"IEMOCAP_full_release/Session1/sentences/ForcedAlignment/Ses01F_script02_1/Ses01F_script02_1_F001.syseg\"\n        ],\n        \"semantic_type\": \"\",\n        \"description\": \"\"\n      }\n    },\n    {\n      \"column\": \"FA_wd_path\",\n      \"properties\": {\n        \"dtype\": \"string\",\n        \"num_unique_values\": 5,\n        \"samples\": [\n          \"IEMOCAP_full_release/Session1/sentences/ForcedAlignment/Ses01F_script02_1/Ses01F_script02_1_F001.wdseg\"\n        ],\n        \"semantic_type\": \"\",\n        \"description\": \"\"\n      }\n    }\n  ]\n}",
              "type": "dataframe"
            },
            "text/html": [
              "\n",
              "  <div id=\"df-5e454e83-c843-4b18-80ba-369753683155\" class=\"colab-df-container\">\n",
              "    <div>\n",
              "<style scoped>\n",
              "    .dataframe tbody tr th:only-of-type {\n",
              "        vertical-align: middle;\n",
              "    }\n",
              "\n",
              "    .dataframe tbody tr th {\n",
              "        vertical-align: top;\n",
              "    }\n",
              "\n",
              "    .dataframe thead th {\n",
              "        text-align: right;\n",
              "    }\n",
              "</style>\n",
              "<table border=\"1\" class=\"dataframe\">\n",
              "  <thead>\n",
              "    <tr style=\"text-align: right;\">\n",
              "      <th></th>\n",
              "      <th>Unnamed: 0</th>\n",
              "      <th>session</th>\n",
              "      <th>method</th>\n",
              "      <th>gender</th>\n",
              "      <th>n_annotators</th>\n",
              "      <th>agreement</th>\n",
              "      <th>emotion</th>\n",
              "      <th>valence</th>\n",
              "      <th>activation</th>\n",
              "      <th>dominance</th>\n",
              "      <th>wav_path</th>\n",
              "      <th>MOCAP_rotated_path</th>\n",
              "      <th>MOCAP_head_path</th>\n",
              "      <th>MOCAP_hand_path</th>\n",
              "      <th>FA_ph_path</th>\n",
              "      <th>FA_st_path</th>\n",
              "      <th>FA_sy_path</th>\n",
              "      <th>FA_wd_path</th>\n",
              "    </tr>\n",
              "  </thead>\n",
              "  <tbody>\n",
              "    <tr>\n",
              "      <th>0</th>\n",
              "      <td>0</td>\n",
              "      <td>1</td>\n",
              "      <td>script</td>\n",
              "      <td>F</td>\n",
              "      <td>3</td>\n",
              "      <td>3</td>\n",
              "      <td>neu</td>\n",
              "      <td>2.5</td>\n",
              "      <td>2.0</td>\n",
              "      <td>2.0</td>\n",
              "      <td>IEMOCAP_full_release/Session1/sentences/wav/Se...</td>\n",
              "      <td>IEMOCAP_full_release/Session1/sentences/MOCAP_...</td>\n",
              "      <td>IEMOCAP_full_release/Session1/sentences/MOCAP_...</td>\n",
              "      <td>IEMOCAP_full_release/Session1/sentences/MOCAP_...</td>\n",
              "      <td>IEMOCAP_full_release/Session1/sentences/Forced...</td>\n",
              "      <td>IEMOCAP_full_release/Session1/sentences/Forced...</td>\n",
              "      <td>IEMOCAP_full_release/Session1/sentences/Forced...</td>\n",
              "      <td>IEMOCAP_full_release/Session1/sentences/Forced...</td>\n",
              "    </tr>\n",
              "    <tr>\n",
              "      <th>1</th>\n",
              "      <td>1</td>\n",
              "      <td>1</td>\n",
              "      <td>script</td>\n",
              "      <td>F</td>\n",
              "      <td>3</td>\n",
              "      <td>2</td>\n",
              "      <td>fru</td>\n",
              "      <td>2.5</td>\n",
              "      <td>2.0</td>\n",
              "      <td>2.5</td>\n",
              "      <td>IEMOCAP_full_release/Session1/sentences/wav/Se...</td>\n",
              "      <td>IEMOCAP_full_release/Session1/sentences/MOCAP_...</td>\n",
              "      <td>IEMOCAP_full_release/Session1/sentences/MOCAP_...</td>\n",
              "      <td>IEMOCAP_full_release/Session1/sentences/MOCAP_...</td>\n",
              "      <td>IEMOCAP_full_release/Session1/sentences/Forced...</td>\n",
              "      <td>IEMOCAP_full_release/Session1/sentences/Forced...</td>\n",
              "      <td>IEMOCAP_full_release/Session1/sentences/Forced...</td>\n",
              "      <td>IEMOCAP_full_release/Session1/sentences/Forced...</td>\n",
              "    </tr>\n",
              "    <tr>\n",
              "      <th>2</th>\n",
              "      <td>2</td>\n",
              "      <td>1</td>\n",
              "      <td>script</td>\n",
              "      <td>F</td>\n",
              "      <td>0</td>\n",
              "      <td>0</td>\n",
              "      <td>xxx</td>\n",
              "      <td>2.0</td>\n",
              "      <td>2.0</td>\n",
              "      <td>2.5</td>\n",
              "      <td>IEMOCAP_full_release/Session1/sentences/wav/Se...</td>\n",
              "      <td>IEMOCAP_full_release/Session1/sentences/MOCAP_...</td>\n",
              "      <td>IEMOCAP_full_release/Session1/sentences/MOCAP_...</td>\n",
              "      <td>IEMOCAP_full_release/Session1/sentences/MOCAP_...</td>\n",
              "      <td>IEMOCAP_full_release/Session1/sentences/Forced...</td>\n",
              "      <td>IEMOCAP_full_release/Session1/sentences/Forced...</td>\n",
              "      <td>IEMOCAP_full_release/Session1/sentences/Forced...</td>\n",
              "      <td>IEMOCAP_full_release/Session1/sentences/Forced...</td>\n",
              "    </tr>\n",
              "    <tr>\n",
              "      <th>3</th>\n",
              "      <td>3</td>\n",
              "      <td>1</td>\n",
              "      <td>script</td>\n",
              "      <td>F</td>\n",
              "      <td>3</td>\n",
              "      <td>2</td>\n",
              "      <td>sur</td>\n",
              "      <td>2.5</td>\n",
              "      <td>3.0</td>\n",
              "      <td>3.0</td>\n",
              "      <td>IEMOCAP_full_release/Session1/sentences/wav/Se...</td>\n",
              "      <td>IEMOCAP_full_release/Session1/sentences/MOCAP_...</td>\n",
              "      <td>IEMOCAP_full_release/Session1/sentences/MOCAP_...</td>\n",
              "      <td>IEMOCAP_full_release/Session1/sentences/MOCAP_...</td>\n",
              "      <td>IEMOCAP_full_release/Session1/sentences/Forced...</td>\n",
              "      <td>IEMOCAP_full_release/Session1/sentences/Forced...</td>\n",
              "      <td>IEMOCAP_full_release/Session1/sentences/Forced...</td>\n",
              "      <td>IEMOCAP_full_release/Session1/sentences/Forced...</td>\n",
              "    </tr>\n",
              "    <tr>\n",
              "      <th>4</th>\n",
              "      <td>4</td>\n",
              "      <td>1</td>\n",
              "      <td>script</td>\n",
              "      <td>F</td>\n",
              "      <td>3</td>\n",
              "      <td>2</td>\n",
              "      <td>neu</td>\n",
              "      <td>2.0</td>\n",
              "      <td>3.0</td>\n",
              "      <td>3.0</td>\n",
              "      <td>IEMOCAP_full_release/Session1/sentences/wav/Se...</td>\n",
              "      <td>IEMOCAP_full_release/Session1/sentences/MOCAP_...</td>\n",
              "      <td>IEMOCAP_full_release/Session1/sentences/MOCAP_...</td>\n",
              "      <td>IEMOCAP_full_release/Session1/sentences/MOCAP_...</td>\n",
              "      <td>IEMOCAP_full_release/Session1/sentences/Forced...</td>\n",
              "      <td>IEMOCAP_full_release/Session1/sentences/Forced...</td>\n",
              "      <td>IEMOCAP_full_release/Session1/sentences/Forced...</td>\n",
              "      <td>IEMOCAP_full_release/Session1/sentences/Forced...</td>\n",
              "    </tr>\n",
              "  </tbody>\n",
              "</table>\n",
              "</div>\n",
              "    <div class=\"colab-df-buttons\">\n",
              "\n",
              "  <div class=\"colab-df-container\">\n",
              "    <button class=\"colab-df-convert\" onclick=\"convertToInteractive('df-5e454e83-c843-4b18-80ba-369753683155')\"\n",
              "            title=\"Convert this dataframe to an interactive table.\"\n",
              "            style=\"display:none;\">\n",
              "\n",
              "  <svg xmlns=\"http://www.w3.org/2000/svg\" height=\"24px\" viewBox=\"0 -960 960 960\">\n",
              "    <path d=\"M120-120v-720h720v720H120Zm60-500h600v-160H180v160Zm220 220h160v-160H400v160Zm0 220h160v-160H400v160ZM180-400h160v-160H180v160Zm440 0h160v-160H620v160ZM180-180h160v-160H180v160Zm440 0h160v-160H620v160Z\"/>\n",
              "  </svg>\n",
              "    </button>\n",
              "\n",
              "  <style>\n",
              "    .colab-df-container {\n",
              "      display:flex;\n",
              "      gap: 12px;\n",
              "    }\n",
              "\n",
              "    .colab-df-convert {\n",
              "      background-color: #E8F0FE;\n",
              "      border: none;\n",
              "      border-radius: 50%;\n",
              "      cursor: pointer;\n",
              "      display: none;\n",
              "      fill: #1967D2;\n",
              "      height: 32px;\n",
              "      padding: 0 0 0 0;\n",
              "      width: 32px;\n",
              "    }\n",
              "\n",
              "    .colab-df-convert:hover {\n",
              "      background-color: #E2EBFA;\n",
              "      box-shadow: 0px 1px 2px rgba(60, 64, 67, 0.3), 0px 1px 3px 1px rgba(60, 64, 67, 0.15);\n",
              "      fill: #174EA6;\n",
              "    }\n",
              "\n",
              "    .colab-df-buttons div {\n",
              "      margin-bottom: 4px;\n",
              "    }\n",
              "\n",
              "    [theme=dark] .colab-df-convert {\n",
              "      background-color: #3B4455;\n",
              "      fill: #D2E3FC;\n",
              "    }\n",
              "\n",
              "    [theme=dark] .colab-df-convert:hover {\n",
              "      background-color: #434B5C;\n",
              "      box-shadow: 0px 1px 3px 1px rgba(0, 0, 0, 0.15);\n",
              "      filter: drop-shadow(0px 1px 2px rgba(0, 0, 0, 0.3));\n",
              "      fill: #FFFFFF;\n",
              "    }\n",
              "  </style>\n",
              "\n",
              "    <script>\n",
              "      const buttonEl =\n",
              "        document.querySelector('#df-5e454e83-c843-4b18-80ba-369753683155 button.colab-df-convert');\n",
              "      buttonEl.style.display =\n",
              "        google.colab.kernel.accessAllowed ? 'block' : 'none';\n",
              "\n",
              "      async function convertToInteractive(key) {\n",
              "        const element = document.querySelector('#df-5e454e83-c843-4b18-80ba-369753683155');\n",
              "        const dataTable =\n",
              "          await google.colab.kernel.invokeFunction('convertToInteractive',\n",
              "                                                    [key], {});\n",
              "        if (!dataTable) return;\n",
              "\n",
              "        const docLinkHtml = 'Like what you see? Visit the ' +\n",
              "          '<a target=\"_blank\" href=https://colab.research.google.com/notebooks/data_table.ipynb>data table notebook</a>'\n",
              "          + ' to learn more about interactive tables.';\n",
              "        element.innerHTML = '';\n",
              "        dataTable['output_type'] = 'display_data';\n",
              "        await google.colab.output.renderOutput(dataTable, element);\n",
              "        const docLink = document.createElement('div');\n",
              "        docLink.innerHTML = docLinkHtml;\n",
              "        element.appendChild(docLink);\n",
              "      }\n",
              "    </script>\n",
              "  </div>\n",
              "\n",
              "\n",
              "<div id=\"df-2dbbdab4-3117-410f-a919-b95e24f82d80\">\n",
              "  <button class=\"colab-df-quickchart\" onclick=\"quickchart('df-2dbbdab4-3117-410f-a919-b95e24f82d80')\"\n",
              "            title=\"Suggest charts\"\n",
              "            style=\"display:none;\">\n",
              "\n",
              "<svg xmlns=\"http://www.w3.org/2000/svg\" height=\"24px\"viewBox=\"0 0 24 24\"\n",
              "     width=\"24px\">\n",
              "    <g>\n",
              "        <path d=\"M19 3H5c-1.1 0-2 .9-2 2v14c0 1.1.9 2 2 2h14c1.1 0 2-.9 2-2V5c0-1.1-.9-2-2-2zM9 17H7v-7h2v7zm4 0h-2V7h2v10zm4 0h-2v-4h2v4z\"/>\n",
              "    </g>\n",
              "</svg>\n",
              "  </button>\n",
              "\n",
              "<style>\n",
              "  .colab-df-quickchart {\n",
              "      --bg-color: #E8F0FE;\n",
              "      --fill-color: #1967D2;\n",
              "      --hover-bg-color: #E2EBFA;\n",
              "      --hover-fill-color: #174EA6;\n",
              "      --disabled-fill-color: #AAA;\n",
              "      --disabled-bg-color: #DDD;\n",
              "  }\n",
              "\n",
              "  [theme=dark] .colab-df-quickchart {\n",
              "      --bg-color: #3B4455;\n",
              "      --fill-color: #D2E3FC;\n",
              "      --hover-bg-color: #434B5C;\n",
              "      --hover-fill-color: #FFFFFF;\n",
              "      --disabled-bg-color: #3B4455;\n",
              "      --disabled-fill-color: #666;\n",
              "  }\n",
              "\n",
              "  .colab-df-quickchart {\n",
              "    background-color: var(--bg-color);\n",
              "    border: none;\n",
              "    border-radius: 50%;\n",
              "    cursor: pointer;\n",
              "    display: none;\n",
              "    fill: var(--fill-color);\n",
              "    height: 32px;\n",
              "    padding: 0;\n",
              "    width: 32px;\n",
              "  }\n",
              "\n",
              "  .colab-df-quickchart:hover {\n",
              "    background-color: var(--hover-bg-color);\n",
              "    box-shadow: 0 1px 2px rgba(60, 64, 67, 0.3), 0 1px 3px 1px rgba(60, 64, 67, 0.15);\n",
              "    fill: var(--button-hover-fill-color);\n",
              "  }\n",
              "\n",
              "  .colab-df-quickchart-complete:disabled,\n",
              "  .colab-df-quickchart-complete:disabled:hover {\n",
              "    background-color: var(--disabled-bg-color);\n",
              "    fill: var(--disabled-fill-color);\n",
              "    box-shadow: none;\n",
              "  }\n",
              "\n",
              "  .colab-df-spinner {\n",
              "    border: 2px solid var(--fill-color);\n",
              "    border-color: transparent;\n",
              "    border-bottom-color: var(--fill-color);\n",
              "    animation:\n",
              "      spin 1s steps(1) infinite;\n",
              "  }\n",
              "\n",
              "  @keyframes spin {\n",
              "    0% {\n",
              "      border-color: transparent;\n",
              "      border-bottom-color: var(--fill-color);\n",
              "      border-left-color: var(--fill-color);\n",
              "    }\n",
              "    20% {\n",
              "      border-color: transparent;\n",
              "      border-left-color: var(--fill-color);\n",
              "      border-top-color: var(--fill-color);\n",
              "    }\n",
              "    30% {\n",
              "      border-color: transparent;\n",
              "      border-left-color: var(--fill-color);\n",
              "      border-top-color: var(--fill-color);\n",
              "      border-right-color: var(--fill-color);\n",
              "    }\n",
              "    40% {\n",
              "      border-color: transparent;\n",
              "      border-right-color: var(--fill-color);\n",
              "      border-top-color: var(--fill-color);\n",
              "    }\n",
              "    60% {\n",
              "      border-color: transparent;\n",
              "      border-right-color: var(--fill-color);\n",
              "    }\n",
              "    80% {\n",
              "      border-color: transparent;\n",
              "      border-right-color: var(--fill-color);\n",
              "      border-bottom-color: var(--fill-color);\n",
              "    }\n",
              "    90% {\n",
              "      border-color: transparent;\n",
              "      border-bottom-color: var(--fill-color);\n",
              "    }\n",
              "  }\n",
              "</style>\n",
              "\n",
              "  <script>\n",
              "    async function quickchart(key) {\n",
              "      const quickchartButtonEl =\n",
              "        document.querySelector('#' + key + ' button');\n",
              "      quickchartButtonEl.disabled = true;  // To prevent multiple clicks.\n",
              "      quickchartButtonEl.classList.add('colab-df-spinner');\n",
              "      try {\n",
              "        const charts = await google.colab.kernel.invokeFunction(\n",
              "            'suggestCharts', [key], {});\n",
              "      } catch (error) {\n",
              "        console.error('Error during call to suggestCharts:', error);\n",
              "      }\n",
              "      quickchartButtonEl.classList.remove('colab-df-spinner');\n",
              "      quickchartButtonEl.classList.add('colab-df-quickchart-complete');\n",
              "    }\n",
              "    (() => {\n",
              "      let quickchartButtonEl =\n",
              "        document.querySelector('#df-2dbbdab4-3117-410f-a919-b95e24f82d80 button');\n",
              "      quickchartButtonEl.style.display =\n",
              "        google.colab.kernel.accessAllowed ? 'block' : 'none';\n",
              "    })();\n",
              "  </script>\n",
              "</div>\n",
              "    </div>\n",
              "  </div>\n"
            ],
            "text/plain": [
              "   Unnamed: 0  session  method gender  n_annotators  agreement emotion  \\\n",
              "0           0        1  script      F             3          3     neu   \n",
              "1           1        1  script      F             3          2     fru   \n",
              "2           2        1  script      F             0          0     xxx   \n",
              "3           3        1  script      F             3          2     sur   \n",
              "4           4        1  script      F             3          2     neu   \n",
              "\n",
              "   valence  activation  dominance  \\\n",
              "0      2.5         2.0        2.0   \n",
              "1      2.5         2.0        2.5   \n",
              "2      2.0         2.0        2.5   \n",
              "3      2.5         3.0        3.0   \n",
              "4      2.0         3.0        3.0   \n",
              "\n",
              "                                            wav_path  \\\n",
              "0  IEMOCAP_full_release/Session1/sentences/wav/Se...   \n",
              "1  IEMOCAP_full_release/Session1/sentences/wav/Se...   \n",
              "2  IEMOCAP_full_release/Session1/sentences/wav/Se...   \n",
              "3  IEMOCAP_full_release/Session1/sentences/wav/Se...   \n",
              "4  IEMOCAP_full_release/Session1/sentences/wav/Se...   \n",
              "\n",
              "                                  MOCAP_rotated_path  \\\n",
              "0  IEMOCAP_full_release/Session1/sentences/MOCAP_...   \n",
              "1  IEMOCAP_full_release/Session1/sentences/MOCAP_...   \n",
              "2  IEMOCAP_full_release/Session1/sentences/MOCAP_...   \n",
              "3  IEMOCAP_full_release/Session1/sentences/MOCAP_...   \n",
              "4  IEMOCAP_full_release/Session1/sentences/MOCAP_...   \n",
              "\n",
              "                                     MOCAP_head_path  \\\n",
              "0  IEMOCAP_full_release/Session1/sentences/MOCAP_...   \n",
              "1  IEMOCAP_full_release/Session1/sentences/MOCAP_...   \n",
              "2  IEMOCAP_full_release/Session1/sentences/MOCAP_...   \n",
              "3  IEMOCAP_full_release/Session1/sentences/MOCAP_...   \n",
              "4  IEMOCAP_full_release/Session1/sentences/MOCAP_...   \n",
              "\n",
              "                                     MOCAP_hand_path  \\\n",
              "0  IEMOCAP_full_release/Session1/sentences/MOCAP_...   \n",
              "1  IEMOCAP_full_release/Session1/sentences/MOCAP_...   \n",
              "2  IEMOCAP_full_release/Session1/sentences/MOCAP_...   \n",
              "3  IEMOCAP_full_release/Session1/sentences/MOCAP_...   \n",
              "4  IEMOCAP_full_release/Session1/sentences/MOCAP_...   \n",
              "\n",
              "                                          FA_ph_path  \\\n",
              "0  IEMOCAP_full_release/Session1/sentences/Forced...   \n",
              "1  IEMOCAP_full_release/Session1/sentences/Forced...   \n",
              "2  IEMOCAP_full_release/Session1/sentences/Forced...   \n",
              "3  IEMOCAP_full_release/Session1/sentences/Forced...   \n",
              "4  IEMOCAP_full_release/Session1/sentences/Forced...   \n",
              "\n",
              "                                          FA_st_path  \\\n",
              "0  IEMOCAP_full_release/Session1/sentences/Forced...   \n",
              "1  IEMOCAP_full_release/Session1/sentences/Forced...   \n",
              "2  IEMOCAP_full_release/Session1/sentences/Forced...   \n",
              "3  IEMOCAP_full_release/Session1/sentences/Forced...   \n",
              "4  IEMOCAP_full_release/Session1/sentences/Forced...   \n",
              "\n",
              "                                          FA_sy_path  \\\n",
              "0  IEMOCAP_full_release/Session1/sentences/Forced...   \n",
              "1  IEMOCAP_full_release/Session1/sentences/Forced...   \n",
              "2  IEMOCAP_full_release/Session1/sentences/Forced...   \n",
              "3  IEMOCAP_full_release/Session1/sentences/Forced...   \n",
              "4  IEMOCAP_full_release/Session1/sentences/Forced...   \n",
              "\n",
              "                                          FA_wd_path  \n",
              "0  IEMOCAP_full_release/Session1/sentences/Forced...  \n",
              "1  IEMOCAP_full_release/Session1/sentences/Forced...  \n",
              "2  IEMOCAP_full_release/Session1/sentences/Forced...  \n",
              "3  IEMOCAP_full_release/Session1/sentences/Forced...  \n",
              "4  IEMOCAP_full_release/Session1/sentences/Forced...  "
            ]
          },
          "metadata": {},
          "output_type": "display_data"
        }
      ],
      "source": [
        "root_path = '/content/gdrive/MyDrive/IEMOCAP_full_release_withoutVideos_sentenceOnly'\n",
        "\n",
        "df = pandas.read_csv(os.path.join(root_path, 'iemocap.csv'))\n",
        "\n",
        "display(df.head())"
      ]
    },
    {
      "cell_type": "code",
      "execution_count": null,
      "metadata": {
        "id": "Qc_UfNEwlOZy"
      },
      "outputs": [],
      "source": [
        "def process_files_in_sessions(root_directory, df):\n",
        "    emotion_dict_all = {}\n",
        "    session_names = ['Session1', 'Session2', 'Session3', 'Session4', 'Session5']\n",
        "    for session_name in session_names:\n",
        "        text_directory = os.path.join(root_directory, session_name, 'dialog', 'transcriptions')\n",
        "        wav_directory = os.path.join(root_directory, session_name, 'sentences', 'wav')\n",
        "\n",
        "        emotion_dict_text = process_text_files_in_directory(text_directory, df)\n",
        "        emotion_dict_wav = process_wav_files_in_directory(wav_directory, df)\n",
        "\n",
        "        emotion_dict_all.update(emotion_dict_text)\n",
        "        emotion_dict_all.update(emotion_dict_wav)\n",
        "    return emotion_dict_all\n",
        "\n",
        "def process_text_files_in_directory(directory, df):\n",
        "    emotion_dict = {}\n",
        "    for root, dirs, files in os.walk(directory):\n",
        "        for file in files:\n",
        "            if file.endswith('.txt'):\n",
        "                file_path = os.path.join(root, file)\n",
        "                emotion_dict.update(create_emotion_dictionary(file_path, df))\n",
        "    return emotion_dict\n",
        "\n",
        "def process_wav_files_in_directory(directory, df):\n",
        "    emotion_dict = {}\n",
        "    for root, dirs, files in os.walk(directory):\n",
        "        for file in files:\n",
        "            if file.endswith('.wav'):\n",
        "                file_path = os.path.join(root, file)\n",
        "                emotion = get_emotion_from_df(file_path, df)\n",
        "                if emotion:\n",
        "                    emotion_dict[file_path] = emotion\n",
        "    return emotion_dict\n",
        "\n",
        "def create_emotion_dictionary(txt_file, df):\n",
        "    combined_emotion_dict = {}\n",
        "    with open(txt_file, 'r') as file:\n",
        "        for line in file:\n",
        "            parts = line.split(']:', 1)\n",
        "            if len(parts) == 2:\n",
        "                replique_id = parts[0].split(' ')[0].strip()\n",
        "                sentence = parts[1].strip()\n",
        "                pattern = replique_id.replace('[', '').replace(']', '') + r'.wav'\n",
        "                row = df[df['wav_path'].str.contains(pattern)]\n",
        "                if not row.empty and sentence:\n",
        "                    emotion = row['emotion'].iloc[0]\n",
        "                    agreement = row['agreement'].iloc[0]\n",
        "                    if emotion != 'xxx' and agreement >= 2:\n",
        "                        combined_emotion_dict[(row['wav_path'].iloc[0], sentence)] = emotion\n",
        "    return combined_emotion_dict\n",
        "\n",
        "def get_emotion_from_df(file_path, df):\n",
        "    row = df[df['wav_path'] == file_path]\n",
        "    if not row.empty:\n",
        "        return row['emotion'].iloc[0]\n",
        "    return None\n"
      ]
    },
    {
      "cell_type": "code",
      "execution_count": null,
      "metadata": {
        "id": "FaFmFP6xlUI5"
      },
      "outputs": [],
      "source": [
        "root_path = '/content/gdrive/MyDrive/IEMOCAP_full_release_withoutVideos_sentenceOnly/IEMOCAP_full_release/'\n",
        "emotion_dict_all = process_files_in_sessions(root_path, df)"
      ]
    },
    {
      "cell_type": "code",
      "execution_count": null,
      "metadata": {
        "id": "JI8wfW9Xgfml"
      },
      "outputs": [],
      "source": [
        "import pandas as pd\n",
        "\n",
        "# Assuming emotion_dict_all contains your emotion dictionary\n",
        "\n",
        "# Initialize an empty list to store DataFrames for each entry\n",
        "data = []\n",
        "\n",
        "# Iterate over each item in the emotion dictionary\n",
        "for key, emotion in emotion_dict_all.items():\n",
        "    # Extract wav_path and sentence from the key tuple\n",
        "    if len(key) != 2:\n",
        "      print(key)\n",
        "    wav_path, sentence = key\n",
        "\n",
        "    # Extract session number from the wav path\n",
        "    session_number = wav_path.split('/')[1].replace('Session', '')  # Extract session number\n",
        "\n",
        "    # Create a DataFrame for the current entry\n",
        "    entry_df = pd.DataFrame({\n",
        "        'Session': session_number,\n",
        "        'Sentence': sentence,\n",
        "        'wav_path': wav_path,\n",
        "        'emotion': emotion\n",
        "    }, index=[0])  # Create DataFrame with single row\n",
        "\n",
        "    # Append the DataFrame to the list\n",
        "    data.append(entry_df)\n",
        "\n",
        "# Concatenate all entry DataFrames into one DataFrame\n",
        "final_data = pd.concat(data, ignore_index=True)\n",
        "\n",
        "# Optional: Perform text cleaning\n",
        "final_data['Clean_Text'] = final_data['Sentence'].apply(nfx.remove_userhandles)\n",
        "final_data['Clean_Text'] = final_data['Clean_Text'].apply(nfx.remove_stopwords)"
      ]
    },
    {
      "cell_type": "code",
      "execution_count": null,
      "metadata": {
        "colab": {
          "base_uri": "https://localhost:8080/"
        },
        "id": "Mq8o2RU_lLDy",
        "outputId": "f18ac253-9562-429e-ec46-00b24f8681c5"
      },
      "outputs": [
        {
          "data": {
            "text/plain": [
              "neu    1708\n",
              "hap    1636\n",
              "ang    1103\n",
              "sad    1084\n",
              "Name: emotion, dtype: int64"
            ]
          },
          "execution_count": 9,
          "metadata": {},
          "output_type": "execute_result"
        }
      ],
      "source": [
        "selected_emotions = ['neu', 'ang', 'exc', 'sad', 'hap']\n",
        "final_data_filtered = final_data[final_data['emotion'].isin(selected_emotions)].copy()\n",
        "\n",
        "# Replace 'exc' with 'hap'\n",
        "final_data_filtered.loc[final_data_filtered['emotion'] == 'exc', 'emotion'] = 'hap'\n",
        "final_data_filtered.emotion.value_counts()"
      ]
    },
    {
      "cell_type": "code",
      "execution_count": null,
      "metadata": {
        "colab": {
          "base_uri": "https://localhost:8080/"
        },
        "id": "n0ivf0tvlNKE",
        "outputId": "2ae3f314-e951-4c85-85ba-66852fe98a60"
      },
      "outputs": [
        {
          "name": "stdout",
          "output_type": "stream",
          "text": [
            "ang    1084\n",
            "hap    1084\n",
            "neu    1084\n",
            "sad    1084\n",
            "Name: emotion, dtype: int64\n"
          ]
        }
      ],
      "source": [
        "import pandas as pd\n",
        "from sklearn.preprocessing import LabelEncoder\n",
        "\n",
        "# Assuming final_data_filtered contains your DataFrame\n",
        "\n",
        "# Define the number of samples to select from each class\n",
        "num_samples_per_class = 1084\n",
        "\n",
        "# Group the data by 'emotion' and sample randomly from each group\n",
        "balanced_data = final_data_filtered.groupby('emotion', group_keys=False).apply(lambda x: x.sample(min(len(x), num_samples_per_class)))\n",
        "\n",
        "# Reset index\n",
        "balanced_data.reset_index(drop=True, inplace=True)\n",
        "\n",
        "# Encode the 'emotion' column to numeric labels\n",
        "LE = LabelEncoder()\n",
        "balanced_data['label'] = LE.fit_transform(balanced_data['emotion'])\n",
        "\n",
        "# Display the value counts to ensure balance\n",
        "print(balanced_data['emotion'].value_counts())"
      ]
    },
    {
      "cell_type": "code",
      "execution_count": null,
      "metadata": {
        "colab": {
          "base_uri": "https://localhost:8080/",
          "height": 293
        },
        "id": "p5yrXwLOlP03",
        "outputId": "474b3f40-d2ad-494e-ded4-d9c5d1f75e62"
      },
      "outputs": [
        {
          "data": {
            "application/vnd.google.colaboratory.intrinsic+json": {
              "summary": "{\n  \"name\": \"balanced_data\",\n  \"rows\": 4336,\n  \"fields\": [\n    {\n      \"column\": \"Session\",\n      \"properties\": {\n        \"dtype\": \"category\",\n        \"num_unique_values\": 5,\n        \"samples\": [\n          \"3\",\n          \"1\",\n          \"4\"\n        ],\n        \"semantic_type\": \"\",\n        \"description\": \"\"\n      }\n    },\n    {\n      \"column\": \"Sentence\",\n      \"properties\": {\n        \"dtype\": \"string\",\n        \"num_unique_values\": 3723,\n        \"samples\": [\n          \"Like the luggage, the luggage on the flight.\",\n          \"No, you've got to believe.\",\n          \"I'm glad you did.\"\n        ],\n        \"semantic_type\": \"\",\n        \"description\": \"\"\n      }\n    },\n    {\n      \"column\": \"wav_path\",\n      \"properties\": {\n        \"dtype\": \"string\",\n        \"num_unique_values\": 4336,\n        \"samples\": [\n          \"IEMOCAP_full_release/Session4/sentences/wav/Ses04F_script02_2/Ses04F_script02_2_M041.wav\",\n          \"IEMOCAP_full_release/Session2/sentences/wav/Ses02F_script01_1/Ses02F_script01_1_M013.wav\",\n          \"IEMOCAP_full_release/Session1/sentences/wav/Ses01F_impro03/Ses01F_impro03_M019.wav\"\n        ],\n        \"semantic_type\": \"\",\n        \"description\": \"\"\n      }\n    },\n    {\n      \"column\": \"emotion\",\n      \"properties\": {\n        \"dtype\": \"category\",\n        \"num_unique_values\": 4,\n        \"samples\": [\n          \"hap\",\n          \"sad\",\n          \"ang\"\n        ],\n        \"semantic_type\": \"\",\n        \"description\": \"\"\n      }\n    },\n    {\n      \"column\": \"Clean_Text\",\n      \"properties\": {\n        \"dtype\": \"string\",\n        \"num_unique_values\": 3607,\n        \"samples\": [\n          \"destroyed, see, new thing created. kind responsibility, man man. understand me?\",\n          \"Uh, yeah. We've pinned couple times.\",\n          \"think I'll little.\"\n        ],\n        \"semantic_type\": \"\",\n        \"description\": \"\"\n      }\n    },\n    {\n      \"column\": \"label\",\n      \"properties\": {\n        \"dtype\": \"number\",\n        \"std\": 1,\n        \"min\": 0,\n        \"max\": 3,\n        \"num_unique_values\": 4,\n        \"samples\": [\n          1,\n          3,\n          0\n        ],\n        \"semantic_type\": \"\",\n        \"description\": \"\"\n      }\n    }\n  ]\n}",
              "type": "dataframe",
              "variable_name": "balanced_data"
            },
            "text/html": [
              "\n",
              "  <div id=\"df-7909e65b-bd19-4edd-9ace-d6189596eedb\" class=\"colab-df-container\">\n",
              "    <div>\n",
              "<style scoped>\n",
              "    .dataframe tbody tr th:only-of-type {\n",
              "        vertical-align: middle;\n",
              "    }\n",
              "\n",
              "    .dataframe tbody tr th {\n",
              "        vertical-align: top;\n",
              "    }\n",
              "\n",
              "    .dataframe thead th {\n",
              "        text-align: right;\n",
              "    }\n",
              "</style>\n",
              "<table border=\"1\" class=\"dataframe\">\n",
              "  <thead>\n",
              "    <tr style=\"text-align: right;\">\n",
              "      <th></th>\n",
              "      <th>Session</th>\n",
              "      <th>Sentence</th>\n",
              "      <th>wav_path</th>\n",
              "      <th>emotion</th>\n",
              "      <th>Clean_Text</th>\n",
              "      <th>label</th>\n",
              "    </tr>\n",
              "  </thead>\n",
              "  <tbody>\n",
              "    <tr>\n",
              "      <th>0</th>\n",
              "      <td>2</td>\n",
              "      <td>Turn it off.  It's driving me mad.</td>\n",
              "      <td>IEMOCAP_full_release/Session2/sentences/wav/Se...</td>\n",
              "      <td>ang</td>\n",
              "      <td>Turn off. driving mad.</td>\n",
              "      <td>0</td>\n",
              "    </tr>\n",
              "    <tr>\n",
              "      <th>1</th>\n",
              "      <td>3</td>\n",
              "      <td>Augie, Goddamn it, don't ask me that. You alwa...</td>\n",
              "      <td>IEMOCAP_full_release/Session3/sentences/wav/Se...</td>\n",
              "      <td>ang</td>\n",
              "      <td>Augie, Goddamn it, ask that. ask that. ask tha...</td>\n",
              "      <td>0</td>\n",
              "    </tr>\n",
              "    <tr>\n",
              "      <th>2</th>\n",
              "      <td>3</td>\n",
              "      <td>What? There- There's hundreds of thousands of ...</td>\n",
              "      <td>IEMOCAP_full_release/Session3/sentences/wav/Se...</td>\n",
              "      <td>ang</td>\n",
              "      <td>What? There- There's hundreds thousands dollar...</td>\n",
              "      <td>0</td>\n",
              "    </tr>\n",
              "    <tr>\n",
              "      <th>3</th>\n",
              "      <td>4</td>\n",
              "      <td>Really, you don't work for anybody.  It's just...</td>\n",
              "      <td>IEMOCAP_full_release/Session4/sentences/wav/Se...</td>\n",
              "      <td>ang</td>\n",
              "      <td>Really, work anybody. you?</td>\n",
              "      <td>0</td>\n",
              "    </tr>\n",
              "    <tr>\n",
              "      <th>4</th>\n",
              "      <td>3</td>\n",
              "      <td>That's a nice point of view, I must say.</td>\n",
              "      <td>IEMOCAP_full_release/Session3/sentences/wav/Se...</td>\n",
              "      <td>ang</td>\n",
              "      <td>That's nice point view, say.</td>\n",
              "      <td>0</td>\n",
              "    </tr>\n",
              "  </tbody>\n",
              "</table>\n",
              "</div>\n",
              "    <div class=\"colab-df-buttons\">\n",
              "\n",
              "  <div class=\"colab-df-container\">\n",
              "    <button class=\"colab-df-convert\" onclick=\"convertToInteractive('df-7909e65b-bd19-4edd-9ace-d6189596eedb')\"\n",
              "            title=\"Convert this dataframe to an interactive table.\"\n",
              "            style=\"display:none;\">\n",
              "\n",
              "  <svg xmlns=\"http://www.w3.org/2000/svg\" height=\"24px\" viewBox=\"0 -960 960 960\">\n",
              "    <path d=\"M120-120v-720h720v720H120Zm60-500h600v-160H180v160Zm220 220h160v-160H400v160Zm0 220h160v-160H400v160ZM180-400h160v-160H180v160Zm440 0h160v-160H620v160ZM180-180h160v-160H180v160Zm440 0h160v-160H620v160Z\"/>\n",
              "  </svg>\n",
              "    </button>\n",
              "\n",
              "  <style>\n",
              "    .colab-df-container {\n",
              "      display:flex;\n",
              "      gap: 12px;\n",
              "    }\n",
              "\n",
              "    .colab-df-convert {\n",
              "      background-color: #E8F0FE;\n",
              "      border: none;\n",
              "      border-radius: 50%;\n",
              "      cursor: pointer;\n",
              "      display: none;\n",
              "      fill: #1967D2;\n",
              "      height: 32px;\n",
              "      padding: 0 0 0 0;\n",
              "      width: 32px;\n",
              "    }\n",
              "\n",
              "    .colab-df-convert:hover {\n",
              "      background-color: #E2EBFA;\n",
              "      box-shadow: 0px 1px 2px rgba(60, 64, 67, 0.3), 0px 1px 3px 1px rgba(60, 64, 67, 0.15);\n",
              "      fill: #174EA6;\n",
              "    }\n",
              "\n",
              "    .colab-df-buttons div {\n",
              "      margin-bottom: 4px;\n",
              "    }\n",
              "\n",
              "    [theme=dark] .colab-df-convert {\n",
              "      background-color: #3B4455;\n",
              "      fill: #D2E3FC;\n",
              "    }\n",
              "\n",
              "    [theme=dark] .colab-df-convert:hover {\n",
              "      background-color: #434B5C;\n",
              "      box-shadow: 0px 1px 3px 1px rgba(0, 0, 0, 0.15);\n",
              "      filter: drop-shadow(0px 1px 2px rgba(0, 0, 0, 0.3));\n",
              "      fill: #FFFFFF;\n",
              "    }\n",
              "  </style>\n",
              "\n",
              "    <script>\n",
              "      const buttonEl =\n",
              "        document.querySelector('#df-7909e65b-bd19-4edd-9ace-d6189596eedb button.colab-df-convert');\n",
              "      buttonEl.style.display =\n",
              "        google.colab.kernel.accessAllowed ? 'block' : 'none';\n",
              "\n",
              "      async function convertToInteractive(key) {\n",
              "        const element = document.querySelector('#df-7909e65b-bd19-4edd-9ace-d6189596eedb');\n",
              "        const dataTable =\n",
              "          await google.colab.kernel.invokeFunction('convertToInteractive',\n",
              "                                                    [key], {});\n",
              "        if (!dataTable) return;\n",
              "\n",
              "        const docLinkHtml = 'Like what you see? Visit the ' +\n",
              "          '<a target=\"_blank\" href=https://colab.research.google.com/notebooks/data_table.ipynb>data table notebook</a>'\n",
              "          + ' to learn more about interactive tables.';\n",
              "        element.innerHTML = '';\n",
              "        dataTable['output_type'] = 'display_data';\n",
              "        await google.colab.output.renderOutput(dataTable, element);\n",
              "        const docLink = document.createElement('div');\n",
              "        docLink.innerHTML = docLinkHtml;\n",
              "        element.appendChild(docLink);\n",
              "      }\n",
              "    </script>\n",
              "  </div>\n",
              "\n",
              "\n",
              "<div id=\"df-001ce12a-0378-44bb-b8c9-0b7fdef7cfe5\">\n",
              "  <button class=\"colab-df-quickchart\" onclick=\"quickchart('df-001ce12a-0378-44bb-b8c9-0b7fdef7cfe5')\"\n",
              "            title=\"Suggest charts\"\n",
              "            style=\"display:none;\">\n",
              "\n",
              "<svg xmlns=\"http://www.w3.org/2000/svg\" height=\"24px\"viewBox=\"0 0 24 24\"\n",
              "     width=\"24px\">\n",
              "    <g>\n",
              "        <path d=\"M19 3H5c-1.1 0-2 .9-2 2v14c0 1.1.9 2 2 2h14c1.1 0 2-.9 2-2V5c0-1.1-.9-2-2-2zM9 17H7v-7h2v7zm4 0h-2V7h2v10zm4 0h-2v-4h2v4z\"/>\n",
              "    </g>\n",
              "</svg>\n",
              "  </button>\n",
              "\n",
              "<style>\n",
              "  .colab-df-quickchart {\n",
              "      --bg-color: #E8F0FE;\n",
              "      --fill-color: #1967D2;\n",
              "      --hover-bg-color: #E2EBFA;\n",
              "      --hover-fill-color: #174EA6;\n",
              "      --disabled-fill-color: #AAA;\n",
              "      --disabled-bg-color: #DDD;\n",
              "  }\n",
              "\n",
              "  [theme=dark] .colab-df-quickchart {\n",
              "      --bg-color: #3B4455;\n",
              "      --fill-color: #D2E3FC;\n",
              "      --hover-bg-color: #434B5C;\n",
              "      --hover-fill-color: #FFFFFF;\n",
              "      --disabled-bg-color: #3B4455;\n",
              "      --disabled-fill-color: #666;\n",
              "  }\n",
              "\n",
              "  .colab-df-quickchart {\n",
              "    background-color: var(--bg-color);\n",
              "    border: none;\n",
              "    border-radius: 50%;\n",
              "    cursor: pointer;\n",
              "    display: none;\n",
              "    fill: var(--fill-color);\n",
              "    height: 32px;\n",
              "    padding: 0;\n",
              "    width: 32px;\n",
              "  }\n",
              "\n",
              "  .colab-df-quickchart:hover {\n",
              "    background-color: var(--hover-bg-color);\n",
              "    box-shadow: 0 1px 2px rgba(60, 64, 67, 0.3), 0 1px 3px 1px rgba(60, 64, 67, 0.15);\n",
              "    fill: var(--button-hover-fill-color);\n",
              "  }\n",
              "\n",
              "  .colab-df-quickchart-complete:disabled,\n",
              "  .colab-df-quickchart-complete:disabled:hover {\n",
              "    background-color: var(--disabled-bg-color);\n",
              "    fill: var(--disabled-fill-color);\n",
              "    box-shadow: none;\n",
              "  }\n",
              "\n",
              "  .colab-df-spinner {\n",
              "    border: 2px solid var(--fill-color);\n",
              "    border-color: transparent;\n",
              "    border-bottom-color: var(--fill-color);\n",
              "    animation:\n",
              "      spin 1s steps(1) infinite;\n",
              "  }\n",
              "\n",
              "  @keyframes spin {\n",
              "    0% {\n",
              "      border-color: transparent;\n",
              "      border-bottom-color: var(--fill-color);\n",
              "      border-left-color: var(--fill-color);\n",
              "    }\n",
              "    20% {\n",
              "      border-color: transparent;\n",
              "      border-left-color: var(--fill-color);\n",
              "      border-top-color: var(--fill-color);\n",
              "    }\n",
              "    30% {\n",
              "      border-color: transparent;\n",
              "      border-left-color: var(--fill-color);\n",
              "      border-top-color: var(--fill-color);\n",
              "      border-right-color: var(--fill-color);\n",
              "    }\n",
              "    40% {\n",
              "      border-color: transparent;\n",
              "      border-right-color: var(--fill-color);\n",
              "      border-top-color: var(--fill-color);\n",
              "    }\n",
              "    60% {\n",
              "      border-color: transparent;\n",
              "      border-right-color: var(--fill-color);\n",
              "    }\n",
              "    80% {\n",
              "      border-color: transparent;\n",
              "      border-right-color: var(--fill-color);\n",
              "      border-bottom-color: var(--fill-color);\n",
              "    }\n",
              "    90% {\n",
              "      border-color: transparent;\n",
              "      border-bottom-color: var(--fill-color);\n",
              "    }\n",
              "  }\n",
              "</style>\n",
              "\n",
              "  <script>\n",
              "    async function quickchart(key) {\n",
              "      const quickchartButtonEl =\n",
              "        document.querySelector('#' + key + ' button');\n",
              "      quickchartButtonEl.disabled = true;  // To prevent multiple clicks.\n",
              "      quickchartButtonEl.classList.add('colab-df-spinner');\n",
              "      try {\n",
              "        const charts = await google.colab.kernel.invokeFunction(\n",
              "            'suggestCharts', [key], {});\n",
              "      } catch (error) {\n",
              "        console.error('Error during call to suggestCharts:', error);\n",
              "      }\n",
              "      quickchartButtonEl.classList.remove('colab-df-spinner');\n",
              "      quickchartButtonEl.classList.add('colab-df-quickchart-complete');\n",
              "    }\n",
              "    (() => {\n",
              "      let quickchartButtonEl =\n",
              "        document.querySelector('#df-001ce12a-0378-44bb-b8c9-0b7fdef7cfe5 button');\n",
              "      quickchartButtonEl.style.display =\n",
              "        google.colab.kernel.accessAllowed ? 'block' : 'none';\n",
              "    })();\n",
              "  </script>\n",
              "</div>\n",
              "    </div>\n",
              "  </div>\n"
            ],
            "text/plain": [
              "  Session                                           Sentence  \\\n",
              "0       2                 Turn it off.  It's driving me mad.   \n",
              "1       3  Augie, Goddamn it, don't ask me that. You alwa...   \n",
              "2       3  What? There- There's hundreds of thousands of ...   \n",
              "3       4  Really, you don't work for anybody.  It's just...   \n",
              "4       3           That's a nice point of view, I must say.   \n",
              "\n",
              "                                            wav_path emotion  \\\n",
              "0  IEMOCAP_full_release/Session2/sentences/wav/Se...     ang   \n",
              "1  IEMOCAP_full_release/Session3/sentences/wav/Se...     ang   \n",
              "2  IEMOCAP_full_release/Session3/sentences/wav/Se...     ang   \n",
              "3  IEMOCAP_full_release/Session4/sentences/wav/Se...     ang   \n",
              "4  IEMOCAP_full_release/Session3/sentences/wav/Se...     ang   \n",
              "\n",
              "                                          Clean_Text  label  \n",
              "0                             Turn off. driving mad.      0  \n",
              "1  Augie, Goddamn it, ask that. ask that. ask tha...      0  \n",
              "2  What? There- There's hundreds thousands dollar...      0  \n",
              "3                         Really, work anybody. you?      0  \n",
              "4                       That's nice point view, say.      0  "
            ]
          },
          "execution_count": 11,
          "metadata": {},
          "output_type": "execute_result"
        }
      ],
      "source": [
        "balanced_data.head()"
      ]
    },
    {
      "cell_type": "code",
      "execution_count": null,
      "metadata": {
        "id": "VRVftUNXlR48"
      },
      "outputs": [],
      "source": [
        "#Session 1,2,3,4 for train, 5 for test\n",
        "#train_data = balanced_data[balanced_data['Session'].isin(['1', '2', '3', '4'])]\n",
        "#test_data = balanced_data[balanced_data['Session'] == '5']"
      ]
    },
    {
      "cell_type": "code",
      "execution_count": null,
      "metadata": {
        "id": "WtWGIH9aAkZc"
      },
      "outputs": [],
      "source": [
        "train_data, test_data = train_test_split(balanced_data, test_size=0.2, random_state=42)"
      ]
    },
    {
      "cell_type": "code",
      "execution_count": null,
      "metadata": {
        "colab": {
          "base_uri": "https://localhost:8080/"
        },
        "id": "ifsU8w37lTkB",
        "outputId": "b118b7de-18db-4a1c-b700-c5ef161b5e6f"
      },
      "outputs": [
        {
          "data": {
            "text/plain": [
              "neu    880\n",
              "sad    875\n",
              "hap    863\n",
              "ang    850\n",
              "Name: emotion, dtype: int64"
            ]
          },
          "execution_count": 14,
          "metadata": {},
          "output_type": "execute_result"
        }
      ],
      "source": [
        "train_data.emotion.value_counts()"
      ]
    },
    {
      "cell_type": "code",
      "execution_count": null,
      "metadata": {
        "id": "hXMoieZ3lazg"
      },
      "outputs": [],
      "source": [
        "# Step 1: Text Data Processing\n",
        "tfidf_vectorizer = TfidfVectorizer()\n",
        "X_train_text = tfidf_vectorizer.fit_transform(train_data['Clean_Text'])\n",
        "X_test_text = tfidf_vectorizer.transform(test_data['Clean_Text'])"
      ]
    },
    {
      "cell_type": "markdown",
      "metadata": {
        "id": "qMJEGowuX4ht"
      },
      "source": [
        "#2- Audio data pre-processing"
      ]
    },
    {
      "cell_type": "code",
      "execution_count": null,
      "metadata": {
        "id": "bo9IMHyqlVMp"
      },
      "outputs": [],
      "source": [
        "#Functions for Pre-processing of .wav files\n",
        "\n",
        "def get_wav(path):\n",
        "    '''returns the signal as a tensor + the sample rate'''\n",
        "    x, sr = librosa.load(path, sr=16000)\n",
        "    return x, sr\n",
        "\n",
        "def extract_mfcc(audio_data, sample_rate):\n",
        "    # Extract MFCC (Mel-frequency cepstral coefficients) features\n",
        "    mfccs = librosa.feature.mfcc(y=audio_data, sr=sample_rate, n_mfcc=13)\n",
        "\n",
        "    # Calculate the mean of MFCC coefficients across time\n",
        "    mfccs_mean = np.mean(mfccs, axis=1)\n",
        "\n",
        "    # Calculate the standard deviation of MFCC coefficients across time\n",
        "    mfccs_std = np.std(mfccs, axis=1)\n",
        "\n",
        "    # Concatenate mean and standard deviation to create feature vector\n",
        "    audio_features = np.concatenate((mfccs_mean, mfccs_std)) #shape (26,)\n",
        "\n",
        "    return audio_features"
      ]
    },
    {
      "cell_type": "code",
      "execution_count": null,
      "metadata": {
        "colab": {
          "base_uri": "https://localhost:8080/"
        },
        "id": "L5P9C9yPldCr",
        "outputId": "3f93175a-10ff-4a35-ec94-c8504b14b8c2"
      },
      "outputs": [
        {
          "data": {
            "text/plain": [
              "neu    880\n",
              "sad    875\n",
              "hap    863\n",
              "ang    850\n",
              "Name: emotion, dtype: int64"
            ]
          },
          "execution_count": 17,
          "metadata": {},
          "output_type": "execute_result"
        }
      ],
      "source": [
        "train_data.emotion.value_counts()"
      ]
    },
    {
      "cell_type": "code",
      "execution_count": null,
      "metadata": {
        "colab": {
          "background_save": true
        },
        "id": "fptjzbihyChJ"
      },
      "outputs": [],
      "source": [
        "#Step 2 : Audio data Processing\n",
        "root_path = '/content/gdrive/MyDrive/IEMOCAP_full_release_withoutVideos_sentenceOnly/'\n",
        "\n",
        "X_train_audio = []\n",
        "X_test_audio = []\n",
        "train_labels = []\n",
        "test_labels = []\n",
        "for index, row in train_data.iterrows():\n",
        "\n",
        "    # Audio data\n",
        "    x, sr = get_wav(os.path.join(root_path, row['wav_path']))\n",
        "    # Extract mfcc from audio data\n",
        "    audio_features = extract_mfcc(x, sr)\n",
        "    # Get emotion label\n",
        "    _, file_name = os.path.split(row['wav_path'])\n",
        "    annot_file = os.path.join(root_path, 'IEMOCAP_full_release',\n",
        "                              'Session'+str(row['Session']),\n",
        "                              'dialog', 'EmoEvaluation',\n",
        "                              file_name[:-9] + '.txt')\n",
        "    emo, _ = get_labels(annot_file, file_name[:-4])\n",
        "    if emo != 'exc':\n",
        "    # Append features and labels\n",
        "      X_train_audio.append(audio_features)\n",
        "      train_labels.append(emo)\n",
        "    if emo == 'exc':\n",
        "      X_train_audio.append(audio_features)\n",
        "      train_labels.append('hap')\n",
        "\n",
        "\n",
        "#test data\n",
        "for index, row in test_data.iterrows():\n",
        "    # Audio data\n",
        "    x, sr = get_wav(os.path.join(root_path, row['wav_path']))\n",
        "    # Extract mfcc from audio data\n",
        "    audio_features = extract_mfcc(x, sr)\n",
        "\n",
        "    # Get emotion label\n",
        "    _, file_name = os.path.split(row['wav_path'])\n",
        "    annot_file = os.path.join(root_path, 'IEMOCAP_full_release',\n",
        "                              'Session'+str(row['Session']),\n",
        "                              'dialog', 'EmoEvaluation',\n",
        "                              file_name[:-9] + '.txt')\n",
        "    emo, _ = get_labels(annot_file, file_name[:-4])\n",
        "\n",
        "    # Append features and labels\n",
        "    if emo == 'exc':\n",
        "      X_test_audio.append(audio_features)\n",
        "      test_labels.append('hap')\n",
        "    if emo != 'exc':\n",
        "      X_test_audio.append(audio_features)\n",
        "      test_labels.append(emo)"
      ]
    },
    {
      "cell_type": "code",
      "execution_count": null,
      "metadata": {
        "colab": {
          "background_save": true
        },
        "id": "PFVqY9-qtfX9",
        "outputId": "c3b0212a-b4e6-4447-dabf-6514f6b2b0c5"
      },
      "outputs": [
        {
          "name": "stdout",
          "output_type": "stream",
          "text": [
            "3468\n",
            "(3468, 2226)\n"
          ]
        }
      ],
      "source": [
        "print(len(X_train_audio))\n",
        "print(X_train_text.shape)\n"
      ]
    },
    {
      "cell_type": "markdown",
      "metadata": {
        "id": "rO5T6MVj9FtL"
      },
      "source": [
        "#Merging the 2 modalities (Audio & Text)"
      ]
    },
    {
      "cell_type": "markdown",
      "metadata": {
        "id": "HjBBfTSu9w6U"
      },
      "source": [
        "##Classifier 1: Logistic regression"
      ]
    },
    {
      "cell_type": "code",
      "execution_count": 21,
      "metadata": {
        "colab": {
          "base_uri": "https://localhost:8080/"
        },
        "id": "vX3Ix_M09HwX",
        "outputId": "c59ccc25-6f9e-4bf6-8a1f-2f77044d769f"
      },
      "outputs": [
        {
          "output_type": "stream",
          "name": "stdout",
          "text": [
            "Combined model accuracy: 0.7512\n"
          ]
        },
        {
          "output_type": "stream",
          "name": "stderr",
          "text": [
            "/usr/local/lib/python3.10/dist-packages/sklearn/linear_model/_logistic.py:458: ConvergenceWarning: lbfgs failed to converge (status=1):\n",
            "STOP: TOTAL NO. of ITERATIONS REACHED LIMIT.\n",
            "\n",
            "Increase the number of iterations (max_iter) or scale the data as shown in:\n",
            "    https://scikit-learn.org/stable/modules/preprocessing.html\n",
            "Please also refer to the documentation for alternative solver options:\n",
            "    https://scikit-learn.org/stable/modules/linear_model.html#logistic-regression\n",
            "  n_iter_i = _check_optimize_result(\n"
          ]
        }
      ],
      "source": [
        "from scipy.sparse import hstack\n",
        "\n",
        "# Combine features\n",
        "X_train_combined = hstack((X_train_audio, X_train_text))\n",
        "\n",
        "# Logistic Regression for combined features\n",
        "combined_model = LogisticRegression(max_iter=10000)\n",
        "combined_model.fit(X_train_combined, train_labels)\n",
        "\n",
        "# Evaluate the model\n",
        "X_test_combined = hstack((X_test_audio, X_test_text))\n",
        "predictions_combined_lr = combined_model.predict(X_test_combined)\n",
        "accuracy_combined = accuracy_score(test_labels, predictions_combined_lr)\n",
        "print(f'Combined model accuracy: {accuracy_combined:.4f}')"
      ]
    },
    {
      "cell_type": "code",
      "execution_count": 22,
      "metadata": {
        "colab": {
          "base_uri": "https://localhost:8080/",
          "height": 564
        },
        "id": "Enq48uUoZaHw",
        "outputId": "df7d54d3-1f6e-474c-d368-ec5f1bb3ee86"
      },
      "outputs": [
        {
          "output_type": "display_data",
          "data": {
            "text/plain": [
              "<Figure size 800x600 with 2 Axes>"
            ],
            "image/png": "[encoded data removed]"
          },
          "metadata": {}
        }
      ],
      "source": [
        "#Corresponding confusion matrix\n",
        "conf_matrix = confusion_matrix(test_labels, predictions_combined_lr)\n",
        "# Normalize confusion matrix\n",
        "conf_matrix_norm = conf_matrix.astype('float') / conf_matrix.sum(axis=1)[:, np.newaxis]\n",
        "# Plot the matrix\n",
        "plt.figure(figsize=(8, 6))\n",
        "sns.heatmap(conf_matrix_norm, annot=True, fmt=\".2f\", cmap=\"Blues\",\n",
        "            xticklabels=np.unique(test_labels),\n",
        "            yticklabels=np.unique(test_labels))\n",
        "plt.title(\"Confusion Matrix (LR)\")\n",
        "plt.xlabel(\"Predicted Label\")\n",
        "plt.ylabel(\"True Label\")\n",
        "plt.show()"
      ]
    },
    {
      "cell_type": "markdown",
      "metadata": {
        "id": "TeOYJ5z29znc"
      },
      "source": [
        "##Classifier 2 : MLP"
      ]
    },
    {
      "cell_type": "code",
      "execution_count": 23,
      "metadata": {
        "colab": {
          "base_uri": "https://localhost:8080/"
        },
        "id": "xdij4rcl9y9Q",
        "outputId": "fc8ed470-87a4-4e91-e221-d8c5507e790b"
      },
      "outputs": [
        {
          "output_type": "stream",
          "name": "stdout",
          "text": [
            "Combined model accuracy: 0.7385\n"
          ]
        },
        {
          "output_type": "stream",
          "name": "stderr",
          "text": [
            "/usr/local/lib/python3.10/dist-packages/sklearn/neural_network/_multilayer_perceptron.py:686: ConvergenceWarning: Stochastic Optimizer: Maximum iterations (100) reached and the optimization hasn't converged yet.\n",
            "  warnings.warn(\n"
          ]
        }
      ],
      "source": [
        "mlp_classif = MLPClassifier(hidden_layer_sizes=(32, 16, 8), activation='relu', solver='adam',\n",
        "                               max_iter=100, tol=1e-4, random_state=42)\n",
        "mlp_classif.fit(X_train_combined, train_labels)\n",
        "\n",
        "# Evaluate the model\n",
        "X_test_combined = hstack((X_test_audio, X_test_text))\n",
        "predictions_combined_mlp = mlp_classif.predict(X_test_combined)\n",
        "accuracy_combined = accuracy_score(test_labels, predictions_combined_mlp)\n",
        "print(f'Combined model accuracy: {accuracy_combined:.4f}')"
      ]
    },
    {
      "cell_type": "code",
      "execution_count": 24,
      "metadata": {
        "colab": {
          "base_uri": "https://localhost:8080/",
          "height": 564
        },
        "id": "xuF10HsVA50I",
        "outputId": "1166f25c-b869-472a-b129-87fa46212745"
      },
      "outputs": [
        {
          "output_type": "display_data",
          "data": {
            "text/plain": [
              "<Figure size 800x600 with 2 Axes>"
            ],
            "image/png": "[encoded data removed]"
          },
          "metadata": {}
        }
      ],
      "source": [
        "#Corresponding confusion matrix\n",
        "conf_matrix = confusion_matrix(test_labels, predictions_combined_mlp)\n",
        "# Normalize confusion matrix\n",
        "conf_matrix_norm = conf_matrix.astype('float') / conf_matrix.sum(axis=1)[:, np.newaxis]\n",
        "# Plot the matrix\n",
        "plt.figure(figsize=(8, 6))\n",
        "sns.heatmap(conf_matrix_norm, annot=True, fmt=\".2f\", cmap=\"Blues\",\n",
        "            xticklabels=np.unique(test_labels),\n",
        "            yticklabels=np.unique(test_labels))\n",
        "plt.title(\"Confusion Matrix (MLP)\")\n",
        "plt.xlabel(\"Predicted Label\")\n",
        "plt.ylabel(\"True Label\")\n",
        "plt.show()"
      ]
    },
    {
      "cell_type": "markdown",
      "metadata": {
        "id": "SIUrZXCUaaEQ"
      },
      "source": [
        "##Classifier 3 : Random Forest"
      ]
    },
    {
      "cell_type": "code",
      "execution_count": 25,
      "metadata": {
        "colab": {
          "base_uri": "https://localhost:8080/"
        },
        "id": "gRmWGau7-taB",
        "outputId": "f8f151bc-d947-49e5-83a2-433b372741fa"
      },
      "outputs": [
        {
          "output_type": "stream",
          "name": "stdout",
          "text": [
            "Combined model accuracy: 0.6901\n"
          ]
        }
      ],
      "source": [
        "rf_classif = RandomForestClassifier(n_estimators=3000)\n",
        "rf_classif.fit(X_train_combined, train_labels)\n",
        "\n",
        "# Evaluate the model\n",
        "X_test_combined = hstack((X_test_audio, X_test_text))\n",
        "predictions_combined = rf_classif.predict(X_test_combined)\n",
        "accuracy_combined = accuracy_score(test_labels, predictions_combined)\n",
        "print(f'Combined model accuracy: {accuracy_combined:.4f}')"
      ]
    },
    {
      "cell_type": "markdown",
      "metadata": {
        "id": "uGKhDrmEAWzA"
      },
      "source": [
        "##Classifier 4 : Gradient boost"
      ]
    },
    {
      "cell_type": "code",
      "execution_count": 26,
      "metadata": {
        "colab": {
          "base_uri": "https://localhost:8080/"
        },
        "id": "-w2_i1fFAX1P",
        "outputId": "1a8575f7-6c1a-499e-df69-7e851186a7e5"
      },
      "outputs": [
        {
          "output_type": "stream",
          "name": "stdout",
          "text": [
            "Combined model accuracy: 0.7362\n"
          ]
        }
      ],
      "source": [
        "from sklearn.ensemble import GradientBoostingClassifier\n",
        "from sklearn.metrics import accuracy_score\n",
        "\n",
        "# Initialize Gradient Boosting Classifier\n",
        "gb_classif = GradientBoostingClassifier(n_estimators=1800)\n",
        "\n",
        "# Fit the model\n",
        "gb_classif.fit(X_train_combined, train_labels)\n",
        "# Make predictions\n",
        "predictions_combined_gb = gb_classif.predict(X_test_combined)\n",
        "# Evaluate the model\n",
        "accuracy_combined = accuracy_score(test_labels, predictions_combined_gb)\n",
        "print(f'Combined model accuracy: {accuracy_combined:.4f}')\n"
      ]
    },
    {
      "cell_type": "code",
      "execution_count": 27,
      "metadata": {
        "id": "DJmWSo_oaqIm",
        "colab": {
          "base_uri": "https://localhost:8080/",
          "height": 564
        },
        "outputId": "cc88314f-4585-4a66-c80a-469f1789f73a"
      },
      "outputs": [
        {
          "output_type": "display_data",
          "data": {
            "text/plain": [
              "<Figure size 800x600 with 2 Axes>"
            ],
            "image/png": "[encoded data removed]"
          },
          "metadata": {}
        }
      ],
      "source": [
        "#Corresponding confusion matrix\n",
        "conf_matrix = confusion_matrix(test_labels, predictions_combined_gb)\n",
        "# Normalize confusion matrix\n",
        "conf_matrix_norm = conf_matrix.astype('float') / conf_matrix.sum(axis=1)[:, np.newaxis]\n",
        "# Plot the matrix\n",
        "plt.figure(figsize=(8, 6))\n",
        "sns.heatmap(conf_matrix_norm, annot=True, fmt=\".2f\", cmap=\"Blues\",\n",
        "            xticklabels=np.unique(test_labels),\n",
        "            yticklabels=np.unique(test_labels))\n",
        "plt.title(\"Confusion Matrix (gb)\")\n",
        "plt.xlabel(\"Predicted Label\")\n",
        "plt.ylabel(\"True Label\")\n",
        "plt.show()"
      ]
    }
  ],
  "metadata": {
    "colab": {
      "toc_visible": true,
      "provenance": [],
      "authorship_tag": "ABX9TyMczz9XrZAU0ZEI6NY1KbOr",
      "include_colab_link": true
    },
    "kernelspec": {
      "display_name": "Python 3",
      "name": "python3"
    },
    "language_info": {
      "name": "python"
    }
  },
  "nbformat": 4,
  "nbformat_minor": 0
}