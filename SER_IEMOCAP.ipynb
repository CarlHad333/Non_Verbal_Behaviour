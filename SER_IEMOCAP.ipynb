{
  "nbformat": 4,
  "nbformat_minor": 0,
  "metadata": {
    "colab": {
      "provenance": [],
      "authorship_tag": "ABX9TyNv9avpyG9Teaw7DdDmTTrT",
      "include_colab_link": true
    },
    "kernelspec": {
      "name": "python3",
      "display_name": "Python 3"
    },
    "language_info": {
      "name": "python"
    }
  },
  "cells": [
    {
      "cell_type": "markdown",
      "metadata": {
        "id": "view-in-github",
        "colab_type": "text"
      },
      "source": [
        "<a href=\"https://colab.research.google.com/github/CarlHad333/Non_Verbal_Behaviour/blob/main/SER_IEMOCAP.ipynb\" target=\"_parent\"><img src=\"https://colab.research.google.com/assets/colab-badge.svg\" alt=\"Open In Colab\"/></a>"
      ]
    },
    {
      "cell_type": "markdown",
      "source": [
        "#Modality : Speech\n",
        "- **Features**: MFCC coefficients\n",
        "- **Classifier** : Logistic regression\n",
        "- **Emotions** : neu, and, hap, sad\n"
      ],
      "metadata": {
        "id": "Q2X5G318ox-X"
      }
    },
    {
      "cell_type": "code",
      "execution_count": 1,
      "metadata": {
        "colab": {
          "base_uri": "https://localhost:8080/"
        },
        "id": "jJw0xgSGoXHv",
        "outputId": "8e6320fa-a5cf-4474-def9-81fbd9fe8890"
      },
      "outputs": [
        {
          "output_type": "stream",
          "name": "stdout",
          "text": [
            "Mounted at /content/gdrive\n"
          ]
        }
      ],
      "source": [
        "from google.colab import drive\n",
        "drive.mount('/content/gdrive')"
      ]
    },
    {
      "cell_type": "code",
      "source": [
        "#importing necessary packages\n",
        "import numpy as np\n",
        "import pandas as pd\n",
        "import os\n",
        "import pandas\n",
        "import librosa\n",
        "from sklearn.linear_model import LogisticRegression\n",
        "from sklearn.metrics import accuracy_score\n",
        "from sklearn.metrics import confusion_matrix\n",
        "from sklearn.preprocessing import LabelEncoder\n",
        "from sklearn.pipeline import Pipeline\n",
        "from sklearn.model_selection import train_test_split\n",
        "from transformers import AutoTokenizer, AutoModel"
      ],
      "metadata": {
        "id": "q_7-9PrzpTKt"
      },
      "execution_count": 2,
      "outputs": []
    },
    {
      "cell_type": "code",
      "source": [
        "def get_labels(annot_file, file_name):\n",
        "\n",
        "    f = open(annot_file, 'r').read()\n",
        "    f = f.split('\\n')\n",
        "    f = f[2:]\n",
        "\n",
        "    for data in f:\n",
        "\n",
        "        if len(data) > 0:\n",
        "            if data[0] == '[':\n",
        "                data2 = data.split('\\t')\n",
        "\n",
        "                if data2[1] == file_name:\n",
        "                    emo = data2[2]\n",
        "                    vad = data2[3][1:-1].split(', ')\n",
        "                    return emo, [float(x) for x in vad]\n",
        "\n",
        "    raise ValueError('Label not found')\n",
        "def get_wav(path):\n",
        "    '''returns the signal as a tensor + the sample rate'''\n",
        "    x, sr = librosa.load(path, sr=16000)\n",
        "    return x, sr"
      ],
      "metadata": {
        "id": "dJpxgdPLpbSk"
      },
      "execution_count": 3,
      "outputs": []
    },
    {
      "cell_type": "code",
      "source": [
        "root_path = '/content/gdrive/MyDrive/IEMOCAP_full_release_withoutVideos_sentenceOnly'\n",
        "\n",
        "df = pandas.read_csv(os.path.join(root_path, 'iemocap.csv'))\n",
        "\n",
        "display(df.head())"
      ],
      "metadata": {
        "colab": {
          "base_uri": "https://localhost:8080/",
          "height": 243
        },
        "id": "8ZIu54MRpjAm",
        "outputId": "85b595e0-427c-4fb9-839f-a17dcc05e8c9"
      },
      "execution_count": 4,
      "outputs": [
        {
          "output_type": "display_data",
          "data": {
            "text/plain": [
              "   Unnamed: 0  session  method gender  n_annotators  agreement emotion  \\\n",
              "0           0        1  script      F             3          3     neu   \n",
              "1           1        1  script      F             3          2     fru   \n",
              "2           2        1  script      F             0          0     xxx   \n",
              "3           3        1  script      F             3          2     sur   \n",
              "4           4        1  script      F             3          2     neu   \n",
              "\n",
              "   valence  activation  dominance  \\\n",
              "0      2.5         2.0        2.0   \n",
              "1      2.5         2.0        2.5   \n",
              "2      2.0         2.0        2.5   \n",
              "3      2.5         3.0        3.0   \n",
              "4      2.0         3.0        3.0   \n",
              "\n",
              "                                            wav_path  \\\n",
              "0  IEMOCAP_full_release/Session1/sentences/wav/Se...   \n",
              "1  IEMOCAP_full_release/Session1/sentences/wav/Se...   \n",
              "2  IEMOCAP_full_release/Session1/sentences/wav/Se...   \n",
              "3  IEMOCAP_full_release/Session1/sentences/wav/Se...   \n",
              "4  IEMOCAP_full_release/Session1/sentences/wav/Se...   \n",
              "\n",
              "                                  MOCAP_rotated_path  \\\n",
              "0  IEMOCAP_full_release/Session1/sentences/MOCAP_...   \n",
              "1  IEMOCAP_full_release/Session1/sentences/MOCAP_...   \n",
              "2  IEMOCAP_full_release/Session1/sentences/MOCAP_...   \n",
              "3  IEMOCAP_full_release/Session1/sentences/MOCAP_...   \n",
              "4  IEMOCAP_full_release/Session1/sentences/MOCAP_...   \n",
              "\n",
              "                                     MOCAP_head_path  \\\n",
              "0  IEMOCAP_full_release/Session1/sentences/MOCAP_...   \n",
              "1  IEMOCAP_full_release/Session1/sentences/MOCAP_...   \n",
              "2  IEMOCAP_full_release/Session1/sentences/MOCAP_...   \n",
              "3  IEMOCAP_full_release/Session1/sentences/MOCAP_...   \n",
              "4  IEMOCAP_full_release/Session1/sentences/MOCAP_...   \n",
              "\n",
              "                                     MOCAP_hand_path  \\\n",
              "0  IEMOCAP_full_release/Session1/sentences/MOCAP_...   \n",
              "1  IEMOCAP_full_release/Session1/sentences/MOCAP_...   \n",
              "2  IEMOCAP_full_release/Session1/sentences/MOCAP_...   \n",
              "3  IEMOCAP_full_release/Session1/sentences/MOCAP_...   \n",
              "4  IEMOCAP_full_release/Session1/sentences/MOCAP_...   \n",
              "\n",
              "                                          FA_ph_path  \\\n",
              "0  IEMOCAP_full_release/Session1/sentences/Forced...   \n",
              "1  IEMOCAP_full_release/Session1/sentences/Forced...   \n",
              "2  IEMOCAP_full_release/Session1/sentences/Forced...   \n",
              "3  IEMOCAP_full_release/Session1/sentences/Forced...   \n",
              "4  IEMOCAP_full_release/Session1/sentences/Forced...   \n",
              "\n",
              "                                          FA_st_path  \\\n",
              "0  IEMOCAP_full_release/Session1/sentences/Forced...   \n",
              "1  IEMOCAP_full_release/Session1/sentences/Forced...   \n",
              "2  IEMOCAP_full_release/Session1/sentences/Forced...   \n",
              "3  IEMOCAP_full_release/Session1/sentences/Forced...   \n",
              "4  IEMOCAP_full_release/Session1/sentences/Forced...   \n",
              "\n",
              "                                          FA_sy_path  \\\n",
              "0  IEMOCAP_full_release/Session1/sentences/Forced...   \n",
              "1  IEMOCAP_full_release/Session1/sentences/Forced...   \n",
              "2  IEMOCAP_full_release/Session1/sentences/Forced...   \n",
              "3  IEMOCAP_full_release/Session1/sentences/Forced...   \n",
              "4  IEMOCAP_full_release/Session1/sentences/Forced...   \n",
              "\n",
              "                                          FA_wd_path  \n",
              "0  IEMOCAP_full_release/Session1/sentences/Forced...  \n",
              "1  IEMOCAP_full_release/Session1/sentences/Forced...  \n",
              "2  IEMOCAP_full_release/Session1/sentences/Forced...  \n",
              "3  IEMOCAP_full_release/Session1/sentences/Forced...  \n",
              "4  IEMOCAP_full_release/Session1/sentences/Forced...  "
            ],
            "text/html": [
              "\n",
              "  <div id=\"df-ec15b3a6-1bb0-42ea-b94a-02df9aa7b22d\" class=\"colab-df-container\">\n",
              "    <div>\n",
              "<style scoped>\n",
              "    .dataframe tbody tr th:only-of-type {\n",
              "        vertical-align: middle;\n",
              "    }\n",
              "\n",
              "    .dataframe tbody tr th {\n",
              "        vertical-align: top;\n",
              "    }\n",
              "\n",
              "    .dataframe thead th {\n",
              "        text-align: right;\n",
              "    }\n",
              "</style>\n",
              "<table border=\"1\" class=\"dataframe\">\n",
              "  <thead>\n",
              "    <tr style=\"text-align: right;\">\n",
              "      <th></th>\n",
              "      <th>Unnamed: 0</th>\n",
              "      <th>session</th>\n",
              "      <th>method</th>\n",
              "      <th>gender</th>\n",
              "      <th>n_annotators</th>\n",
              "      <th>agreement</th>\n",
              "      <th>emotion</th>\n",
              "      <th>valence</th>\n",
              "      <th>activation</th>\n",
              "      <th>dominance</th>\n",
              "      <th>wav_path</th>\n",
              "      <th>MOCAP_rotated_path</th>\n",
              "      <th>MOCAP_head_path</th>\n",
              "      <th>MOCAP_hand_path</th>\n",
              "      <th>FA_ph_path</th>\n",
              "      <th>FA_st_path</th>\n",
              "      <th>FA_sy_path</th>\n",
              "      <th>FA_wd_path</th>\n",
              "    </tr>\n",
              "  </thead>\n",
              "  <tbody>\n",
              "    <tr>\n",
              "      <th>0</th>\n",
              "      <td>0</td>\n",
              "      <td>1</td>\n",
              "      <td>script</td>\n",
              "      <td>F</td>\n",
              "      <td>3</td>\n",
              "      <td>3</td>\n",
              "      <td>neu</td>\n",
              "      <td>2.5</td>\n",
              "      <td>2.0</td>\n",
              "      <td>2.0</td>\n",
              "      <td>IEMOCAP_full_release/Session1/sentences/wav/Se...</td>\n",
              "      <td>IEMOCAP_full_release/Session1/sentences/MOCAP_...</td>\n",
              "      <td>IEMOCAP_full_release/Session1/sentences/MOCAP_...</td>\n",
              "      <td>IEMOCAP_full_release/Session1/sentences/MOCAP_...</td>\n",
              "      <td>IEMOCAP_full_release/Session1/sentences/Forced...</td>\n",
              "      <td>IEMOCAP_full_release/Session1/sentences/Forced...</td>\n",
              "      <td>IEMOCAP_full_release/Session1/sentences/Forced...</td>\n",
              "      <td>IEMOCAP_full_release/Session1/sentences/Forced...</td>\n",
              "    </tr>\n",
              "    <tr>\n",
              "      <th>1</th>\n",
              "      <td>1</td>\n",
              "      <td>1</td>\n",
              "      <td>script</td>\n",
              "      <td>F</td>\n",
              "      <td>3</td>\n",
              "      <td>2</td>\n",
              "      <td>fru</td>\n",
              "      <td>2.5</td>\n",
              "      <td>2.0</td>\n",
              "      <td>2.5</td>\n",
              "      <td>IEMOCAP_full_release/Session1/sentences/wav/Se...</td>\n",
              "      <td>IEMOCAP_full_release/Session1/sentences/MOCAP_...</td>\n",
              "      <td>IEMOCAP_full_release/Session1/sentences/MOCAP_...</td>\n",
              "      <td>IEMOCAP_full_release/Session1/sentences/MOCAP_...</td>\n",
              "      <td>IEMOCAP_full_release/Session1/sentences/Forced...</td>\n",
              "      <td>IEMOCAP_full_release/Session1/sentences/Forced...</td>\n",
              "      <td>IEMOCAP_full_release/Session1/sentences/Forced...</td>\n",
              "      <td>IEMOCAP_full_release/Session1/sentences/Forced...</td>\n",
              "    </tr>\n",
              "    <tr>\n",
              "      <th>2</th>\n",
              "      <td>2</td>\n",
              "      <td>1</td>\n",
              "      <td>script</td>\n",
              "      <td>F</td>\n",
              "      <td>0</td>\n",
              "      <td>0</td>\n",
              "      <td>xxx</td>\n",
              "      <td>2.0</td>\n",
              "      <td>2.0</td>\n",
              "      <td>2.5</td>\n",
              "      <td>IEMOCAP_full_release/Session1/sentences/wav/Se...</td>\n",
              "      <td>IEMOCAP_full_release/Session1/sentences/MOCAP_...</td>\n",
              "      <td>IEMOCAP_full_release/Session1/sentences/MOCAP_...</td>\n",
              "      <td>IEMOCAP_full_release/Session1/sentences/MOCAP_...</td>\n",
              "      <td>IEMOCAP_full_release/Session1/sentences/Forced...</td>\n",
              "      <td>IEMOCAP_full_release/Session1/sentences/Forced...</td>\n",
              "      <td>IEMOCAP_full_release/Session1/sentences/Forced...</td>\n",
              "      <td>IEMOCAP_full_release/Session1/sentences/Forced...</td>\n",
              "    </tr>\n",
              "    <tr>\n",
              "      <th>3</th>\n",
              "      <td>3</td>\n",
              "      <td>1</td>\n",
              "      <td>script</td>\n",
              "      <td>F</td>\n",
              "      <td>3</td>\n",
              "      <td>2</td>\n",
              "      <td>sur</td>\n",
              "      <td>2.5</td>\n",
              "      <td>3.0</td>\n",
              "      <td>3.0</td>\n",
              "      <td>IEMOCAP_full_release/Session1/sentences/wav/Se...</td>\n",
              "      <td>IEMOCAP_full_release/Session1/sentences/MOCAP_...</td>\n",
              "      <td>IEMOCAP_full_release/Session1/sentences/MOCAP_...</td>\n",
              "      <td>IEMOCAP_full_release/Session1/sentences/MOCAP_...</td>\n",
              "      <td>IEMOCAP_full_release/Session1/sentences/Forced...</td>\n",
              "      <td>IEMOCAP_full_release/Session1/sentences/Forced...</td>\n",
              "      <td>IEMOCAP_full_release/Session1/sentences/Forced...</td>\n",
              "      <td>IEMOCAP_full_release/Session1/sentences/Forced...</td>\n",
              "    </tr>\n",
              "    <tr>\n",
              "      <th>4</th>\n",
              "      <td>4</td>\n",
              "      <td>1</td>\n",
              "      <td>script</td>\n",
              "      <td>F</td>\n",
              "      <td>3</td>\n",
              "      <td>2</td>\n",
              "      <td>neu</td>\n",
              "      <td>2.0</td>\n",
              "      <td>3.0</td>\n",
              "      <td>3.0</td>\n",
              "      <td>IEMOCAP_full_release/Session1/sentences/wav/Se...</td>\n",
              "      <td>IEMOCAP_full_release/Session1/sentences/MOCAP_...</td>\n",
              "      <td>IEMOCAP_full_release/Session1/sentences/MOCAP_...</td>\n",
              "      <td>IEMOCAP_full_release/Session1/sentences/MOCAP_...</td>\n",
              "      <td>IEMOCAP_full_release/Session1/sentences/Forced...</td>\n",
              "      <td>IEMOCAP_full_release/Session1/sentences/Forced...</td>\n",
              "      <td>IEMOCAP_full_release/Session1/sentences/Forced...</td>\n",
              "      <td>IEMOCAP_full_release/Session1/sentences/Forced...</td>\n",
              "    </tr>\n",
              "  </tbody>\n",
              "</table>\n",
              "</div>\n",
              "    <div class=\"colab-df-buttons\">\n",
              "\n",
              "  <div class=\"colab-df-container\">\n",
              "    <button class=\"colab-df-convert\" onclick=\"convertToInteractive('df-ec15b3a6-1bb0-42ea-b94a-02df9aa7b22d')\"\n",
              "            title=\"Convert this dataframe to an interactive table.\"\n",
              "            style=\"display:none;\">\n",
              "\n",
              "  <svg xmlns=\"http://www.w3.org/2000/svg\" height=\"24px\" viewBox=\"0 -960 960 960\">\n",
              "    <path d=\"M120-120v-720h720v720H120Zm60-500h600v-160H180v160Zm220 220h160v-160H400v160Zm0 220h160v-160H400v160ZM180-400h160v-160H180v160Zm440 0h160v-160H620v160ZM180-180h160v-160H180v160Zm440 0h160v-160H620v160Z\"/>\n",
              "  </svg>\n",
              "    </button>\n",
              "\n",
              "  <style>\n",
              "    .colab-df-container {\n",
              "      display:flex;\n",
              "      gap: 12px;\n",
              "    }\n",
              "\n",
              "    .colab-df-convert {\n",
              "      background-color: #E8F0FE;\n",
              "      border: none;\n",
              "      border-radius: 50%;\n",
              "      cursor: pointer;\n",
              "      display: none;\n",
              "      fill: #1967D2;\n",
              "      height: 32px;\n",
              "      padding: 0 0 0 0;\n",
              "      width: 32px;\n",
              "    }\n",
              "\n",
              "    .colab-df-convert:hover {\n",
              "      background-color: #E2EBFA;\n",
              "      box-shadow: 0px 1px 2px rgba(60, 64, 67, 0.3), 0px 1px 3px 1px rgba(60, 64, 67, 0.15);\n",
              "      fill: #174EA6;\n",
              "    }\n",
              "\n",
              "    .colab-df-buttons div {\n",
              "      margin-bottom: 4px;\n",
              "    }\n",
              "\n",
              "    [theme=dark] .colab-df-convert {\n",
              "      background-color: #3B4455;\n",
              "      fill: #D2E3FC;\n",
              "    }\n",
              "\n",
              "    [theme=dark] .colab-df-convert:hover {\n",
              "      background-color: #434B5C;\n",
              "      box-shadow: 0px 1px 3px 1px rgba(0, 0, 0, 0.15);\n",
              "      filter: drop-shadow(0px 1px 2px rgba(0, 0, 0, 0.3));\n",
              "      fill: #FFFFFF;\n",
              "    }\n",
              "  </style>\n",
              "\n",
              "    <script>\n",
              "      const buttonEl =\n",
              "        document.querySelector('#df-ec15b3a6-1bb0-42ea-b94a-02df9aa7b22d button.colab-df-convert');\n",
              "      buttonEl.style.display =\n",
              "        google.colab.kernel.accessAllowed ? 'block' : 'none';\n",
              "\n",
              "      async function convertToInteractive(key) {\n",
              "        const element = document.querySelector('#df-ec15b3a6-1bb0-42ea-b94a-02df9aa7b22d');\n",
              "        const dataTable =\n",
              "          await google.colab.kernel.invokeFunction('convertToInteractive',\n",
              "                                                    [key], {});\n",
              "        if (!dataTable) return;\n",
              "\n",
              "        const docLinkHtml = 'Like what you see? Visit the ' +\n",
              "          '<a target=\"_blank\" href=https://colab.research.google.com/notebooks/data_table.ipynb>data table notebook</a>'\n",
              "          + ' to learn more about interactive tables.';\n",
              "        element.innerHTML = '';\n",
              "        dataTable['output_type'] = 'display_data';\n",
              "        await google.colab.output.renderOutput(dataTable, element);\n",
              "        const docLink = document.createElement('div');\n",
              "        docLink.innerHTML = docLinkHtml;\n",
              "        element.appendChild(docLink);\n",
              "      }\n",
              "    </script>\n",
              "  </div>\n",
              "\n",
              "\n",
              "<div id=\"df-25adb719-ab38-476b-a70a-57866a2deae8\">\n",
              "  <button class=\"colab-df-quickchart\" onclick=\"quickchart('df-25adb719-ab38-476b-a70a-57866a2deae8')\"\n",
              "            title=\"Suggest charts\"\n",
              "            style=\"display:none;\">\n",
              "\n",
              "<svg xmlns=\"http://www.w3.org/2000/svg\" height=\"24px\"viewBox=\"0 0 24 24\"\n",
              "     width=\"24px\">\n",
              "    <g>\n",
              "        <path d=\"M19 3H5c-1.1 0-2 .9-2 2v14c0 1.1.9 2 2 2h14c1.1 0 2-.9 2-2V5c0-1.1-.9-2-2-2zM9 17H7v-7h2v7zm4 0h-2V7h2v10zm4 0h-2v-4h2v4z\"/>\n",
              "    </g>\n",
              "</svg>\n",
              "  </button>\n",
              "\n",
              "<style>\n",
              "  .colab-df-quickchart {\n",
              "      --bg-color: #E8F0FE;\n",
              "      --fill-color: #1967D2;\n",
              "      --hover-bg-color: #E2EBFA;\n",
              "      --hover-fill-color: #174EA6;\n",
              "      --disabled-fill-color: #AAA;\n",
              "      --disabled-bg-color: #DDD;\n",
              "  }\n",
              "\n",
              "  [theme=dark] .colab-df-quickchart {\n",
              "      --bg-color: #3B4455;\n",
              "      --fill-color: #D2E3FC;\n",
              "      --hover-bg-color: #434B5C;\n",
              "      --hover-fill-color: #FFFFFF;\n",
              "      --disabled-bg-color: #3B4455;\n",
              "      --disabled-fill-color: #666;\n",
              "  }\n",
              "\n",
              "  .colab-df-quickchart {\n",
              "    background-color: var(--bg-color);\n",
              "    border: none;\n",
              "    border-radius: 50%;\n",
              "    cursor: pointer;\n",
              "    display: none;\n",
              "    fill: var(--fill-color);\n",
              "    height: 32px;\n",
              "    padding: 0;\n",
              "    width: 32px;\n",
              "  }\n",
              "\n",
              "  .colab-df-quickchart:hover {\n",
              "    background-color: var(--hover-bg-color);\n",
              "    box-shadow: 0 1px 2px rgba(60, 64, 67, 0.3), 0 1px 3px 1px rgba(60, 64, 67, 0.15);\n",
              "    fill: var(--button-hover-fill-color);\n",
              "  }\n",
              "\n",
              "  .colab-df-quickchart-complete:disabled,\n",
              "  .colab-df-quickchart-complete:disabled:hover {\n",
              "    background-color: var(--disabled-bg-color);\n",
              "    fill: var(--disabled-fill-color);\n",
              "    box-shadow: none;\n",
              "  }\n",
              "\n",
              "  .colab-df-spinner {\n",
              "    border: 2px solid var(--fill-color);\n",
              "    border-color: transparent;\n",
              "    border-bottom-color: var(--fill-color);\n",
              "    animation:\n",
              "      spin 1s steps(1) infinite;\n",
              "  }\n",
              "\n",
              "  @keyframes spin {\n",
              "    0% {\n",
              "      border-color: transparent;\n",
              "      border-bottom-color: var(--fill-color);\n",
              "      border-left-color: var(--fill-color);\n",
              "    }\n",
              "    20% {\n",
              "      border-color: transparent;\n",
              "      border-left-color: var(--fill-color);\n",
              "      border-top-color: var(--fill-color);\n",
              "    }\n",
              "    30% {\n",
              "      border-color: transparent;\n",
              "      border-left-color: var(--fill-color);\n",
              "      border-top-color: var(--fill-color);\n",
              "      border-right-color: var(--fill-color);\n",
              "    }\n",
              "    40% {\n",
              "      border-color: transparent;\n",
              "      border-right-color: var(--fill-color);\n",
              "      border-top-color: var(--fill-color);\n",
              "    }\n",
              "    60% {\n",
              "      border-color: transparent;\n",
              "      border-right-color: var(--fill-color);\n",
              "    }\n",
              "    80% {\n",
              "      border-color: transparent;\n",
              "      border-right-color: var(--fill-color);\n",
              "      border-bottom-color: var(--fill-color);\n",
              "    }\n",
              "    90% {\n",
              "      border-color: transparent;\n",
              "      border-bottom-color: var(--fill-color);\n",
              "    }\n",
              "  }\n",
              "</style>\n",
              "\n",
              "  <script>\n",
              "    async function quickchart(key) {\n",
              "      const quickchartButtonEl =\n",
              "        document.querySelector('#' + key + ' button');\n",
              "      quickchartButtonEl.disabled = true;  // To prevent multiple clicks.\n",
              "      quickchartButtonEl.classList.add('colab-df-spinner');\n",
              "      try {\n",
              "        const charts = await google.colab.kernel.invokeFunction(\n",
              "            'suggestCharts', [key], {});\n",
              "      } catch (error) {\n",
              "        console.error('Error during call to suggestCharts:', error);\n",
              "      }\n",
              "      quickchartButtonEl.classList.remove('colab-df-spinner');\n",
              "      quickchartButtonEl.classList.add('colab-df-quickchart-complete');\n",
              "    }\n",
              "    (() => {\n",
              "      let quickchartButtonEl =\n",
              "        document.querySelector('#df-25adb719-ab38-476b-a70a-57866a2deae8 button');\n",
              "      quickchartButtonEl.style.display =\n",
              "        google.colab.kernel.accessAllowed ? 'block' : 'none';\n",
              "    })();\n",
              "  </script>\n",
              "</div>\n",
              "    </div>\n",
              "  </div>\n"
            ],
            "application/vnd.google.colaboratory.intrinsic+json": {
              "type": "dataframe",
              "summary": "{\n  \"name\": \"display(df\",\n  \"rows\": 5,\n  \"fields\": [\n    {\n      \"column\": \"Unnamed: 0\",\n      \"properties\": {\n        \"dtype\": \"number\",\n        \"std\": 1,\n        \"min\": 0,\n        \"max\": 4,\n        \"num_unique_values\": 5,\n        \"samples\": [\n          1,\n          4,\n          2\n        ],\n        \"semantic_type\": \"\",\n        \"description\": \"\"\n      }\n    },\n    {\n      \"column\": \"session\",\n      \"properties\": {\n        \"dtype\": \"number\",\n        \"std\": 0,\n        \"min\": 1,\n        \"max\": 1,\n        \"num_unique_values\": 1,\n        \"samples\": [\n          1\n        ],\n        \"semantic_type\": \"\",\n        \"description\": \"\"\n      }\n    },\n    {\n      \"column\": \"method\",\n      \"properties\": {\n        \"dtype\": \"category\",\n        \"num_unique_values\": 1,\n        \"samples\": [\n          \"script\"\n        ],\n        \"semantic_type\": \"\",\n        \"description\": \"\"\n      }\n    },\n    {\n      \"column\": \"gender\",\n      \"properties\": {\n        \"dtype\": \"category\",\n        \"num_unique_values\": 1,\n        \"samples\": [\n          \"F\"\n        ],\n        \"semantic_type\": \"\",\n        \"description\": \"\"\n      }\n    },\n    {\n      \"column\": \"n_annotators\",\n      \"properties\": {\n        \"dtype\": \"number\",\n        \"std\": 1,\n        \"min\": 0,\n        \"max\": 3,\n        \"num_unique_values\": 2,\n        \"samples\": [\n          0\n        ],\n        \"semantic_type\": \"\",\n        \"description\": \"\"\n      }\n    },\n    {\n      \"column\": \"agreement\",\n      \"properties\": {\n        \"dtype\": \"number\",\n        \"std\": 1,\n        \"min\": 0,\n        \"max\": 3,\n        \"num_unique_values\": 3,\n        \"samples\": [\n          3\n        ],\n        \"semantic_type\": \"\",\n        \"description\": \"\"\n      }\n    },\n    {\n      \"column\": \"emotion\",\n      \"properties\": {\n        \"dtype\": \"string\",\n        \"num_unique_values\": 4,\n        \"samples\": [\n          \"fru\"\n        ],\n        \"semantic_type\": \"\",\n        \"description\": \"\"\n      }\n    },\n    {\n      \"column\": \"valence\",\n      \"properties\": {\n        \"dtype\": \"number\",\n        \"std\": 0.27386127875258304,\n        \"min\": 2.0,\n        \"max\": 2.5,\n        \"num_unique_values\": 2,\n        \"samples\": [\n          2.0\n        ],\n        \"semantic_type\": \"\",\n        \"description\": \"\"\n      }\n    },\n    {\n      \"column\": \"activation\",\n      \"properties\": {\n        \"dtype\": \"number\",\n        \"std\": 0.5477225575051661,\n        \"min\": 2.0,\n        \"max\": 3.0,\n        \"num_unique_values\": 2,\n        \"samples\": [\n          3.0\n        ],\n        \"semantic_type\": \"\",\n        \"description\": \"\"\n      }\n    },\n    {\n      \"column\": \"dominance\",\n      \"properties\": {\n        \"dtype\": \"number\",\n        \"std\": 0.4183300132670378,\n        \"min\": 2.0,\n        \"max\": 3.0,\n        \"num_unique_values\": 3,\n        \"samples\": [\n          2.0\n        ],\n        \"semantic_type\": \"\",\n        \"description\": \"\"\n      }\n    },\n    {\n      \"column\": \"wav_path\",\n      \"properties\": {\n        \"dtype\": \"string\",\n        \"num_unique_values\": 5,\n        \"samples\": [\n          \"IEMOCAP_full_release/Session1/sentences/wav/Ses01F_script02_1/Ses01F_script02_1_F001.wav\"\n        ],\n        \"semantic_type\": \"\",\n        \"description\": \"\"\n      }\n    },\n    {\n      \"column\": \"MOCAP_rotated_path\",\n      \"properties\": {\n        \"dtype\": \"string\",\n        \"num_unique_values\": 5,\n        \"samples\": [\n          \"IEMOCAP_full_release/Session1/sentences/MOCAP_rotated/Ses01F_script02_1/Ses01F_script02_1_F001.txt\"\n        ],\n        \"semantic_type\": \"\",\n        \"description\": \"\"\n      }\n    },\n    {\n      \"column\": \"MOCAP_head_path\",\n      \"properties\": {\n        \"dtype\": \"string\",\n        \"num_unique_values\": 5,\n        \"samples\": [\n          \"IEMOCAP_full_release/Session1/sentences/MOCAP_head/Ses01F_script02_1/Ses01F_script02_1_F001.txt\"\n        ],\n        \"semantic_type\": \"\",\n        \"description\": \"\"\n      }\n    },\n    {\n      \"column\": \"MOCAP_hand_path\",\n      \"properties\": {\n        \"dtype\": \"string\",\n        \"num_unique_values\": 5,\n        \"samples\": [\n          \"IEMOCAP_full_release/Session1/sentences/MOCAP_hand/Ses01F_script02_1/Ses01F_script02_1_F001.txt\"\n        ],\n        \"semantic_type\": \"\",\n        \"description\": \"\"\n      }\n    },\n    {\n      \"column\": \"FA_ph_path\",\n      \"properties\": {\n        \"dtype\": \"string\",\n        \"num_unique_values\": 5,\n        \"samples\": [\n          \"IEMOCAP_full_release/Session1/sentences/ForcedAlignment/Ses01F_script02_1/Ses01F_script02_1_F001.phseg\"\n        ],\n        \"semantic_type\": \"\",\n        \"description\": \"\"\n      }\n    },\n    {\n      \"column\": \"FA_st_path\",\n      \"properties\": {\n        \"dtype\": \"string\",\n        \"num_unique_values\": 5,\n        \"samples\": [\n          \"IEMOCAP_full_release/Session1/sentences/ForcedAlignment/Ses01F_script02_1/Ses01F_script02_1_F001.stseg\"\n        ],\n        \"semantic_type\": \"\",\n        \"description\": \"\"\n      }\n    },\n    {\n      \"column\": \"FA_sy_path\",\n      \"properties\": {\n        \"dtype\": \"string\",\n        \"num_unique_values\": 5,\n        \"samples\": [\n          \"IEMOCAP_full_release/Session1/sentences/ForcedAlignment/Ses01F_script02_1/Ses01F_script02_1_F001.syseg\"\n        ],\n        \"semantic_type\": \"\",\n        \"description\": \"\"\n      }\n    },\n    {\n      \"column\": \"FA_wd_path\",\n      \"properties\": {\n        \"dtype\": \"string\",\n        \"num_unique_values\": 5,\n        \"samples\": [\n          \"IEMOCAP_full_release/Session1/sentences/ForcedAlignment/Ses01F_script02_1/Ses01F_script02_1_F001.wdseg\"\n        ],\n        \"semantic_type\": \"\",\n        \"description\": \"\"\n      }\n    }\n  ]\n}"
            }
          },
          "metadata": {}
        }
      ]
    },
    {
      "cell_type": "code",
      "source": [
        "#Let's check how many examples per class we do have\n",
        "df.emotion.value_counts()"
      ],
      "metadata": {
        "colab": {
          "base_uri": "https://localhost:8080/"
        },
        "id": "Xa5h35oiADKP",
        "outputId": "237812fc-723d-49d6-c4cf-e244db7234a0"
      },
      "execution_count": 5,
      "outputs": [
        {
          "output_type": "execute_result",
          "data": {
            "text/plain": [
              "xxx    2507\n",
              "fru    1849\n",
              "neu    1708\n",
              "ang    1103\n",
              "sad    1084\n",
              "exc    1041\n",
              "hap     595\n",
              "sur     107\n",
              "fea      40\n",
              "oth       3\n",
              "dis       2\n",
              "Name: emotion, dtype: int64"
            ]
          },
          "metadata": {},
          "execution_count": 5
        }
      ]
    },
    {
      "cell_type": "markdown",
      "source": [
        "*Let's represent the data above as a histogram*"
      ],
      "metadata": {
        "id": "neh0FVAYUxHp"
      }
    },
    {
      "cell_type": "code",
      "source": [
        "import matplotlib.pyplot as plt\n",
        "colors = ['skyblue', 'salmon', 'lightgreen', 'orange', 'plum']  # Add more colors if needed\n",
        "\n",
        "plt.figure(figsize=(8, 6))\n",
        "df.emotion.value_counts().plot(kind='bar', color=colors)\n",
        "plt.title('Histogram of Emotions')\n",
        "plt.xlabel('Emotion')\n",
        "plt.ylabel('Count')\n",
        "plt.xticks(rotation=45)  # for better readability of labels\n",
        "plt.tight_layout()\n",
        "plt.show()"
      ],
      "metadata": {
        "colab": {
          "base_uri": "https://localhost:8080/",
          "height": 607
        },
        "id": "qvrzxKKfAacW",
        "outputId": "92f34796-f622-4f89-f659-36a5cc2a7ed0"
      },
      "execution_count": 6,
      "outputs": [
        {
          "output_type": "display_data",
          "data": {
            "text/plain": [
              "<Figure size 800x600 with 1 Axes>"
            ],
            "image/png": "[encoded data removed]"
          },
          "metadata": {}
        }
      ]
    },
    {
      "cell_type": "markdown",
      "source": [
        "Based on the histogram above, we'll get of all the under-represented classes, we'll only keep the following emotions: 'hap', 'sad', 'ang', 'neu'. Note that 'exc' will be merged with happy into one class."
      ],
      "metadata": {
        "id": "cRq3jh_PVen1"
      }
    },
    {
      "cell_type": "code",
      "source": [
        "df_filtered = df[df['agreement'] >= 2]  # We'll only use recordings where 3/4 or 4/4 annotators agree on emotion\n",
        "desired_emotions = ['sad', 'ang', 'hap', 'neu']\n",
        "\n",
        "# Merge 'exc' with 'hap'\n",
        "df_filtered.loc[df_filtered['emotion'] == 'exc', 'emotion'] = 'hap'\n",
        "\n",
        "df_filtered = df_filtered[df_filtered['emotion'].isin(desired_emotions)]\n",
        "df_filtered.emotion.value_counts()"
      ],
      "metadata": {
        "colab": {
          "base_uri": "https://localhost:8080/"
        },
        "id": "ETPtX6lnp4U5",
        "outputId": "197c42b0-0bf2-4696-dbb2-c78add7e5e99"
      },
      "execution_count": 7,
      "outputs": [
        {
          "output_type": "execute_result",
          "data": {
            "text/plain": [
              "neu    1708\n",
              "hap    1636\n",
              "ang    1103\n",
              "sad    1084\n",
              "Name: emotion, dtype: int64"
            ]
          },
          "metadata": {},
          "execution_count": 7
        }
      ]
    },
    {
      "cell_type": "code",
      "source": [
        "# Now let's balance the dataset\n",
        "balanced_df = df_filtered.groupby('emotion', group_keys=False).apply(lambda x: x.sample(min(len(x), 1084)))\n",
        "balanced_df['emotion'].value_counts()"
      ],
      "metadata": {
        "colab": {
          "base_uri": "https://localhost:8080/"
        },
        "id": "fG_beMueV0It",
        "outputId": "d8271c99-2fba-4532-c1e4-99dd919f1a5c"
      },
      "execution_count": 8,
      "outputs": [
        {
          "output_type": "execute_result",
          "data": {
            "text/plain": [
              "ang    1084\n",
              "hap    1084\n",
              "neu    1084\n",
              "sad    1084\n",
              "Name: emotion, dtype: int64"
            ]
          },
          "metadata": {},
          "execution_count": 8
        }
      ]
    },
    {
      "cell_type": "markdown",
      "source": [
        "We'll use MFCC coefficients as a feature for audio data. Below we define the function that extracts mfcc_coeffs from audio data."
      ],
      "metadata": {
        "id": "WvWr245cV-sG"
      }
    },
    {
      "cell_type": "code",
      "source": [
        "def extract_mfcc(audio_data, sample_rate):\n",
        "    # Extract MFCC (Mel-frequency cepstral coefficients) features\n",
        "    mfccs = librosa.feature.mfcc(y=audio_data, sr=sample_rate, n_mfcc=13)\n",
        "\n",
        "    # Calculate the mean of MFCC coefficients across time\n",
        "    mfccs_mean = np.mean(mfccs, axis=1)\n",
        "\n",
        "    # Calculate the standard deviation of MFCC coefficients across time\n",
        "    mfccs_std = np.std(mfccs, axis=1)\n",
        "\n",
        "    # Concatenate mean and standard deviation to create feature vector\n",
        "    audio_features = np.concatenate((mfccs_mean, mfccs_std)) #shape (26,)\n",
        "\n",
        "    return audio_features"
      ],
      "metadata": {
        "id": "sOMS4xPCpmPQ"
      },
      "execution_count": null,
      "outputs": []
    },
    {
      "cell_type": "code",
      "source": [
        "#Session 1,2,3,4 for train, 5 for test\n",
        "train_data = balanced_df[balanced_df['session'].isin([1, 2, 3, 4])]\n",
        "test_data = balanced_df[balanced_df['session'] == 5]\n",
        "train_data.emotion.value_counts()"
      ],
      "metadata": {
        "colab": {
          "base_uri": "https://localhost:8080/"
        },
        "id": "TXNH0p-zqaLv",
        "outputId": "aa54da95-91d8-49bb-f482-a239296fade0"
      },
      "execution_count": null,
      "outputs": [
        {
          "output_type": "execute_result",
          "data": {
            "text/plain": [
              "ang    916\n",
              "neu    851\n",
              "sad    839\n",
              "hap    770\n",
              "Name: emotion, dtype: int64"
            ]
          },
          "metadata": {},
          "execution_count": 8
        }
      ]
    },
    {
      "cell_type": "code",
      "execution_count": null,
      "metadata": {
        "id": "dE80vJ9s6Fsh"
      },
      "outputs": [],
      "source": [
        "train_features = []\n",
        "train_labels = []\n",
        "test_features = []\n",
        "test_labels = []\n",
        "\n",
        "for index, row in train_data.iterrows():\n",
        "\n",
        "    # Audio data\n",
        "    x, sr = get_wav(os.path.join(root_path, row['wav_path']))\n",
        "    # Extract mfcc from audio data\n",
        "    audio_features = extract_mfcc(x, sr)\n",
        "    # Get emotion label\n",
        "    _, file_name = os.path.split(row['wav_path'])\n",
        "    annot_file = os.path.join(root_path, 'IEMOCAP_full_release',\n",
        "                              'Session'+str(row['session']),\n",
        "                              'dialog', 'EmoEvaluation',\n",
        "                              file_name[:-9] + '.txt')\n",
        "    emo, _ = get_labels(annot_file, file_name[:-4])\n",
        "\n",
        "    # Append features and labels\n",
        "    if emo == 'exc':  #for some reason 'exc' wasn't completly filtered, so we're handling the left values like this\n",
        "      train_features.append(audio_features)\n",
        "      train_labels.append('hap')\n",
        "    else:\n",
        "      train_features.append(audio_features)\n",
        "      train_labels.append(emo)\n",
        "\n",
        "#test data\n",
        "for index, row in test_data.iterrows():\n",
        "    # Audio data\n",
        "    x, sr = get_wav(os.path.join(root_path, row['wav_path']))\n",
        "    # Extract mfcc from audio data\n",
        "    audio_features = extract_mfcc(x, sr)\n",
        "\n",
        "    # Get emotion label\n",
        "    _, file_name = os.path.split(row['wav_path'])\n",
        "    annot_file = os.path.join(root_path, 'IEMOCAP_full_release',\n",
        "                              'Session'+str(row['session']),\n",
        "                              'dialog', 'EmoEvaluation',\n",
        "                              file_name[:-9] + '.txt')\n",
        "    emo, _ = get_labels(annot_file, file_name[:-4])\n",
        "    # Append features and labels\n",
        "    if emo == 'exc':\n",
        "       test_features.append(audio_features)\n",
        "       test_labels.append('hap')\n",
        "    else:\n",
        "      test_features.append(audio_features)\n",
        "      test_labels.append(emo)\n",
        "\n",
        "# Convert lists to numpy arrays\n",
        "X_train = np.array(train_features)\n",
        "y_train = np.array(train_labels)\n",
        "X_test = np.array(test_features)\n",
        "y_test = np.array(test_labels)"
      ]
    },
    {
      "cell_type": "markdown",
      "source": [
        "#Model:\n",
        "- Feature: MFCC\n",
        "- Classifier : Logistic regression"
      ],
      "metadata": {
        "id": "cn2D2iwAWYLF"
      }
    },
    {
      "cell_type": "code",
      "source": [
        "# Train the model\n",
        "model_speech = LogisticRegression(max_iter = 12000)\n",
        "model_speech.fit(X_train, y_train)\n",
        "\n",
        "# Test the model\n",
        "predictions = model_speech.predict(X_test)\n",
        "accuracy = accuracy_score(y_test, predictions)\n",
        "print(\"Accuracy:\", accuracy)"
      ],
      "metadata": {
        "colab": {
          "base_uri": "https://localhost:8080/"
        },
        "id": "x39F-69uqzes",
        "outputId": "d726eced-2d70-42ff-b28c-b9dc9dbf03f5"
      },
      "execution_count": null,
      "outputs": [
        {
          "output_type": "stream",
          "name": "stdout",
          "text": [
            "Accuracy: 0.503125\n"
          ]
        }
      ]
    },
    {
      "cell_type": "code",
      "source": [
        "import seaborn as sns\n",
        "import matplotlib.pyplot as plt\n",
        "from sklearn.metrics import confusion_matrix\n",
        "\n",
        "text_labels = ['ang', 'hap', 'neu', 'sad']\n",
        "\n",
        "# Predict labels for the test set\n",
        "predicted_labels = model_speech.predict(X_test)\n",
        "\n",
        "# Confusion matrix\n",
        "conf_matrix = confusion_matrix(y_test, predicted_labels)\n",
        "\n",
        "# Normalize the confusion matrix\n",
        "conf_matrix_norm = conf_matrix.astype('float') / conf_matrix.sum(axis=1)[:, np.newaxis]\n",
        "\n",
        "# Plot the confusion matrix\n",
        "plt.figure(figsize=(8, 6))\n",
        "sns.heatmap(conf_matrix_norm, annot=True, fmt='.2f', cmap='Blues', cbar=False, xticklabels=text_labels, yticklabels=text_labels)\n",
        "plt.xlabel('Predicted labels')\n",
        "plt.ylabel('True labels')\n",
        "plt.title('Confusion Matrix')\n",
        "plt.show()\n"
      ],
      "metadata": {
        "colab": {
          "base_uri": "https://localhost:8080/",
          "height": 564
        },
        "id": "hyf2bdbPt6b3",
        "outputId": "d913e71c-5ed0-49b5-cae3-4d440b3e73c6"
      },
      "execution_count": null,
      "outputs": [
        {
          "output_type": "display_data",
          "data": {
            "text/plain": [
              "<Figure size 800x600 with 1 Axes>"
            ],
            "image/png": "[encoded data removed]"
          },
          "metadata": {}
        }
      ]
    }
  ]
}