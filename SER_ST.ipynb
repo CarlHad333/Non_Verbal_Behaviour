{
  "cells": [
    {
      "cell_type": "markdown",
      "metadata": {
        "id": "view-in-github",
        "colab_type": "text"
      },
      "source": [
        "<a href=\"https://colab.research.google.com/github/CarlHad333/Non_Verbal_Behaviour/blob/main/SER_ST.ipynb\" target=\"_parent\"><img src=\"https://colab.research.google.com/assets/colab-badge.svg\" alt=\"Open In Colab\"/></a>"
      ]
    },
    {
      "cell_type": "markdown",
      "metadata": {
        "id": "Nfmk0zUbKDBm"
      },
      "source": [
        "# IEMOCAP\n"
      ]
    },
    {
      "cell_type": "code",
      "execution_count": 10,
      "metadata": {
        "colab": {
          "base_uri": "https://localhost:8080/"
        },
        "id": "YITjSl68XV21",
        "outputId": "1ea708db-10f5-4108-e5e1-402e975e71fb"
      },
      "outputs": [
        {
          "output_type": "stream",
          "name": "stdout",
          "text": [
            "Drive already mounted at /content/gdrive; to attempt to forcibly remount, call drive.mount(\"/content/gdrive\", force_remount=True).\n"
          ]
        }
      ],
      "source": [
        "from google.colab import drive\n",
        "drive.mount('/content/gdrive')"
      ]
    },
    {
      "cell_type": "code",
      "source": [
        "# Ethan's Idea\n",
        "\n",
        "# PATH='the path to the database locally'\n",
        "\n",
        "# open(PATH + '/filename')\n"
      ],
      "metadata": {
        "id": "pNdRBjTOxeOZ"
      },
      "execution_count": null,
      "outputs": []
    },
    {
      "cell_type": "code",
      "source": [
        "#cd to the google drive you using the magic command\n",
        "%cd /content/gdrive/'My Drive'/'ST7_Le_numerique_au_service_du_facteur_humain'/'IEMOCAP_full_release_withoutVideos_sentenceOnly'/'IEMOCAP_full_release'"
      ],
      "metadata": {
        "colab": {
          "base_uri": "https://localhost:8080/"
        },
        "id": "HzKH5gTnvZfW",
        "outputId": "2618d00e-2f59-4729-a856-521b5c3b04b7"
      },
      "execution_count": 12,
      "outputs": [
        {
          "output_type": "stream",
          "name": "stdout",
          "text": [
            "/content/gdrive/.shortcut-targets-by-id/1H_wIpsIF42ILnS8ZNz7BovI5ga272ikl/IEMOCAP_full_release_withoutVideos_sentenceOnly/IEMOCAP_full_release\n"
          ]
        }
      ]
    },
    {
      "cell_type": "code",
      "source": [
        "#check your directory location with\n",
        "!pwd"
      ],
      "metadata": {
        "colab": {
          "base_uri": "https://localhost:8080/"
        },
        "id": "RhuR6mXwvq8G",
        "outputId": "9a265f8a-8fad-44e9-a2f0-d8059915a6f5"
      },
      "execution_count": 13,
      "outputs": [
        {
          "output_type": "stream",
          "name": "stdout",
          "text": [
            "/content/gdrive/.shortcut-targets-by-id/1H_wIpsIF42ILnS8ZNz7BovI5ga272ikl/IEMOCAP_full_release_withoutVideos_sentenceOnly/IEMOCAP_full_release\n"
          ]
        }
      ]
    },
    {
      "cell_type": "code",
      "execution_count": null,
      "metadata": {
        "id": "5lZPMSBHhzZV"
      },
      "outputs": [],
      "source": [
        "import numpy as np\n",
        "import os\n",
        "import pandas\n",
        "import librosa"
      ]
    },
    {
      "cell_type": "code",
      "execution_count": null,
      "metadata": {
        "id": "Yk1hbZ6Jh6_q"
      },
      "outputs": [],
      "source": [
        "def get_labels(annot_file, file_name):\n",
        "\n",
        "    f = open(annot_file, 'r').read()\n",
        "    f = f.split('\\n')\n",
        "    f = f[2:]\n",
        "\n",
        "    for data in f:\n",
        "\n",
        "        if len(data) > 0:\n",
        "            if data[0] == '[':\n",
        "                data2 = data.split('\\t')\n",
        "\n",
        "                if data2[1] == file_name:\n",
        "                    emo = data2[2]\n",
        "                    vad = data2[3][1:-1].split(', ')\n",
        "                    return emo, [float(x) for x in vad]\n",
        "\n",
        "    raise ValueError('Label not found')\n",
        "\n",
        "def get_mocap_rot(path):\n",
        "\n",
        "    f = open(path, 'r').read()\n",
        "    f = np.array(f.split('\\n'))\n",
        "    header = f[0].split(' ')\n",
        "    xyz = f[1].split(' ')\n",
        "    f = f[2:]\n",
        "\n",
        "    data_list = []\n",
        "\n",
        "    for data in f:\n",
        "        data2 = data.split(' ')\n",
        "        if(len(data2)<2):\n",
        "            continue\n",
        "        dic = {'frame': data2[0], 'time': data2[1],\n",
        "               'markers': np.array(data2[2:]).astype(float)}\n",
        "        data_list.append(dic)\n",
        "\n",
        "    return header, xyz, data_list\n",
        "\n",
        "def get_wav(path):\n",
        "    x, sr = librosa.load(path, sr=16000)\n",
        "    return x, sr\n",
        "\n",
        "def get_ph_fa(path):\n",
        "    f = open(path, 'r').read()\n",
        "    f = np.array(f.split('\\n'))\n",
        "    header = f[0].split()\n",
        "    f = f[1:-2]\n",
        "    data_list = []\n",
        "\n",
        "    for data in f:\n",
        "        data2 = data.split()\n",
        "        dic = {'SFrm':np.array(data2[0]).astype(int),\n",
        "               'EFrm':np.array(data2[1]).astype(int),\n",
        "               'SegAScr':np.array(data2[2]).astype(int),\n",
        "               'Phone':data2[3]}\n",
        "        data_list.append(dic)\n",
        "\n",
        "    return header, data_list\n",
        "\n",
        "def frame_to_s(fr):\n",
        "    return (fr+2)*10/1000"
      ]
    },
    {
      "cell_type": "code",
      "execution_count": null,
      "metadata": {
        "colab": {
          "base_uri": "https://localhost:8080/",
          "height": 729
        },
        "id": "BCR59tjxh8oi",
        "outputId": "0f82608a-ec67-4860-c8d3-7450a86ca353"
      },
      "outputs": [
        {
          "name": "stdout",
          "output_type": "stream",
          "text": [
            "Emotions count before filtering:\n",
            "fru    1692\n",
            "neu    1551\n",
            "hap    1471\n",
            "ang    1077\n",
            "sad    1000\n",
            "Name: emotion, dtype: int64\n",
            "\n",
            "Emotions count after filtering:\n",
            "neu    550\n",
            "fru    550\n",
            "ang    550\n",
            "hap    550\n",
            "sad    550\n",
            "Name: emotion, dtype: int64\n"
          ]
        },
        {
          "data": {
            "application/vnd.google.colaboratory.intrinsic+json": {
              "summary": "{\n  \"name\": \"df\",\n  \"rows\": 2750,\n  \"fields\": [\n    {\n      \"column\": \"Unnamed: 0\",\n      \"properties\": {\n        \"dtype\": \"number\",\n        \"std\": 1302,\n        \"min\": 0,\n        \"max\": 5515,\n        \"samples\": [\n          2036,\n          1433,\n          3213\n        ],\n        \"num_unique_values\": 2750,\n        \"semantic_type\": \"\",\n        \"description\": \"\"\n      }\n    },\n    {\n      \"column\": \"session\",\n      \"properties\": {\n        \"dtype\": \"number\",\n        \"std\": 0,\n        \"min\": 1,\n        \"max\": 3,\n        \"samples\": [\n          1,\n          2,\n          3\n        ],\n        \"num_unique_values\": 3,\n        \"semantic_type\": \"\",\n        \"description\": \"\"\n      }\n    },\n    {\n      \"column\": \"method\",\n      \"properties\": {\n        \"dtype\": \"category\",\n        \"samples\": [\n          \"impro\",\n          \"script\"\n        ],\n        \"num_unique_values\": 2,\n        \"semantic_type\": \"\",\n        \"description\": \"\"\n      }\n    },\n    {\n      \"column\": \"gender\",\n      \"properties\": {\n        \"dtype\": \"category\",\n        \"samples\": [\n          \"M\",\n          \"F\"\n        ],\n        \"num_unique_values\": 2,\n        \"semantic_type\": \"\",\n        \"description\": \"\"\n      }\n    },\n    {\n      \"column\": \"n_annotators\",\n      \"properties\": {\n        \"dtype\": \"number\",\n        \"std\": 0,\n        \"min\": 3,\n        \"max\": 4,\n        \"samples\": [\n          4,\n          3\n        ],\n        \"num_unique_values\": 2,\n        \"semantic_type\": \"\",\n        \"description\": \"\"\n      }\n    },\n    {\n      \"column\": \"agreement\",\n      \"properties\": {\n        \"dtype\": \"number\",\n        \"std\": 0,\n        \"min\": 2,\n        \"max\": 4,\n        \"samples\": [\n          3,\n          2\n        ],\n        \"num_unique_values\": 3,\n        \"semantic_type\": \"\",\n        \"description\": \"\"\n      }\n    },\n    {\n      \"column\": \"emotion\",\n      \"properties\": {\n        \"dtype\": \"category\",\n        \"samples\": [\n          \"fru\",\n          \"sad\"\n        ],\n        \"num_unique_values\": 5,\n        \"semantic_type\": \"\",\n        \"description\": \"\"\n      }\n    },\n    {\n      \"column\": \"valence\",\n      \"properties\": {\n        \"dtype\": \"number\",\n        \"std\": 0.9280573174299208,\n        \"min\": 1.0,\n        \"max\": 5.5,\n        \"samples\": [\n          2.5,\n          4.25\n        ],\n        \"num_unique_values\": 21,\n        \"semantic_type\": \"\",\n        \"description\": \"\"\n      }\n    },\n    {\n      \"column\": \"activation\",\n      \"properties\": {\n        \"dtype\": \"number\",\n        \"std\": 0.7767859938390874,\n        \"min\": 1.0,\n        \"max\": 5.0,\n        \"samples\": [\n          2.0,\n          4.6667\n        ],\n        \"num_unique_values\": 22,\n        \"semantic_type\": \"\",\n        \"description\": \"\"\n      }\n    },\n    {\n      \"column\": \"dominance\",\n      \"properties\": {\n        \"dtype\": \"number\",\n        \"std\": 0.83413015455617,\n        \"min\": 1.0,\n        \"max\": 5.0,\n        \"samples\": [\n          2.0,\n          3.25\n        ],\n        \"num_unique_values\": 20,\n        \"semantic_type\": \"\",\n        \"description\": \"\"\n      }\n    },\n    {\n      \"column\": \"wav_path\",\n      \"properties\": {\n        \"dtype\": \"string\",\n        \"samples\": [\n          \"IEMOCAP_full_release/Session2/sentences/wav/Ses02M_script01_2/Ses02M_script01_2_F008.wav\",\n          \"IEMOCAP_full_release/Session1/sentences/wav/Ses01F_impro05/Ses01F_impro05_F012.wav\"\n        ],\n        \"num_unique_values\": 2750,\n        \"semantic_type\": \"\",\n        \"description\": \"\"\n      }\n    },\n    {\n      \"column\": \"MOCAP_rotated_path\",\n      \"properties\": {\n        \"dtype\": \"string\",\n        \"samples\": [\n          \"IEMOCAP_full_release/Session2/sentences/MOCAP_rotated/Ses02M_script01_2/Ses02M_script01_2_F008.txt\",\n          \"IEMOCAP_full_release/Session1/sentences/MOCAP_rotated/Ses01F_impro05/Ses01F_impro05_F012.txt\"\n        ],\n        \"num_unique_values\": 2750,\n        \"semantic_type\": \"\",\n        \"description\": \"\"\n      }\n    },\n    {\n      \"column\": \"MOCAP_head_path\",\n      \"properties\": {\n        \"dtype\": \"string\",\n        \"samples\": [\n          \"IEMOCAP_full_release/Session2/sentences/MOCAP_head/Ses02M_script01_2/Ses02M_script01_2_F008.txt\",\n          \"IEMOCAP_full_release/Session1/sentences/MOCAP_head/Ses01F_impro05/Ses01F_impro05_F012.txt\"\n        ],\n        \"num_unique_values\": 2750,\n        \"semantic_type\": \"\",\n        \"description\": \"\"\n      }\n    },\n    {\n      \"column\": \"MOCAP_hand_path\",\n      \"properties\": {\n        \"dtype\": \"string\",\n        \"samples\": [\n          \"IEMOCAP_full_release/Session2/sentences/MOCAP_hand/Ses02M_script01_2/Ses02M_script01_2_F008.txt\",\n          \"IEMOCAP_full_release/Session1/sentences/MOCAP_hand/Ses01F_impro05/Ses01F_impro05_F012.txt\"\n        ],\n        \"num_unique_values\": 2750,\n        \"semantic_type\": \"\",\n        \"description\": \"\"\n      }\n    },\n    {\n      \"column\": \"FA_ph_path\",\n      \"properties\": {\n        \"dtype\": \"string\",\n        \"samples\": [\n          \"IEMOCAP_full_release/Session2/sentences/ForcedAlignment/Ses02M_script01_2/Ses02M_script01_2_F008.phseg\",\n          \"IEMOCAP_full_release/Session1/sentences/ForcedAlignment/Ses01F_impro05/Ses01F_impro05_F012.phseg\"\n        ],\n        \"num_unique_values\": 2750,\n        \"semantic_type\": \"\",\n        \"description\": \"\"\n      }\n    },\n    {\n      \"column\": \"FA_st_path\",\n      \"properties\": {\n        \"dtype\": \"string\",\n        \"samples\": [\n          \"IEMOCAP_full_release/Session2/sentences/ForcedAlignment/Ses02M_script01_2/Ses02M_script01_2_F008.stseg\",\n          \"IEMOCAP_full_release/Session1/sentences/ForcedAlignment/Ses01F_impro05/Ses01F_impro05_F012.stseg\"\n        ],\n        \"num_unique_values\": 2750,\n        \"semantic_type\": \"\",\n        \"description\": \"\"\n      }\n    },\n    {\n      \"column\": \"FA_sy_path\",\n      \"properties\": {\n        \"dtype\": \"string\",\n        \"samples\": [\n          \"IEMOCAP_full_release/Session2/sentences/ForcedAlignment/Ses02M_script01_2/Ses02M_script01_2_F008.syseg\",\n          \"IEMOCAP_full_release/Session1/sentences/ForcedAlignment/Ses01F_impro05/Ses01F_impro05_F012.syseg\"\n        ],\n        \"num_unique_values\": 2750,\n        \"semantic_type\": \"\",\n        \"description\": \"\"\n      }\n    },\n    {\n      \"column\": \"FA_wd_path\",\n      \"properties\": {\n        \"dtype\": \"string\",\n        \"samples\": [\n          \"IEMOCAP_full_release/Session2/sentences/ForcedAlignment/Ses02M_script01_2/Ses02M_script01_2_F008.wdseg\",\n          \"IEMOCAP_full_release/Session1/sentences/ForcedAlignment/Ses01F_impro05/Ses01F_impro05_F012.wdseg\"\n        ],\n        \"num_unique_values\": 2750,\n        \"semantic_type\": \"\",\n        \"description\": \"\"\n      }\n    },\n    {\n      \"column\": \"annotator_difference\",\n      \"properties\": {\n        \"dtype\": \"number\",\n        \"std\": 0,\n        \"min\": 0,\n        \"max\": 1,\n        \"samples\": [\n          1,\n          0\n        ],\n        \"num_unique_values\": 2,\n        \"semantic_type\": \"\",\n        \"description\": \"\"\n      }\n    }\n  ]\n}",
              "type": "dataframe",
              "variable_name": "df"
            },
            "text/html": [
              "\n",
              "  <div id=\"df-3d4c5677-42c0-4048-b750-b5d367abafb9\" class=\"colab-df-container\">\n",
              "    <div>\n",
              "<style scoped>\n",
              "    .dataframe tbody tr th:only-of-type {\n",
              "        vertical-align: middle;\n",
              "    }\n",
              "\n",
              "    .dataframe tbody tr th {\n",
              "        vertical-align: top;\n",
              "    }\n",
              "\n",
              "    .dataframe thead th {\n",
              "        text-align: right;\n",
              "    }\n",
              "</style>\n",
              "<table border=\"1\" class=\"dataframe\">\n",
              "  <thead>\n",
              "    <tr style=\"text-align: right;\">\n",
              "      <th></th>\n",
              "      <th>Unnamed: 0</th>\n",
              "      <th>session</th>\n",
              "      <th>method</th>\n",
              "      <th>gender</th>\n",
              "      <th>n_annotators</th>\n",
              "      <th>agreement</th>\n",
              "      <th>emotion</th>\n",
              "      <th>valence</th>\n",
              "      <th>activation</th>\n",
              "      <th>dominance</th>\n",
              "      <th>wav_path</th>\n",
              "      <th>MOCAP_rotated_path</th>\n",
              "      <th>MOCAP_head_path</th>\n",
              "      <th>MOCAP_hand_path</th>\n",
              "      <th>FA_ph_path</th>\n",
              "      <th>FA_st_path</th>\n",
              "      <th>FA_sy_path</th>\n",
              "      <th>FA_wd_path</th>\n",
              "      <th>annotator_difference</th>\n",
              "    </tr>\n",
              "  </thead>\n",
              "  <tbody>\n",
              "    <tr>\n",
              "      <th>0</th>\n",
              "      <td>0</td>\n",
              "      <td>1</td>\n",
              "      <td>script</td>\n",
              "      <td>F</td>\n",
              "      <td>3</td>\n",
              "      <td>3</td>\n",
              "      <td>neu</td>\n",
              "      <td>2.5</td>\n",
              "      <td>2.0</td>\n",
              "      <td>2.0</td>\n",
              "      <td>IEMOCAP_full_release/Session1/sentences/wav/Se...</td>\n",
              "      <td>IEMOCAP_full_release/Session1/sentences/MOCAP_...</td>\n",
              "      <td>IEMOCAP_full_release/Session1/sentences/MOCAP_...</td>\n",
              "      <td>IEMOCAP_full_release/Session1/sentences/MOCAP_...</td>\n",
              "      <td>IEMOCAP_full_release/Session1/sentences/Forced...</td>\n",
              "      <td>IEMOCAP_full_release/Session1/sentences/Forced...</td>\n",
              "      <td>IEMOCAP_full_release/Session1/sentences/Forced...</td>\n",
              "      <td>IEMOCAP_full_release/Session1/sentences/Forced...</td>\n",
              "      <td>0</td>\n",
              "    </tr>\n",
              "    <tr>\n",
              "      <th>1</th>\n",
              "      <td>1</td>\n",
              "      <td>1</td>\n",
              "      <td>script</td>\n",
              "      <td>F</td>\n",
              "      <td>3</td>\n",
              "      <td>2</td>\n",
              "      <td>fru</td>\n",
              "      <td>2.5</td>\n",
              "      <td>2.0</td>\n",
              "      <td>2.5</td>\n",
              "      <td>IEMOCAP_full_release/Session1/sentences/wav/Se...</td>\n",
              "      <td>IEMOCAP_full_release/Session1/sentences/MOCAP_...</td>\n",
              "      <td>IEMOCAP_full_release/Session1/sentences/MOCAP_...</td>\n",
              "      <td>IEMOCAP_full_release/Session1/sentences/MOCAP_...</td>\n",
              "      <td>IEMOCAP_full_release/Session1/sentences/Forced...</td>\n",
              "      <td>IEMOCAP_full_release/Session1/sentences/Forced...</td>\n",
              "      <td>IEMOCAP_full_release/Session1/sentences/Forced...</td>\n",
              "      <td>IEMOCAP_full_release/Session1/sentences/Forced...</td>\n",
              "      <td>1</td>\n",
              "    </tr>\n",
              "    <tr>\n",
              "      <th>4</th>\n",
              "      <td>4</td>\n",
              "      <td>1</td>\n",
              "      <td>script</td>\n",
              "      <td>F</td>\n",
              "      <td>3</td>\n",
              "      <td>2</td>\n",
              "      <td>neu</td>\n",
              "      <td>2.0</td>\n",
              "      <td>3.0</td>\n",
              "      <td>3.0</td>\n",
              "      <td>IEMOCAP_full_release/Session1/sentences/wav/Se...</td>\n",
              "      <td>IEMOCAP_full_release/Session1/sentences/MOCAP_...</td>\n",
              "      <td>IEMOCAP_full_release/Session1/sentences/MOCAP_...</td>\n",
              "      <td>IEMOCAP_full_release/Session1/sentences/MOCAP_...</td>\n",
              "      <td>IEMOCAP_full_release/Session1/sentences/Forced...</td>\n",
              "      <td>IEMOCAP_full_release/Session1/sentences/Forced...</td>\n",
              "      <td>IEMOCAP_full_release/Session1/sentences/Forced...</td>\n",
              "      <td>IEMOCAP_full_release/Session1/sentences/Forced...</td>\n",
              "      <td>1</td>\n",
              "    </tr>\n",
              "    <tr>\n",
              "      <th>6</th>\n",
              "      <td>6</td>\n",
              "      <td>1</td>\n",
              "      <td>script</td>\n",
              "      <td>F</td>\n",
              "      <td>3</td>\n",
              "      <td>2</td>\n",
              "      <td>ang</td>\n",
              "      <td>2.0</td>\n",
              "      <td>3.5</td>\n",
              "      <td>3.0</td>\n",
              "      <td>IEMOCAP_full_release/Session1/sentences/wav/Se...</td>\n",
              "      <td>IEMOCAP_full_release/Session1/sentences/MOCAP_...</td>\n",
              "      <td>IEMOCAP_full_release/Session1/sentences/MOCAP_...</td>\n",
              "      <td>IEMOCAP_full_release/Session1/sentences/MOCAP_...</td>\n",
              "      <td>IEMOCAP_full_release/Session1/sentences/Forced...</td>\n",
              "      <td>IEMOCAP_full_release/Session1/sentences/Forced...</td>\n",
              "      <td>IEMOCAP_full_release/Session1/sentences/Forced...</td>\n",
              "      <td>IEMOCAP_full_release/Session1/sentences/Forced...</td>\n",
              "      <td>1</td>\n",
              "    </tr>\n",
              "    <tr>\n",
              "      <th>7</th>\n",
              "      <td>7</td>\n",
              "      <td>1</td>\n",
              "      <td>script</td>\n",
              "      <td>F</td>\n",
              "      <td>3</td>\n",
              "      <td>2</td>\n",
              "      <td>ang</td>\n",
              "      <td>2.0</td>\n",
              "      <td>3.5</td>\n",
              "      <td>2.5</td>\n",
              "      <td>IEMOCAP_full_release/Session1/sentences/wav/Se...</td>\n",
              "      <td>IEMOCAP_full_release/Session1/sentences/MOCAP_...</td>\n",
              "      <td>IEMOCAP_full_release/Session1/sentences/MOCAP_...</td>\n",
              "      <td>IEMOCAP_full_release/Session1/sentences/MOCAP_...</td>\n",
              "      <td>IEMOCAP_full_release/Session1/sentences/Forced...</td>\n",
              "      <td>IEMOCAP_full_release/Session1/sentences/Forced...</td>\n",
              "      <td>IEMOCAP_full_release/Session1/sentences/Forced...</td>\n",
              "      <td>IEMOCAP_full_release/Session1/sentences/Forced...</td>\n",
              "      <td>1</td>\n",
              "    </tr>\n",
              "    <tr>\n",
              "      <th>...</th>\n",
              "      <td>...</td>\n",
              "      <td>...</td>\n",
              "      <td>...</td>\n",
              "      <td>...</td>\n",
              "      <td>...</td>\n",
              "      <td>...</td>\n",
              "      <td>...</td>\n",
              "      <td>...</td>\n",
              "      <td>...</td>\n",
              "      <td>...</td>\n",
              "      <td>...</td>\n",
              "      <td>...</td>\n",
              "      <td>...</td>\n",
              "      <td>...</td>\n",
              "      <td>...</td>\n",
              "      <td>...</td>\n",
              "      <td>...</td>\n",
              "      <td>...</td>\n",
              "      <td>...</td>\n",
              "    </tr>\n",
              "    <tr>\n",
              "      <th>5350</th>\n",
              "      <td>5350</td>\n",
              "      <td>3</td>\n",
              "      <td>impro</td>\n",
              "      <td>M</td>\n",
              "      <td>4</td>\n",
              "      <td>3</td>\n",
              "      <td>ang</td>\n",
              "      <td>2.0</td>\n",
              "      <td>3.0</td>\n",
              "      <td>4.0</td>\n",
              "      <td>IEMOCAP_full_release/Session3/sentences/wav/Se...</td>\n",
              "      <td>IEMOCAP_full_release/Session3/sentences/MOCAP_...</td>\n",
              "      <td>IEMOCAP_full_release/Session3/sentences/MOCAP_...</td>\n",
              "      <td>IEMOCAP_full_release/Session3/sentences/MOCAP_...</td>\n",
              "      <td>IEMOCAP_full_release/Session3/sentences/Forced...</td>\n",
              "      <td>IEMOCAP_full_release/Session3/sentences/Forced...</td>\n",
              "      <td>IEMOCAP_full_release/Session3/sentences/Forced...</td>\n",
              "      <td>IEMOCAP_full_release/Session3/sentences/Forced...</td>\n",
              "      <td>1</td>\n",
              "    </tr>\n",
              "    <tr>\n",
              "      <th>5493</th>\n",
              "      <td>5493</td>\n",
              "      <td>3</td>\n",
              "      <td>script</td>\n",
              "      <td>M</td>\n",
              "      <td>3</td>\n",
              "      <td>3</td>\n",
              "      <td>ang</td>\n",
              "      <td>2.0</td>\n",
              "      <td>4.0</td>\n",
              "      <td>4.0</td>\n",
              "      <td>IEMOCAP_full_release/Session3/sentences/wav/Se...</td>\n",
              "      <td>IEMOCAP_full_release/Session3/sentences/MOCAP_...</td>\n",
              "      <td>IEMOCAP_full_release/Session3/sentences/MOCAP_...</td>\n",
              "      <td>IEMOCAP_full_release/Session3/sentences/MOCAP_...</td>\n",
              "      <td>IEMOCAP_full_release/Session3/sentences/Forced...</td>\n",
              "      <td>IEMOCAP_full_release/Session3/sentences/Forced...</td>\n",
              "      <td>IEMOCAP_full_release/Session3/sentences/Forced...</td>\n",
              "      <td>IEMOCAP_full_release/Session3/sentences/Forced...</td>\n",
              "      <td>0</td>\n",
              "    </tr>\n",
              "    <tr>\n",
              "      <th>5494</th>\n",
              "      <td>5494</td>\n",
              "      <td>3</td>\n",
              "      <td>script</td>\n",
              "      <td>M</td>\n",
              "      <td>3</td>\n",
              "      <td>2</td>\n",
              "      <td>ang</td>\n",
              "      <td>3.0</td>\n",
              "      <td>2.5</td>\n",
              "      <td>3.0</td>\n",
              "      <td>IEMOCAP_full_release/Session3/sentences/wav/Se...</td>\n",
              "      <td>IEMOCAP_full_release/Session3/sentences/MOCAP_...</td>\n",
              "      <td>IEMOCAP_full_release/Session3/sentences/MOCAP_...</td>\n",
              "      <td>IEMOCAP_full_release/Session3/sentences/MOCAP_...</td>\n",
              "      <td>IEMOCAP_full_release/Session3/sentences/Forced...</td>\n",
              "      <td>IEMOCAP_full_release/Session3/sentences/Forced...</td>\n",
              "      <td>IEMOCAP_full_release/Session3/sentences/Forced...</td>\n",
              "      <td>IEMOCAP_full_release/Session3/sentences/Forced...</td>\n",
              "      <td>1</td>\n",
              "    </tr>\n",
              "    <tr>\n",
              "      <th>5497</th>\n",
              "      <td>5497</td>\n",
              "      <td>3</td>\n",
              "      <td>script</td>\n",
              "      <td>M</td>\n",
              "      <td>3</td>\n",
              "      <td>2</td>\n",
              "      <td>ang</td>\n",
              "      <td>2.0</td>\n",
              "      <td>4.0</td>\n",
              "      <td>3.5</td>\n",
              "      <td>IEMOCAP_full_release/Session3/sentences/wav/Se...</td>\n",
              "      <td>IEMOCAP_full_release/Session3/sentences/MOCAP_...</td>\n",
              "      <td>IEMOCAP_full_release/Session3/sentences/MOCAP_...</td>\n",
              "      <td>IEMOCAP_full_release/Session3/sentences/MOCAP_...</td>\n",
              "      <td>IEMOCAP_full_release/Session3/sentences/Forced...</td>\n",
              "      <td>IEMOCAP_full_release/Session3/sentences/Forced...</td>\n",
              "      <td>IEMOCAP_full_release/Session3/sentences/Forced...</td>\n",
              "      <td>IEMOCAP_full_release/Session3/sentences/Forced...</td>\n",
              "      <td>1</td>\n",
              "    </tr>\n",
              "    <tr>\n",
              "      <th>5515</th>\n",
              "      <td>5515</td>\n",
              "      <td>3</td>\n",
              "      <td>script</td>\n",
              "      <td>M</td>\n",
              "      <td>3</td>\n",
              "      <td>2</td>\n",
              "      <td>ang</td>\n",
              "      <td>1.5</td>\n",
              "      <td>4.5</td>\n",
              "      <td>4.0</td>\n",
              "      <td>IEMOCAP_full_release/Session3/sentences/wav/Se...</td>\n",
              "      <td>IEMOCAP_full_release/Session3/sentences/MOCAP_...</td>\n",
              "      <td>IEMOCAP_full_release/Session3/sentences/MOCAP_...</td>\n",
              "      <td>IEMOCAP_full_release/Session3/sentences/MOCAP_...</td>\n",
              "      <td>IEMOCAP_full_release/Session3/sentences/Forced...</td>\n",
              "      <td>IEMOCAP_full_release/Session3/sentences/Forced...</td>\n",
              "      <td>IEMOCAP_full_release/Session3/sentences/Forced...</td>\n",
              "      <td>IEMOCAP_full_release/Session3/sentences/Forced...</td>\n",
              "      <td>1</td>\n",
              "    </tr>\n",
              "  </tbody>\n",
              "</table>\n",
              "<p>2750 rows × 19 columns</p>\n",
              "</div>\n",
              "    <div class=\"colab-df-buttons\">\n",
              "\n",
              "  <div class=\"colab-df-container\">\n",
              "    <button class=\"colab-df-convert\" onclick=\"convertToInteractive('df-3d4c5677-42c0-4048-b750-b5d367abafb9')\"\n",
              "            title=\"Convert this dataframe to an interactive table.\"\n",
              "            style=\"display:none;\">\n",
              "\n",
              "  <svg xmlns=\"http://www.w3.org/2000/svg\" height=\"24px\" viewBox=\"0 -960 960 960\">\n",
              "    <path d=\"M120-120v-720h720v720H120Zm60-500h600v-160H180v160Zm220 220h160v-160H400v160Zm0 220h160v-160H400v160ZM180-400h160v-160H180v160Zm440 0h160v-160H620v160ZM180-180h160v-160H180v160Zm440 0h160v-160H620v160Z\"/>\n",
              "  </svg>\n",
              "    </button>\n",
              "\n",
              "  <style>\n",
              "    .colab-df-container {\n",
              "      display:flex;\n",
              "      gap: 12px;\n",
              "    }\n",
              "\n",
              "    .colab-df-convert {\n",
              "      background-color: #E8F0FE;\n",
              "      border: none;\n",
              "      border-radius: 50%;\n",
              "      cursor: pointer;\n",
              "      display: none;\n",
              "      fill: #1967D2;\n",
              "      height: 32px;\n",
              "      padding: 0 0 0 0;\n",
              "      width: 32px;\n",
              "    }\n",
              "\n",
              "    .colab-df-convert:hover {\n",
              "      background-color: #E2EBFA;\n",
              "      box-shadow: 0px 1px 2px rgba(60, 64, 67, 0.3), 0px 1px 3px 1px rgba(60, 64, 67, 0.15);\n",
              "      fill: #174EA6;\n",
              "    }\n",
              "\n",
              "    .colab-df-buttons div {\n",
              "      margin-bottom: 4px;\n",
              "    }\n",
              "\n",
              "    [theme=dark] .colab-df-convert {\n",
              "      background-color: #3B4455;\n",
              "      fill: #D2E3FC;\n",
              "    }\n",
              "\n",
              "    [theme=dark] .colab-df-convert:hover {\n",
              "      background-color: #434B5C;\n",
              "      box-shadow: 0px 1px 3px 1px rgba(0, 0, 0, 0.15);\n",
              "      filter: drop-shadow(0px 1px 2px rgba(0, 0, 0, 0.3));\n",
              "      fill: #FFFFFF;\n",
              "    }\n",
              "  </style>\n",
              "\n",
              "    <script>\n",
              "      const buttonEl =\n",
              "        document.querySelector('#df-3d4c5677-42c0-4048-b750-b5d367abafb9 button.colab-df-convert');\n",
              "      buttonEl.style.display =\n",
              "        google.colab.kernel.accessAllowed ? 'block' : 'none';\n",
              "\n",
              "      async function convertToInteractive(key) {\n",
              "        const element = document.querySelector('#df-3d4c5677-42c0-4048-b750-b5d367abafb9');\n",
              "        const dataTable =\n",
              "          await google.colab.kernel.invokeFunction('convertToInteractive',\n",
              "                                                    [key], {});\n",
              "        if (!dataTable) return;\n",
              "\n",
              "        const docLinkHtml = 'Like what you see? Visit the ' +\n",
              "          '<a target=\"_blank\" href=https://colab.research.google.com/notebooks/data_table.ipynb>data table notebook</a>'\n",
              "          + ' to learn more about interactive tables.';\n",
              "        element.innerHTML = '';\n",
              "        dataTable['output_type'] = 'display_data';\n",
              "        await google.colab.output.renderOutput(dataTable, element);\n",
              "        const docLink = document.createElement('div');\n",
              "        docLink.innerHTML = docLinkHtml;\n",
              "        element.appendChild(docLink);\n",
              "      }\n",
              "    </script>\n",
              "  </div>\n",
              "\n",
              "\n",
              "<div id=\"df-0bc94fa5-e3a5-4172-8a5e-0f8586009957\">\n",
              "  <button class=\"colab-df-quickchart\" onclick=\"quickchart('df-0bc94fa5-e3a5-4172-8a5e-0f8586009957')\"\n",
              "            title=\"Suggest charts\"\n",
              "            style=\"display:none;\">\n",
              "\n",
              "<svg xmlns=\"http://www.w3.org/2000/svg\" height=\"24px\"viewBox=\"0 0 24 24\"\n",
              "     width=\"24px\">\n",
              "    <g>\n",
              "        <path d=\"M19 3H5c-1.1 0-2 .9-2 2v14c0 1.1.9 2 2 2h14c1.1 0 2-.9 2-2V5c0-1.1-.9-2-2-2zM9 17H7v-7h2v7zm4 0h-2V7h2v10zm4 0h-2v-4h2v4z\"/>\n",
              "    </g>\n",
              "</svg>\n",
              "  </button>\n",
              "\n",
              "<style>\n",
              "  .colab-df-quickchart {\n",
              "      --bg-color: #E8F0FE;\n",
              "      --fill-color: #1967D2;\n",
              "      --hover-bg-color: #E2EBFA;\n",
              "      --hover-fill-color: #174EA6;\n",
              "      --disabled-fill-color: #AAA;\n",
              "      --disabled-bg-color: #DDD;\n",
              "  }\n",
              "\n",
              "  [theme=dark] .colab-df-quickchart {\n",
              "      --bg-color: #3B4455;\n",
              "      --fill-color: #D2E3FC;\n",
              "      --hover-bg-color: #434B5C;\n",
              "      --hover-fill-color: #FFFFFF;\n",
              "      --disabled-bg-color: #3B4455;\n",
              "      --disabled-fill-color: #666;\n",
              "  }\n",
              "\n",
              "  .colab-df-quickchart {\n",
              "    background-color: var(--bg-color);\n",
              "    border: none;\n",
              "    border-radius: 50%;\n",
              "    cursor: pointer;\n",
              "    display: none;\n",
              "    fill: var(--fill-color);\n",
              "    height: 32px;\n",
              "    padding: 0;\n",
              "    width: 32px;\n",
              "  }\n",
              "\n",
              "  .colab-df-quickchart:hover {\n",
              "    background-color: var(--hover-bg-color);\n",
              "    box-shadow: 0 1px 2px rgba(60, 64, 67, 0.3), 0 1px 3px 1px rgba(60, 64, 67, 0.15);\n",
              "    fill: var(--button-hover-fill-color);\n",
              "  }\n",
              "\n",
              "  .colab-df-quickchart-complete:disabled,\n",
              "  .colab-df-quickchart-complete:disabled:hover {\n",
              "    background-color: var(--disabled-bg-color);\n",
              "    fill: var(--disabled-fill-color);\n",
              "    box-shadow: none;\n",
              "  }\n",
              "\n",
              "  .colab-df-spinner {\n",
              "    border: 2px solid var(--fill-color);\n",
              "    border-color: transparent;\n",
              "    border-bottom-color: var(--fill-color);\n",
              "    animation:\n",
              "      spin 1s steps(1) infinite;\n",
              "  }\n",
              "\n",
              "  @keyframes spin {\n",
              "    0% {\n",
              "      border-color: transparent;\n",
              "      border-bottom-color: var(--fill-color);\n",
              "      border-left-color: var(--fill-color);\n",
              "    }\n",
              "    20% {\n",
              "      border-color: transparent;\n",
              "      border-left-color: var(--fill-color);\n",
              "      border-top-color: var(--fill-color);\n",
              "    }\n",
              "    30% {\n",
              "      border-color: transparent;\n",
              "      border-left-color: var(--fill-color);\n",
              "      border-top-color: var(--fill-color);\n",
              "      border-right-color: var(--fill-color);\n",
              "    }\n",
              "    40% {\n",
              "      border-color: transparent;\n",
              "      border-right-color: var(--fill-color);\n",
              "      border-top-color: var(--fill-color);\n",
              "    }\n",
              "    60% {\n",
              "      border-color: transparent;\n",
              "      border-right-color: var(--fill-color);\n",
              "    }\n",
              "    80% {\n",
              "      border-color: transparent;\n",
              "      border-right-color: var(--fill-color);\n",
              "      border-bottom-color: var(--fill-color);\n",
              "    }\n",
              "    90% {\n",
              "      border-color: transparent;\n",
              "      border-bottom-color: var(--fill-color);\n",
              "    }\n",
              "  }\n",
              "</style>\n",
              "\n",
              "  <script>\n",
              "    async function quickchart(key) {\n",
              "      const quickchartButtonEl =\n",
              "        document.querySelector('#' + key + ' button');\n",
              "      quickchartButtonEl.disabled = true;  // To prevent multiple clicks.\n",
              "      quickchartButtonEl.classList.add('colab-df-spinner');\n",
              "      try {\n",
              "        const charts = await google.colab.kernel.invokeFunction(\n",
              "            'suggestCharts', [key], {});\n",
              "      } catch (error) {\n",
              "        console.error('Error during call to suggestCharts:', error);\n",
              "      }\n",
              "      quickchartButtonEl.classList.remove('colab-df-spinner');\n",
              "      quickchartButtonEl.classList.add('colab-df-quickchart-complete');\n",
              "    }\n",
              "    (() => {\n",
              "      let quickchartButtonEl =\n",
              "        document.querySelector('#df-0bc94fa5-e3a5-4172-8a5e-0f8586009957 button');\n",
              "      quickchartButtonEl.style.display =\n",
              "        google.colab.kernel.accessAllowed ? 'block' : 'none';\n",
              "    })();\n",
              "  </script>\n",
              "</div>\n",
              "    </div>\n",
              "  </div>\n"
            ],
            "text/plain": [
              "      Unnamed: 0  session  method gender  n_annotators  agreement emotion  \\\n",
              "0              0        1  script      F             3          3     neu   \n",
              "1              1        1  script      F             3          2     fru   \n",
              "4              4        1  script      F             3          2     neu   \n",
              "6              6        1  script      F             3          2     ang   \n",
              "7              7        1  script      F             3          2     ang   \n",
              "...          ...      ...     ...    ...           ...        ...     ...   \n",
              "5350        5350        3   impro      M             4          3     ang   \n",
              "5493        5493        3  script      M             3          3     ang   \n",
              "5494        5494        3  script      M             3          2     ang   \n",
              "5497        5497        3  script      M             3          2     ang   \n",
              "5515        5515        3  script      M             3          2     ang   \n",
              "\n",
              "      valence  activation  dominance  \\\n",
              "0         2.5         2.0        2.0   \n",
              "1         2.5         2.0        2.5   \n",
              "4         2.0         3.0        3.0   \n",
              "6         2.0         3.5        3.0   \n",
              "7         2.0         3.5        2.5   \n",
              "...       ...         ...        ...   \n",
              "5350      2.0         3.0        4.0   \n",
              "5493      2.0         4.0        4.0   \n",
              "5494      3.0         2.5        3.0   \n",
              "5497      2.0         4.0        3.5   \n",
              "5515      1.5         4.5        4.0   \n",
              "\n",
              "                                               wav_path  \\\n",
              "0     IEMOCAP_full_release/Session1/sentences/wav/Se...   \n",
              "1     IEMOCAP_full_release/Session1/sentences/wav/Se...   \n",
              "4     IEMOCAP_full_release/Session1/sentences/wav/Se...   \n",
              "6     IEMOCAP_full_release/Session1/sentences/wav/Se...   \n",
              "7     IEMOCAP_full_release/Session1/sentences/wav/Se...   \n",
              "...                                                 ...   \n",
              "5350  IEMOCAP_full_release/Session3/sentences/wav/Se...   \n",
              "5493  IEMOCAP_full_release/Session3/sentences/wav/Se...   \n",
              "5494  IEMOCAP_full_release/Session3/sentences/wav/Se...   \n",
              "5497  IEMOCAP_full_release/Session3/sentences/wav/Se...   \n",
              "5515  IEMOCAP_full_release/Session3/sentences/wav/Se...   \n",
              "\n",
              "                                     MOCAP_rotated_path  \\\n",
              "0     IEMOCAP_full_release/Session1/sentences/MOCAP_...   \n",
              "1     IEMOCAP_full_release/Session1/sentences/MOCAP_...   \n",
              "4     IEMOCAP_full_release/Session1/sentences/MOCAP_...   \n",
              "6     IEMOCAP_full_release/Session1/sentences/MOCAP_...   \n",
              "7     IEMOCAP_full_release/Session1/sentences/MOCAP_...   \n",
              "...                                                 ...   \n",
              "5350  IEMOCAP_full_release/Session3/sentences/MOCAP_...   \n",
              "5493  IEMOCAP_full_release/Session3/sentences/MOCAP_...   \n",
              "5494  IEMOCAP_full_release/Session3/sentences/MOCAP_...   \n",
              "5497  IEMOCAP_full_release/Session3/sentences/MOCAP_...   \n",
              "5515  IEMOCAP_full_release/Session3/sentences/MOCAP_...   \n",
              "\n",
              "                                        MOCAP_head_path  \\\n",
              "0     IEMOCAP_full_release/Session1/sentences/MOCAP_...   \n",
              "1     IEMOCAP_full_release/Session1/sentences/MOCAP_...   \n",
              "4     IEMOCAP_full_release/Session1/sentences/MOCAP_...   \n",
              "6     IEMOCAP_full_release/Session1/sentences/MOCAP_...   \n",
              "7     IEMOCAP_full_release/Session1/sentences/MOCAP_...   \n",
              "...                                                 ...   \n",
              "5350  IEMOCAP_full_release/Session3/sentences/MOCAP_...   \n",
              "5493  IEMOCAP_full_release/Session3/sentences/MOCAP_...   \n",
              "5494  IEMOCAP_full_release/Session3/sentences/MOCAP_...   \n",
              "5497  IEMOCAP_full_release/Session3/sentences/MOCAP_...   \n",
              "5515  IEMOCAP_full_release/Session3/sentences/MOCAP_...   \n",
              "\n",
              "                                        MOCAP_hand_path  \\\n",
              "0     IEMOCAP_full_release/Session1/sentences/MOCAP_...   \n",
              "1     IEMOCAP_full_release/Session1/sentences/MOCAP_...   \n",
              "4     IEMOCAP_full_release/Session1/sentences/MOCAP_...   \n",
              "6     IEMOCAP_full_release/Session1/sentences/MOCAP_...   \n",
              "7     IEMOCAP_full_release/Session1/sentences/MOCAP_...   \n",
              "...                                                 ...   \n",
              "5350  IEMOCAP_full_release/Session3/sentences/MOCAP_...   \n",
              "5493  IEMOCAP_full_release/Session3/sentences/MOCAP_...   \n",
              "5494  IEMOCAP_full_release/Session3/sentences/MOCAP_...   \n",
              "5497  IEMOCAP_full_release/Session3/sentences/MOCAP_...   \n",
              "5515  IEMOCAP_full_release/Session3/sentences/MOCAP_...   \n",
              "\n",
              "                                             FA_ph_path  \\\n",
              "0     IEMOCAP_full_release/Session1/sentences/Forced...   \n",
              "1     IEMOCAP_full_release/Session1/sentences/Forced...   \n",
              "4     IEMOCAP_full_release/Session1/sentences/Forced...   \n",
              "6     IEMOCAP_full_release/Session1/sentences/Forced...   \n",
              "7     IEMOCAP_full_release/Session1/sentences/Forced...   \n",
              "...                                                 ...   \n",
              "5350  IEMOCAP_full_release/Session3/sentences/Forced...   \n",
              "5493  IEMOCAP_full_release/Session3/sentences/Forced...   \n",
              "5494  IEMOCAP_full_release/Session3/sentences/Forced...   \n",
              "5497  IEMOCAP_full_release/Session3/sentences/Forced...   \n",
              "5515  IEMOCAP_full_release/Session3/sentences/Forced...   \n",
              "\n",
              "                                             FA_st_path  \\\n",
              "0     IEMOCAP_full_release/Session1/sentences/Forced...   \n",
              "1     IEMOCAP_full_release/Session1/sentences/Forced...   \n",
              "4     IEMOCAP_full_release/Session1/sentences/Forced...   \n",
              "6     IEMOCAP_full_release/Session1/sentences/Forced...   \n",
              "7     IEMOCAP_full_release/Session1/sentences/Forced...   \n",
              "...                                                 ...   \n",
              "5350  IEMOCAP_full_release/Session3/sentences/Forced...   \n",
              "5493  IEMOCAP_full_release/Session3/sentences/Forced...   \n",
              "5494  IEMOCAP_full_release/Session3/sentences/Forced...   \n",
              "5497  IEMOCAP_full_release/Session3/sentences/Forced...   \n",
              "5515  IEMOCAP_full_release/Session3/sentences/Forced...   \n",
              "\n",
              "                                             FA_sy_path  \\\n",
              "0     IEMOCAP_full_release/Session1/sentences/Forced...   \n",
              "1     IEMOCAP_full_release/Session1/sentences/Forced...   \n",
              "4     IEMOCAP_full_release/Session1/sentences/Forced...   \n",
              "6     IEMOCAP_full_release/Session1/sentences/Forced...   \n",
              "7     IEMOCAP_full_release/Session1/sentences/Forced...   \n",
              "...                                                 ...   \n",
              "5350  IEMOCAP_full_release/Session3/sentences/Forced...   \n",
              "5493  IEMOCAP_full_release/Session3/sentences/Forced...   \n",
              "5494  IEMOCAP_full_release/Session3/sentences/Forced...   \n",
              "5497  IEMOCAP_full_release/Session3/sentences/Forced...   \n",
              "5515  IEMOCAP_full_release/Session3/sentences/Forced...   \n",
              "\n",
              "                                             FA_wd_path  annotator_difference  \n",
              "0     IEMOCAP_full_release/Session1/sentences/Forced...                     0  \n",
              "1     IEMOCAP_full_release/Session1/sentences/Forced...                     1  \n",
              "4     IEMOCAP_full_release/Session1/sentences/Forced...                     1  \n",
              "6     IEMOCAP_full_release/Session1/sentences/Forced...                     1  \n",
              "7     IEMOCAP_full_release/Session1/sentences/Forced...                     1  \n",
              "...                                                 ...                   ...  \n",
              "5350  IEMOCAP_full_release/Session3/sentences/Forced...                     1  \n",
              "5493  IEMOCAP_full_release/Session3/sentences/Forced...                     0  \n",
              "5494  IEMOCAP_full_release/Session3/sentences/Forced...                     1  \n",
              "5497  IEMOCAP_full_release/Session3/sentences/Forced...                     1  \n",
              "5515  IEMOCAP_full_release/Session3/sentences/Forced...                     1  \n",
              "\n",
              "[2750 rows x 19 columns]"
            ]
          },
          "metadata": {},
          "output_type": "display_data"
        }
      ],
      "source": [
        "root_path = '/content/gdrive/MyDrive/IEMOCAP_full_release_withoutVideos_sentenceOnly'\n",
        "\n",
        "df = pandas.read_csv(os.path.join(root_path, 'iemocap.csv'))\n",
        "sessions = [1, 2, 3, 4, 5]\n",
        "df = df[df['session'].isin(sessions)]\n",
        "\n",
        "# Remove unwanted emotions and empty values\n",
        "unwanted_emotions = ['xxx', '', 'oth', 'dis', 'sur', 'fea']\n",
        "df = df[~df['emotion'].isin(unwanted_emotions)]\n",
        "\n",
        "# Calculate annotator difference\n",
        "df['annotator_difference'] = df['n_annotators'] - df['agreement']\n",
        "\n",
        "# Filter by annotator difference\n",
        "df = df[df['annotator_difference'] <= 1]\n",
        "\n",
        "# Replace 'exc' emotion with 'hap'\n",
        "df.loc[df['emotion'] == 'exc', 'emotion'] = 'hap'\n",
        "\n",
        "\n",
        "emotions_count_before = df['emotion'].value_counts()\n",
        "print(\"Emotions count before filtering:\")\n",
        "print(emotions_count_before)\n",
        "\n",
        "# Group by emotion and select first 550 rows of each group\n",
        "df = df.groupby('emotion').head(550)\n",
        "\n",
        "# Count the occurrences of each emotion after filtering\n",
        "emotions_count_after = df['emotion'].value_counts()\n",
        "print(\"\\nEmotions count after filtering:\")\n",
        "print(emotions_count_after)\n",
        "\n",
        "# Display the first 5 rows\n",
        "display(df)\n",
        "#Ntotal = 5531 utterances that are labeled with one of\n",
        "#five categories: Happy, Angry, Neutral, Sad, Exited. This set is\n",
        "#mapped down to four categories by merging Exited and Happy\n"
      ]
    },
    {
      "cell_type": "code",
      "execution_count": null,
      "metadata": {
        "colab": {
          "base_uri": "https://localhost:8080/"
        },
        "id": "ezASTRGAjSs5",
        "outputId": "6e4100f1-79dd-4a96-b556-5613c9d5501c"
      },
      "outputs": [
        {
          "name": "stdout",
          "output_type": "stream",
          "text": [
            "neu\n",
            "[2.5, 2.0, 2.0]\n",
            "2.07\n",
            "2.07\n",
            "2.06895\n"
          ]
        }
      ],
      "source": [
        "for index, row in df.iterrows():\n",
        "\n",
        "    session = row['session']\n",
        "    method = row['method']\n",
        "    gender = row['gender']\n",
        "    emotion = row['emotion']\n",
        "    n_annot = row['emotion']\n",
        "    agreement = row['agreement']\n",
        "    wav_path = row['wav_path']\n",
        "\n",
        "    _, file_name = os.path.split(wav_path)\n",
        "\n",
        "    annot_file = os.path.join(root_path, 'IEMOCAP_full_release',\n",
        "                              'Session'+str(session),\n",
        "                              'dialog', 'EmoEvaluation',\n",
        "                              file_name[:-9] + '.txt')\n",
        "\n",
        "    # get labels\n",
        "    emo, vad = get_labels(annot_file, file_name[:-4])\n",
        "\n",
        "    # get MOCAP data\n",
        "    header_rot, xyz_rot, data_rot = get_mocap_rot(os.path.join(root_path, row['MOCAP_rotated_path']))\n",
        "\n",
        "    # get audio data\n",
        "    x, sr = get_wav(os.path.join(root_path, row['wav_path']))\n",
        "\n",
        "    # get transcription data\n",
        "    header_ph, data_ph = get_ph_fa(os.path.join(root_path, row['FA_ph_path']))\n",
        "\n",
        "    break\n",
        "\n",
        "print(emo)\n",
        "print(vad)\n",
        "print(frame_to_s(data_ph[-1]['EFrm']))\n",
        "print(x.shape[0]/sr)\n",
        "print(data_rot[-1]['time'])"
      ]
    },
    {
      "cell_type": "markdown",
      "metadata": {
        "id": "APsMievF-Pnh"
      },
      "source": [
        "Pre-Processing and  feature exctraction of only the WAV format (Audio)"
      ]
    },
    {
      "cell_type": "code",
      "execution_count": null,
      "metadata": {
        "colab": {
          "background_save": true
        },
        "id": "ODmZyd8Q_eT6"
      },
      "outputs": [],
      "source": [
        "from sklearn.preprocessing import StandardScaler\n",
        "from sklearn.model_selection import train_test_split\n",
        "from sklearn.svm import SVC\n",
        "import matplotlib.pyplot as plt\n",
        "%matplotlib inline\n",
        "\n",
        "features = []  # List to store extracted features\n",
        "labels = []    # List to store corresponding emotion labels\n",
        "\n",
        "for index, row in df.iterrows():\n",
        "    session = row['session']\n",
        "    wav_path = row['wav_path']\n",
        "    emotion = row['emotion']\n",
        "\n",
        "    # Extract filename from WAV path\n",
        "    _, file_name = os.path.split(wav_path)\n",
        "\n",
        "    # Construct path to annotation file\n",
        "    annot_file = os.path.join(root_path, 'IEMOCAP_full_release',\n",
        "                              'Session'+str(session),\n",
        "                              'dialog', 'EmoEvaluation',\n",
        "                              file_name[:-9] + '.txt')\n",
        "\n",
        "    # Load audio data\n",
        "    x, sr = get_wav(os.path.join(root_path, wav_path))\n",
        "\n",
        "    # Extract features (e.g., MFCCs)\n",
        "    mfccs = librosa.feature.mfcc(y=x, sr=sr, n_mfcc=13)\n",
        "\n",
        "    #print(mfccs.shape)\n",
        "\n",
        "\n",
        "    # Flatten MFCCs (you may choose to use other features as well)\n",
        "    flattened_mfccs = mfccs.flatten()\n",
        "\n",
        "    # Append features and labels to the lists\n",
        "    features.append(flattened_mfccs)\n",
        "    labels.append(emotion)\n",
        "\n",
        "\n",
        "# Remove features without corresponding labels\n",
        "\n",
        "filtered_features = []\n",
        "filtered_labels = []\n",
        "for feature, label in zip(features, labels):\n",
        "    if label is not None:\n",
        "        filtered_features.append(feature)\n",
        "        filtered_labels.append(label)\n",
        "\n",
        "# Convert filtered lists to NumPy arrays for model training\n",
        "# Calculate the maximum length of features\n",
        "max_length = max(len(feature) for feature in filtered_features)\n",
        "\n",
        "# Pad or truncate features to the maximum length\n",
        "padded_filtered_features = [np.pad(feature, (0, max_length - len(feature))) for feature in filtered_features]\n",
        "#print(padded_filtered_features)\n",
        "\n",
        "X_filtered = np.array(padded_filtered_features)\n",
        "y_filtered = np.array(filtered_labels)"
      ]
    },
    {
      "cell_type": "markdown",
      "metadata": {
        "id": "776A4g-Y8r9Y"
      },
      "source": [
        "# **SVM**"
      ]
    },
    {
      "cell_type": "markdown",
      "metadata": {
        "id": "qQdeqI6__2-y"
      },
      "source": [
        "Training using SVM's"
      ]
    },
    {
      "cell_type": "code",
      "execution_count": null,
      "metadata": {
        "id": "Ud83Eg2XfTwC"
      },
      "outputs": [],
      "source": [
        "from sklearn.metrics import confusion_matrix\n",
        "import seaborn as sns\n",
        "\n",
        "X_train, X_test, y_train, y_test = train_test_split(X_filtered, y_filtered, test_size=0.2, random_state=42)\n",
        "\n",
        "# Standardize features by removing the mean and scaling to unit variance\n",
        "scaler = StandardScaler()\n",
        "X_train_scaled = scaler.fit_transform(X_train)\n",
        "X_test_scaled = scaler.transform(X_test)\n",
        "\n",
        "# Train a Support Vector Machine (SVM) classifier\n",
        "svm_classifier = SVC(kernel='rbf', C=10.0, random_state=42, gamma=0.001)\n",
        "svm_classifier.fit(X_train_scaled, y_train)\n",
        "\n",
        "# Evaluate the classifier\n",
        "accuracy = svm_classifier.score(X_test_scaled, y_test)\n",
        "print(\"Accuracy:\", accuracy)\n",
        "\n",
        "# Plot the coefficients of the SVM classifier if applicable\n",
        "y_pred = svm_classifier.predict(X_test_scaled)\n",
        "\n",
        "# Generate confusion matrix\n",
        "conf_matrix = confusion_matrix(y_test, y_pred)\n",
        "\n",
        "# Plot confusion matrix\n",
        "plt.figure(figsize=(10, 8))\n",
        "sns.heatmap(conf_matrix, annot=True, fmt='d', cmap='Blues', xticklabels=svm_classifier.classes_, yticklabels=svm_classifier.classes_)\n",
        "plt.xlabel('Predicted label')\n",
        "plt.ylabel('True label')\n",
        "plt.title('Confusion Matrix')\n",
        "plt.show()\n"
      ]
    },
    {
      "cell_type": "markdown",
      "metadata": {
        "id": "6G51GUUb8oA7"
      },
      "source": [
        "# **MLP**"
      ]
    },
    {
      "cell_type": "code",
      "execution_count": null,
      "metadata": {
        "id": "K8InSrwhJ4a9"
      },
      "outputs": [],
      "source": [
        "import torch\n",
        "import random\n",
        "import numpy as np\n",
        "\n",
        "# Set random seed for reproducibility\n",
        "seed = 42\n",
        "torch.manual_seed(seed)\n",
        "np.random.seed(seed)\n",
        "random.seed(seed)"
      ]
    },
    {
      "cell_type": "markdown",
      "metadata": {
        "id": "kIuPQLQL_7w2"
      },
      "source": [
        "Training using a MLP"
      ]
    },
    {
      "cell_type": "code",
      "execution_count": null,
      "metadata": {
        "colab": {
          "base_uri": "https://localhost:8080/"
        },
        "id": "EVh-3UHf_aPi",
        "outputId": "6386850d-22d6-48e0-ea87-69666469c9c3"
      },
      "outputs": [
        {
          "name": "stdout",
          "output_type": "stream",
          "text": [
            "Epoch [10/200], Loss: 0.8007\n",
            "Epoch [20/200], Loss: 0.9980\n",
            "Epoch [30/200], Loss: 0.5552\n",
            "Epoch [40/200], Loss: 0.5293\n",
            "Epoch [50/200], Loss: 0.3128\n",
            "Epoch [60/200], Loss: 0.2110\n",
            "Epoch [70/200], Loss: 0.4363\n",
            "Epoch [80/200], Loss: 0.5733\n",
            "Epoch [90/200], Loss: 0.0567\n",
            "Epoch [100/200], Loss: 0.3397\n",
            "Epoch [110/200], Loss: 0.0991\n",
            "Epoch [120/200], Loss: 0.0479\n",
            "Epoch [130/200], Loss: 0.4560\n",
            "Epoch [140/200], Loss: 0.1551\n",
            "Epoch [150/200], Loss: 0.0408\n",
            "Epoch [160/200], Loss: 0.0154\n",
            "Epoch [170/200], Loss: 0.0461\n",
            "Epoch [180/200], Loss: 0.2146\n",
            "Epoch [190/200], Loss: 0.0058\n",
            "Epoch [200/200], Loss: 0.3522\n",
            "Precision for ang: 0.4262\n",
            "Precision for exc: 0.3768\n",
            "Precision for fru: 0.2000\n",
            "Precision for hap: 0.1980\n",
            "Precision for sad: 0.4270\n",
            "Final Accuracy: 0.3150\n"
          ]
        }
      ],
      "source": [
        "import torch.nn as nn\n",
        "import torch.optim as optim\n",
        "from torch.utils.data import TensorDataset, DataLoader\n",
        "from sklearn.preprocessing import LabelEncoder\n",
        "from sklearn.model_selection import train_test_split\n",
        "from sklearn.preprocessing import StandardScaler\n",
        "from sklearn.metrics import precision_score\n",
        "\n",
        "\n",
        "# Convert emotion labels to numerical values\n",
        "label_encoder = LabelEncoder()\n",
        "y_encoded = label_encoder.fit_transform(y_filtered)\n",
        "\n",
        "# Normalize features using StandardScaler\n",
        "scaler = StandardScaler()\n",
        "X_normalized = scaler.fit_transform(X_filtered)\n",
        "\n",
        "# Convert NumPy arrays to PyTorch tensors\n",
        "X_tensor = torch.tensor(X_normalized, dtype=torch.float32)\n",
        "y_tensor = torch.tensor(y_encoded, dtype=torch.long)\n",
        "\n",
        "# Split the data into training and testing sets\n",
        "X_train, X_test, y_train, y_test = train_test_split(X_tensor, y_tensor, test_size=0.2, random_state=42)\n",
        "\n",
        "# Define batch size\n",
        "batch_size = 16  # Adjust batch size as needed\n",
        "\n",
        "# Create data loaders for training and testing sets\n",
        "train_dataset = TensorDataset(X_train, y_train)\n",
        "train_loader = DataLoader(train_dataset, batch_size=batch_size, shuffle=True)\n",
        "test_dataset = TensorDataset(X_test, y_test)\n",
        "test_loader = DataLoader(test_dataset, batch_size=batch_size, shuffle=False)\n",
        "\n",
        "# Define the neural network architecture\n",
        "class EmotionClassifier(nn.Module):\n",
        "    def __init__(self, input_size, hidden_size_1, hidden_size_2, num_classes, dropout_prob=0.3):\n",
        "        super(EmotionClassifier, self).__init__()\n",
        "        self.fc1 = nn.Linear(input_size, hidden_size_1)\n",
        "        self.fc2 = nn.Linear(hidden_size_1, hidden_size_2)\n",
        "        self.fc3 = nn.Linear(hidden_size_2, num_classes)\n",
        "        self.relu = nn.ReLU()\n",
        "        self.sigmoid = nn.Sigmoid()\n",
        "        self.tanh = nn.Tanh()\n",
        "\n",
        "        self.dropout = nn.Dropout(dropout_prob)\n",
        "\n",
        "    def forward(self, x):\n",
        "        out = self.fc1(x)\n",
        "        out = self.dropout(out)\n",
        "        out = self.fc2(self.tanh(out))\n",
        "        out = self.dropout(out)\n",
        "        out = self.fc3(self.tanh(out))\n",
        "\n",
        "        return out\n",
        "\n",
        "# Hyperparameters\n",
        "input_size = X_train.shape[1]\n",
        "hidden_size_1 = 150\n",
        "hidden_size_2 = 36\n",
        "\n",
        "\n",
        "num_classes = len(label_encoder.classes_)\n",
        "\n",
        "learning_rate = 0.001\n",
        "num_epochs = 200\n",
        "\n",
        "# Initialize the model\n",
        "model = EmotionClassifier(input_size, hidden_size_1, hidden_size_2 , num_classes, dropout_prob=0.3)\n",
        "\n",
        "# Loss function and optimizer\n",
        "criterion = nn.CrossEntropyLoss()\n",
        "optimizer = optim.Adam(model.parameters(), lr=learning_rate)\n",
        "\n",
        "# Training loop\n",
        "for epoch in range(num_epochs):\n",
        "    # Iterate over batches\n",
        "    for inputs, targets in train_loader:\n",
        "        # Forward pass\n",
        "        outputs = model(inputs)\n",
        "        loss = criterion(outputs, targets)\n",
        "\n",
        "        # Backward pass and optimization\n",
        "        optimizer.zero_grad()\n",
        "        loss.backward()\n",
        "        optimizer.step()\n",
        "\n",
        "    if (epoch+1) % 10 == 0:\n",
        "        print(f'Epoch [{epoch+1}/{num_epochs}], Loss: {loss.item():.4f}')\n",
        "\n",
        "#Testing########################################################################\n",
        "\n",
        "# Initialize an empty list to store precision for each emotion\n",
        "precisions = []\n",
        "\n",
        "# Initialize variables to store predictions and true labels\n",
        "all_predictions = []\n",
        "all_targets = []\n",
        "\n",
        "# Evaluate the model\n",
        "correct = 0\n",
        "total = 0\n",
        "with torch.no_grad():\n",
        "    for inputs, targets in test_loader:\n",
        "        outputs = model(inputs)\n",
        "        _, predicted = torch.max(outputs, 1)\n",
        "        all_predictions.extend(predicted.tolist())\n",
        "        all_targets.extend(targets.tolist())\n",
        "        total += targets.size(0)\n",
        "        correct += (predicted == targets).sum().item()\n",
        "\n",
        "# Convert predictions and targets to NumPy arrays\n",
        "all_predictions = np.array(all_predictions)\n",
        "all_targets = np.array(all_targets)\n",
        "\n",
        "# Calculate precision for each emotion label\n",
        "for emotion_label in range(num_classes):\n",
        "    precision = precision_score(all_targets == emotion_label, all_predictions == emotion_label)\n",
        "    precisions.append((label_encoder.inverse_transform([emotion_label])[0], precision))\n",
        "\n",
        "# Print precision for each emotion\n",
        "for emotion, precision in precisions:\n",
        "    print(f'Precision for {emotion}: {precision:.4f}')\n",
        "\n",
        "# Calculate final accuracy\n",
        "accuracy = correct / total\n",
        "print(f'Final Accuracy: {accuracy:.4f}')"
      ]
    },
    {
      "cell_type": "markdown",
      "metadata": {
        "id": "6krooZzzGcyR"
      },
      "source": [
        "150 - 36 - 0.3 - 100 epochs - 36.5% (31.5% wtf) 34.5 150epochs"
      ]
    },
    {
      "cell_type": "markdown",
      "metadata": {
        "id": "8Z1UBGTe8f8A"
      },
      "source": [
        "# **XGBoost**"
      ]
    },
    {
      "cell_type": "markdown",
      "metadata": {
        "id": "11EMnUbS3lZN"
      },
      "source": [
        "Training with XGBoost [which is one possible implementation with Gradient Boosting Machines (GBM)]"
      ]
    },
    {
      "cell_type": "markdown",
      "metadata": {
        "id": "usT5DtR-Q0Qv"
      },
      "source": []
    },
    {
      "cell_type": "code",
      "execution_count": null,
      "metadata": {
        "colab": {
          "base_uri": "https://localhost:8080/"
        },
        "id": "8c-21Rxh31j_",
        "outputId": "e8ca3af9-6fb1-487e-a0f1-6152a48bc023"
      },
      "outputs": [
        {
          "name": "stdout",
          "output_type": "stream",
          "text": [
            "Accuracy: 0.4073\n"
          ]
        }
      ],
      "source": [
        "import xgboost as xgb\n",
        "from sklearn.model_selection import train_test_split\n",
        "from sklearn.metrics import accuracy_score\n",
        "from sklearn.preprocessing import LabelEncoder\n",
        "from sklearn.model_selection import train_test_split\n",
        "from sklearn.preprocessing import StandardScaler\n",
        "\n",
        "# Convert emotion labels to numerical values\n",
        "label_encoder = LabelEncoder()\n",
        "y_encoded = label_encoder.fit_transform(y_filtered)\n",
        "\n",
        "# Standardize features by removing the mean and scaling to unit variance\n",
        "scaler = StandardScaler()\n",
        "X_scaled = scaler.fit_transform(X_filtered)\n",
        "\n",
        "# Split the data into training and testing sets\n",
        "\n",
        "X_train, X_test, y_train, y_test = train_test_split(X_scaled, y_encoded, test_size=0.2, random_state=42)\n",
        "\n",
        "\n",
        "# Define hyperparameters for XGBoost\n",
        "params = {\n",
        "    'objective': 'multi:softmax',  # Multiclass classification objective\n",
        "    'num_class': len(label_encoder.classes_),  # Number of classes\n",
        "    'max_depth': 15,  # Maximum depth of each tree\n",
        "    'eta': 0.3,  # Learning rate\n",
        "    'subsample': 0.8,  # Subsample ratio of the training instances\n",
        "    'colsample_bytree': 0.8,  # Subsample ratio of columns when constructing each tree\n",
        "    'verbosity': 1  # 0 for silent mode, 1 for print messages\n",
        "}\n",
        "\n",
        "# Convert data into DMatrix format for XGBoost\n",
        "dtrain = xgb.DMatrix(X_train, label=y_train)\n",
        "dtest = xgb.DMatrix(X_test, label=y_test)\n",
        "\n",
        "# Train the XGBoost model\n",
        "num_rounds = 150  # Number of boosting rounds\n",
        "model = xgb.train(params, dtrain, num_rounds)\n",
        "\n",
        "# Make predictions on the test set\n",
        "preds = model.predict(dtest)\n",
        "\n",
        "# Evaluate the model\n",
        "accuracy = accuracy_score(y_test, preds)\n",
        "print(f'Accuracy: {accuracy:.4f}')\n"
      ]
    },
    {
      "cell_type": "markdown",
      "metadata": {
        "id": "N93XfdF-8LRr"
      },
      "source": [
        "XGB Confusion Matrix"
      ]
    },
    {
      "cell_type": "code",
      "execution_count": null,
      "metadata": {
        "colab": {
          "base_uri": "https://localhost:8080/",
          "height": 564
        },
        "id": "9wnMArks8Ofm",
        "outputId": "69c91a91-6479-44a0-9286-3f3140acdb7d"
      },
      "outputs": [
        {
          "data": {
            "image/png": "[encoded data removed]",
            "text/plain": [
              "<Figure size 800x600 with 2 Axes>"
            ]
          },
          "metadata": {},
          "output_type": "display_data"
        }
      ],
      "source": [
        "from sklearn.metrics import confusion_matrix\n",
        "import seaborn as sns\n",
        "import matplotlib.pyplot as plt\n",
        "\n",
        "# Generate confusion matrix\n",
        "cm = confusion_matrix(y_test, preds)\n",
        "\n",
        "# Plot confusion matrix\n",
        "plt.figure(figsize=(8, 6))\n",
        "sns.heatmap(cm, annot=True, cmap='Blues', fmt='g', xticklabels=label_encoder.classes_, yticklabels=label_encoder.classes_)\n",
        "plt.xlabel('Predicted')\n",
        "plt.ylabel('True')\n",
        "plt.title('Confusion Matrix')\n",
        "plt.show()\n"
      ]
    },
    {
      "cell_type": "markdown",
      "metadata": {
        "id": "7s87pFqc9Ohf"
      },
      "source": [
        "# **Random Forest**"
      ]
    },
    {
      "cell_type": "code",
      "execution_count": null,
      "metadata": {
        "colab": {
          "base_uri": "https://localhost:8080/"
        },
        "id": "2BlWB88zGcOq",
        "outputId": "d617d2d5-7e79-41f4-96f2-a37d1c8b7792"
      },
      "outputs": [
        {
          "name": "stdout",
          "output_type": "stream",
          "text": [
            "Accuracy: 0.4109090909090909\n"
          ]
        }
      ],
      "source": [
        "# Modelling\n",
        "from sklearn.ensemble import RandomForestClassifier\n",
        "from sklearn.metrics import accuracy_score, confusion_matrix, precision_score, recall_score, ConfusionMatrixDisplay\n",
        "from sklearn.model_selection import RandomizedSearchCV, train_test_split\n",
        "from scipy.stats import randint\n",
        "\n",
        "# Tree Visualisation\n",
        "from sklearn.tree import export_graphviz\n",
        "from IPython.display import Image\n",
        "import graphviz\n",
        "\n",
        "scaler = StandardScaler()\n",
        "X_scaled = scaler.fit_transform(X_filtered)\n",
        "\n",
        "X_train, X_test, y_train, y_test = train_test_split(X_scaled, y_filtered, test_size=0.2, random_state=42)\n",
        "\n",
        "\n",
        "# Initialize Random Forest classifier with desired parameters\n",
        "rf = RandomForestClassifier(n_estimators=400, max_depth=15, random_state=42)\n",
        "rf.fit(X_train, y_train)\n",
        "\n",
        "y_pred = rf.predict(X_test)\n",
        "\n",
        "accuracy = accuracy_score(y_test, y_pred)\n",
        "print(\"Accuracy:\", accuracy)\n"
      ]
    },
    {
      "cell_type": "markdown",
      "metadata": {
        "id": "m4eKamsyLyG2"
      },
      "source": [
        "#RF Visualization (Not Intuitive)"
      ]
    },
    {
      "cell_type": "code",
      "execution_count": null,
      "metadata": {
        "colab": {
          "base_uri": "https://localhost:8080/",
          "height": 1000
        },
        "id": "zkiHg0DgL1Tw",
        "outputId": "4c772027-efae-4e13-9a1f-cf2b3cbcf95f"
      },
      "outputs": [
        {
          "data": {
            "image/svg+xml": "<?xml version=\"1.0\" encoding=\"UTF-8\" standalone=\"no\"?>\n<!DOCTYPE svg PUBLIC \"-//W3C//DTD SVG 1.1//EN\"\n \"http://www.w3.org/Graphics/SVG/1.1/DTD/svg11.dtd\">\n<!-- Generated by graphviz version 2.43.0 (0)\n -->\n<!-- Title: Tree Pages: 1 -->\n<svg width=\"1086pt\" height=\"311pt\"\n viewBox=\"0.00 0.00 1086.00 311.00\" xmlns=\"http://www.w3.org/2000/svg\" xmlns:xlink=\"http://www.w3.org/1999/xlink\">\n<g id=\"graph0\" class=\"graph\" transform=\"scale(1 1) rotate(0) translate(4 307)\">\n<title>Tree</title>\n<polygon fill=\"white\" stroke=\"transparent\" points=\"-4,4 -4,-307 1082,-307 1082,4 -4,4\"/>\n<!-- 0 -->\n<g id=\"node1\" class=\"node\">\n<title>0</title>\n<polygon fill=\"#fffeff\" stroke=\"black\" points=\"644,-303 373,-303 373,-250 644,-250 644,-303\"/>\n<text text-anchor=\"middle\" x=\"508.5\" y=\"-287.8\" font-family=\"Helvetica,sans-Serif\" font-size=\"14.00\">feature_280 &lt;= &#45;2.682</text>\n<text text-anchor=\"middle\" x=\"508.5\" y=\"-272.8\" font-family=\"Helvetica,sans-Serif\" font-size=\"14.00\">samples = 100.0%</text>\n<text text-anchor=\"middle\" x=\"508.5\" y=\"-257.8\" font-family=\"Helvetica,sans-Serif\" font-size=\"14.00\">value = [0.199, 0.202, 0.193, 0.197, 0.208]</text>\n</g>\n<!-- 1 -->\n<g id=\"node2\" class=\"node\">\n<title>1</title>\n<polygon fill=\"#f08cda\" stroke=\"black\" points=\"488.5,-214 240.5,-214 240.5,-161 488.5,-161 488.5,-214\"/>\n<text text-anchor=\"middle\" x=\"364.5\" y=\"-198.8\" font-family=\"Helvetica,sans-Serif\" font-size=\"14.00\">feature_2459 &lt;= &#45;2.875</text>\n<text text-anchor=\"middle\" x=\"364.5\" y=\"-183.8\" font-family=\"Helvetica,sans-Serif\" font-size=\"14.00\">samples = 4.9%</text>\n<text text-anchor=\"middle\" x=\"364.5\" y=\"-168.8\" font-family=\"Helvetica,sans-Serif\" font-size=\"14.00\">value = [0.075, 0.1, 0.162, 0.012, 0.65]</text>\n</g>\n<!-- 0&#45;&gt;1 -->\n<g id=\"edge1\" class=\"edge\">\n<title>0&#45;&gt;1</title>\n<path fill=\"none\" stroke=\"black\" d=\"M466.07,-249.87C450.39,-240.39 432.45,-229.55 416.05,-219.64\"/>\n<polygon fill=\"black\" stroke=\"black\" points=\"417.49,-216.43 407.12,-214.25 413.87,-222.42 417.49,-216.43\"/>\n<text text-anchor=\"middle\" x=\"413.11\" y=\"-234.82\" font-family=\"Helvetica,sans-Serif\" font-size=\"14.00\">True</text>\n</g>\n<!-- 22 -->\n<g id=\"node9\" class=\"node\">\n<title>22</title>\n<polygon fill=\"#ffffff\" stroke=\"black\" points=\"789,-214 518,-214 518,-161 789,-161 789,-214\"/>\n<text text-anchor=\"middle\" x=\"653.5\" y=\"-198.8\" font-family=\"Helvetica,sans-Serif\" font-size=\"14.00\">feature_27 &lt;= &#45;0.131</text>\n<text text-anchor=\"middle\" x=\"653.5\" y=\"-183.8\" font-family=\"Helvetica,sans-Serif\" font-size=\"14.00\">samples = 95.1%</text>\n<text text-anchor=\"middle\" x=\"653.5\" y=\"-168.8\" font-family=\"Helvetica,sans-Serif\" font-size=\"14.00\">value = [0.206, 0.208, 0.195, 0.207, 0.185]</text>\n</g>\n<!-- 0&#45;&gt;22 -->\n<g id=\"edge8\" class=\"edge\">\n<title>0&#45;&gt;22</title>\n<path fill=\"none\" stroke=\"black\" d=\"M551.22,-249.87C567.01,-240.39 585.08,-229.55 601.59,-219.64\"/>\n<polygon fill=\"black\" stroke=\"black\" points=\"603.81,-222.4 610.58,-214.25 600.21,-216.39 603.81,-222.4\"/>\n<text text-anchor=\"middle\" x=\"604.52\" y=\"-234.8\" font-family=\"Helvetica,sans-Serif\" font-size=\"14.00\">False</text>\n</g>\n<!-- 2 -->\n<g id=\"node3\" class=\"node\">\n<title>2</title>\n<polygon fill=\"#7beed8\" stroke=\"black\" points=\"211,-125 0,-125 0,-72 211,-72 211,-125\"/>\n<text text-anchor=\"middle\" x=\"105.5\" y=\"-109.8\" font-family=\"Helvetica,sans-Serif\" font-size=\"14.00\">feature_2679 &lt;= 1.307</text>\n<text text-anchor=\"middle\" x=\"105.5\" y=\"-94.8\" font-family=\"Helvetica,sans-Serif\" font-size=\"14.00\">samples = 0.5%</text>\n<text text-anchor=\"middle\" x=\"105.5\" y=\"-79.8\" font-family=\"Helvetica,sans-Serif\" font-size=\"14.00\">value = [0.0, 0.25, 0.75, 0.0, 0.0]</text>\n</g>\n<!-- 1&#45;&gt;2 -->\n<g id=\"edge2\" class=\"edge\">\n<title>1&#45;&gt;2</title>\n<path fill=\"none\" stroke=\"black\" d=\"M288.54,-160.98C257.97,-150.72 222.57,-138.82 191.09,-128.25\"/>\n<polygon fill=\"black\" stroke=\"black\" points=\"192.05,-124.88 181.46,-125.01 189.82,-131.52 192.05,-124.88\"/>\n</g>\n<!-- 5 -->\n<g id=\"node6\" class=\"node\">\n<title>5</title>\n<polygon fill=\"#ec6cd0\" stroke=\"black\" points=\"500,-125 229,-125 229,-72 500,-72 500,-125\"/>\n<text text-anchor=\"middle\" x=\"364.5\" y=\"-109.8\" font-family=\"Helvetica,sans-Serif\" font-size=\"14.00\">feature_775 &lt;= &#45;1.144</text>\n<text text-anchor=\"middle\" x=\"364.5\" y=\"-94.8\" font-family=\"Helvetica,sans-Serif\" font-size=\"14.00\">samples = 4.4%</text>\n<text text-anchor=\"middle\" x=\"364.5\" y=\"-79.8\" font-family=\"Helvetica,sans-Serif\" font-size=\"14.00\">value = [0.088, 0.074, 0.059, 0.015, 0.765]</text>\n</g>\n<!-- 1&#45;&gt;5 -->\n<g id=\"edge5\" class=\"edge\">\n<title>1&#45;&gt;5</title>\n<path fill=\"none\" stroke=\"black\" d=\"M364.5,-160.87C364.5,-152.89 364.5,-143.93 364.5,-135.38\"/>\n<polygon fill=\"black\" stroke=\"black\" points=\"368,-135.25 364.5,-125.25 361,-135.25 368,-135.25\"/>\n</g>\n<!-- 3 -->\n<g id=\"node4\" class=\"node\">\n<title>3</title>\n<polygon fill=\"#c0c0c0\" stroke=\"black\" points=\"96.5,-36 42.5,-36 42.5,0 96.5,0 96.5,-36\"/>\n<text text-anchor=\"middle\" x=\"69.5\" y=\"-14.3\" font-family=\"Helvetica,sans-Serif\" font-size=\"14.00\">(...)</text>\n</g>\n<!-- 2&#45;&gt;3 -->\n<g id=\"edge3\" class=\"edge\">\n<title>2&#45;&gt;3</title>\n<path fill=\"none\" stroke=\"black\" d=\"M93.71,-71.8C89.84,-63.35 85.53,-53.95 81.63,-45.45\"/>\n<polygon fill=\"black\" stroke=\"black\" points=\"84.8,-43.96 77.45,-36.33 78.43,-46.88 84.8,-43.96\"/>\n</g>\n<!-- 4 -->\n<g id=\"node5\" class=\"node\">\n<title>4</title>\n<polygon fill=\"#c0c0c0\" stroke=\"black\" points=\"168.5,-36 114.5,-36 114.5,0 168.5,0 168.5,-36\"/>\n<text text-anchor=\"middle\" x=\"141.5\" y=\"-14.3\" font-family=\"Helvetica,sans-Serif\" font-size=\"14.00\">(...)</text>\n</g>\n<!-- 2&#45;&gt;4 -->\n<g id=\"edge4\" class=\"edge\">\n<title>2&#45;&gt;4</title>\n<path fill=\"none\" stroke=\"black\" d=\"M117.29,-71.8C121.16,-63.35 125.47,-53.95 129.37,-45.45\"/>\n<polygon fill=\"black\" stroke=\"black\" points=\"132.57,-46.88 133.55,-36.33 126.2,-43.96 132.57,-46.88\"/>\n</g>\n<!-- 6 -->\n<g id=\"node7\" class=\"node\">\n<title>6</title>\n<polygon fill=\"#c0c0c0\" stroke=\"black\" points=\"355.5,-36 301.5,-36 301.5,0 355.5,0 355.5,-36\"/>\n<text text-anchor=\"middle\" x=\"328.5\" y=\"-14.3\" font-family=\"Helvetica,sans-Serif\" font-size=\"14.00\">(...)</text>\n</g>\n<!-- 5&#45;&gt;6 -->\n<g id=\"edge6\" class=\"edge\">\n<title>5&#45;&gt;6</title>\n<path fill=\"none\" stroke=\"black\" d=\"M352.71,-71.8C348.84,-63.35 344.53,-53.95 340.63,-45.45\"/>\n<polygon fill=\"black\" stroke=\"black\" points=\"343.8,-43.96 336.45,-36.33 337.43,-46.88 343.8,-43.96\"/>\n</g>\n<!-- 11 -->\n<g id=\"node8\" class=\"node\">\n<title>11</title>\n<polygon fill=\"#c0c0c0\" stroke=\"black\" points=\"427.5,-36 373.5,-36 373.5,0 427.5,0 427.5,-36\"/>\n<text text-anchor=\"middle\" x=\"400.5\" y=\"-14.3\" font-family=\"Helvetica,sans-Serif\" font-size=\"14.00\">(...)</text>\n</g>\n<!-- 5&#45;&gt;11 -->\n<g id=\"edge7\" class=\"edge\">\n<title>5&#45;&gt;11</title>\n<path fill=\"none\" stroke=\"black\" d=\"M376.29,-71.8C380.16,-63.35 384.47,-53.95 388.37,-45.45\"/>\n<polygon fill=\"black\" stroke=\"black\" points=\"391.57,-46.88 392.55,-36.33 385.2,-43.96 391.57,-46.88\"/>\n</g>\n<!-- 23 -->\n<g id=\"node10\" class=\"node\">\n<title>23</title>\n<polygon fill=\"#fdedf9\" stroke=\"black\" points=\"789,-125 518,-125 518,-72 789,-72 789,-125\"/>\n<text text-anchor=\"middle\" x=\"653.5\" y=\"-109.8\" font-family=\"Helvetica,sans-Serif\" font-size=\"14.00\">feature_136 &lt;= 1.017</text>\n<text text-anchor=\"middle\" x=\"653.5\" y=\"-94.8\" font-family=\"Helvetica,sans-Serif\" font-size=\"14.00\">samples = 47.7%</text>\n<text text-anchor=\"middle\" x=\"653.5\" y=\"-79.8\" font-family=\"Helvetica,sans-Serif\" font-size=\"14.00\">value = [0.086, 0.159, 0.147, 0.271, 0.337]</text>\n</g>\n<!-- 22&#45;&gt;23 -->\n<g id=\"edge9\" class=\"edge\">\n<title>22&#45;&gt;23</title>\n<path fill=\"none\" stroke=\"black\" d=\"M653.5,-160.87C653.5,-152.89 653.5,-143.93 653.5,-135.38\"/>\n<polygon fill=\"black\" stroke=\"black\" points=\"657,-135.25 653.5,-125.25 650,-135.25 657,-135.25\"/>\n</g>\n<!-- 376 -->\n<g id=\"node13\" class=\"node\">\n<title>376</title>\n<polygon fill=\"#fdf4ed\" stroke=\"black\" points=\"1078,-125 807,-125 807,-72 1078,-72 1078,-125\"/>\n<text text-anchor=\"middle\" x=\"942.5\" y=\"-109.8\" font-family=\"Helvetica,sans-Serif\" font-size=\"14.00\">feature_121 &lt;= &#45;0.745</text>\n<text text-anchor=\"middle\" x=\"942.5\" y=\"-94.8\" font-family=\"Helvetica,sans-Serif\" font-size=\"14.00\">samples = 47.5%</text>\n<text text-anchor=\"middle\" x=\"942.5\" y=\"-79.8\" font-family=\"Helvetica,sans-Serif\" font-size=\"14.00\">value = [0.323, 0.255, 0.241, 0.144, 0.038]</text>\n</g>\n<!-- 22&#45;&gt;376 -->\n<g id=\"edge12\" class=\"edge\">\n<title>22&#45;&gt;376</title>\n<path fill=\"none\" stroke=\"black\" d=\"M738.26,-160.98C772.66,-150.63 812.55,-138.62 847.9,-127.98\"/>\n<polygon fill=\"black\" stroke=\"black\" points=\"849.18,-131.25 857.74,-125.01 847.16,-124.55 849.18,-131.25\"/>\n</g>\n<!-- 24 -->\n<g id=\"node11\" class=\"node\">\n<title>24</title>\n<polygon fill=\"#c0c0c0\" stroke=\"black\" points=\"644.5,-36 590.5,-36 590.5,0 644.5,0 644.5,-36\"/>\n<text text-anchor=\"middle\" x=\"617.5\" y=\"-14.3\" font-family=\"Helvetica,sans-Serif\" font-size=\"14.00\">(...)</text>\n</g>\n<!-- 23&#45;&gt;24 -->\n<g id=\"edge10\" class=\"edge\">\n<title>23&#45;&gt;24</title>\n<path fill=\"none\" stroke=\"black\" d=\"M641.71,-71.8C637.84,-63.35 633.53,-53.95 629.63,-45.45\"/>\n<polygon fill=\"black\" stroke=\"black\" points=\"632.8,-43.96 625.45,-36.33 626.43,-46.88 632.8,-43.96\"/>\n</g>\n<!-- 305 -->\n<g id=\"node12\" class=\"node\">\n<title>305</title>\n<polygon fill=\"#c0c0c0\" stroke=\"black\" points=\"716.5,-36 662.5,-36 662.5,0 716.5,0 716.5,-36\"/>\n<text text-anchor=\"middle\" x=\"689.5\" y=\"-14.3\" font-family=\"Helvetica,sans-Serif\" font-size=\"14.00\">(...)</text>\n</g>\n<!-- 23&#45;&gt;305 -->\n<g id=\"edge11\" class=\"edge\">\n<title>23&#45;&gt;305</title>\n<path fill=\"none\" stroke=\"black\" d=\"M665.29,-71.8C669.16,-63.35 673.47,-53.95 677.37,-45.45\"/>\n<polygon fill=\"black\" stroke=\"black\" points=\"680.57,-46.88 681.55,-36.33 674.2,-43.96 680.57,-46.88\"/>\n</g>\n<!-- 377 -->\n<g id=\"node14\" class=\"node\">\n<title>377</title>\n<polygon fill=\"#c0c0c0\" stroke=\"black\" points=\"933.5,-36 879.5,-36 879.5,0 933.5,0 933.5,-36\"/>\n<text text-anchor=\"middle\" x=\"906.5\" y=\"-14.3\" font-family=\"Helvetica,sans-Serif\" font-size=\"14.00\">(...)</text>\n</g>\n<!-- 376&#45;&gt;377 -->\n<g id=\"edge13\" class=\"edge\">\n<title>376&#45;&gt;377</title>\n<path fill=\"none\" stroke=\"black\" d=\"M930.71,-71.8C926.84,-63.35 922.53,-53.95 918.63,-45.45\"/>\n<polygon fill=\"black\" stroke=\"black\" points=\"921.8,-43.96 914.45,-36.33 915.43,-46.88 921.8,-43.96\"/>\n</g>\n<!-- 460 -->\n<g id=\"node15\" class=\"node\">\n<title>460</title>\n<polygon fill=\"#c0c0c0\" stroke=\"black\" points=\"1005.5,-36 951.5,-36 951.5,0 1005.5,0 1005.5,-36\"/>\n<text text-anchor=\"middle\" x=\"978.5\" y=\"-14.3\" font-family=\"Helvetica,sans-Serif\" font-size=\"14.00\">(...)</text>\n</g>\n<!-- 376&#45;&gt;460 -->\n<g id=\"edge14\" class=\"edge\">\n<title>376&#45;&gt;460</title>\n<path fill=\"none\" stroke=\"black\" d=\"M954.29,-71.8C958.16,-63.35 962.47,-53.95 966.37,-45.45\"/>\n<polygon fill=\"black\" stroke=\"black\" points=\"969.57,-46.88 970.55,-36.33 963.2,-43.96 969.57,-46.88\"/>\n</g>\n</g>\n</svg>\n",
            "text/plain": [
              "<graphviz.sources.Source at 0x7ad2a1d5e440>"
            ]
          },
          "metadata": {},
          "output_type": "display_data"
        },
        {
          "data": {
            "image/svg+xml": "<?xml version=\"1.0\" encoding=\"UTF-8\" standalone=\"no\"?>\n<!DOCTYPE svg PUBLIC \"-//W3C//DTD SVG 1.1//EN\"\n \"http://www.w3.org/Graphics/SVG/1.1/DTD/svg11.dtd\">\n<!-- Generated by graphviz version 2.43.0 (0)\n -->\n<!-- Title: Tree Pages: 1 -->\n<svg width=\"1126pt\" height=\"311pt\"\n viewBox=\"0.00 0.00 1125.50 311.00\" xmlns=\"http://www.w3.org/2000/svg\" xmlns:xlink=\"http://www.w3.org/1999/xlink\">\n<g id=\"graph0\" class=\"graph\" transform=\"scale(1 1) rotate(0) translate(4 307)\">\n<title>Tree</title>\n<polygon fill=\"white\" stroke=\"transparent\" points=\"-4,4 -4,-307 1121.5,-307 1121.5,4 -4,4\"/>\n<!-- 0 -->\n<g id=\"node1\" class=\"node\">\n<title>0</title>\n<polygon fill=\"#fffdfe\" stroke=\"black\" points=\"680.5,-303 417.5,-303 417.5,-250 680.5,-250 680.5,-303\"/>\n<text text-anchor=\"middle\" x=\"549\" y=\"-287.8\" font-family=\"Helvetica,sans-Serif\" font-size=\"14.00\">feature_234 &lt;= &#45;1.495</text>\n<text text-anchor=\"middle\" x=\"549\" y=\"-272.8\" font-family=\"Helvetica,sans-Serif\" font-size=\"14.00\">samples = 100.0%</text>\n<text text-anchor=\"middle\" x=\"549\" y=\"-257.8\" font-family=\"Helvetica,sans-Serif\" font-size=\"14.00\">value = [0.202, 0.191, 0.198, 0.198, 0.21]</text>\n</g>\n<!-- 1 -->\n<g id=\"node2\" class=\"node\">\n<title>1</title>\n<polygon fill=\"#fbe4f6\" stroke=\"black\" points=\"540.5,-214 269.5,-214 269.5,-161 540.5,-161 540.5,-214\"/>\n<text text-anchor=\"middle\" x=\"405\" y=\"-198.8\" font-family=\"Helvetica,sans-Serif\" font-size=\"14.00\">feature_276 &lt;= &#45;2.831</text>\n<text text-anchor=\"middle\" x=\"405\" y=\"-183.8\" font-family=\"Helvetica,sans-Serif\" font-size=\"14.00\">samples = 14.0%</text>\n<text text-anchor=\"middle\" x=\"405\" y=\"-168.8\" font-family=\"Helvetica,sans-Serif\" font-size=\"14.00\">value = [0.038, 0.272, 0.207, 0.113, 0.371]</text>\n</g>\n<!-- 0&#45;&gt;1 -->\n<g id=\"edge1\" class=\"edge\">\n<title>0&#45;&gt;1</title>\n<path fill=\"none\" stroke=\"black\" d=\"M506.57,-249.87C490.89,-240.39 472.95,-229.55 456.55,-219.64\"/>\n<polygon fill=\"black\" stroke=\"black\" points=\"457.99,-216.43 447.62,-214.25 454.37,-222.42 457.99,-216.43\"/>\n<text text-anchor=\"middle\" x=\"453.61\" y=\"-234.82\" font-family=\"Helvetica,sans-Serif\" font-size=\"14.00\">True</text>\n</g>\n<!-- 82 -->\n<g id=\"node9\" class=\"node\">\n<title>82</title>\n<polygon fill=\"#fefcfb\" stroke=\"black\" points=\"829.5,-214 558.5,-214 558.5,-161 829.5,-161 829.5,-214\"/>\n<text text-anchor=\"middle\" x=\"694\" y=\"-198.8\" font-family=\"Helvetica,sans-Serif\" font-size=\"14.00\">feature_72 &lt;= &#45;0.637</text>\n<text text-anchor=\"middle\" x=\"694\" y=\"-183.8\" font-family=\"Helvetica,sans-Serif\" font-size=\"14.00\">samples = 86.0%</text>\n<text text-anchor=\"middle\" x=\"694\" y=\"-168.8\" font-family=\"Helvetica,sans-Serif\" font-size=\"14.00\">value = [0.228, 0.179, 0.197, 0.211, 0.185]</text>\n</g>\n<!-- 0&#45;&gt;82 -->\n<g id=\"edge8\" class=\"edge\">\n<title>0&#45;&gt;82</title>\n<path fill=\"none\" stroke=\"black\" d=\"M591.72,-249.87C607.51,-240.39 625.58,-229.55 642.09,-219.64\"/>\n<polygon fill=\"black\" stroke=\"black\" points=\"644.31,-222.4 651.08,-214.25 640.71,-216.39 644.31,-222.4\"/>\n<text text-anchor=\"middle\" x=\"645.02\" y=\"-234.8\" font-family=\"Helvetica,sans-Serif\" font-size=\"14.00\">False</text>\n</g>\n<!-- 2 -->\n<g id=\"node3\" class=\"node\">\n<title>2</title>\n<polygon fill=\"#ec6ed1\" stroke=\"black\" points=\"256,-125 0,-125 0,-72 256,-72 256,-125\"/>\n<text text-anchor=\"middle\" x=\"128\" y=\"-109.8\" font-family=\"Helvetica,sans-Serif\" font-size=\"14.00\">feature_348 &lt;= &#45;4.511</text>\n<text text-anchor=\"middle\" x=\"128\" y=\"-94.8\" font-family=\"Helvetica,sans-Serif\" font-size=\"14.00\">samples = 3.3%</text>\n<text text-anchor=\"middle\" x=\"128\" y=\"-79.8\" font-family=\"Helvetica,sans-Serif\" font-size=\"14.00\">value = [0.0, 0.151, 0.057, 0.019, 0.774]</text>\n</g>\n<!-- 1&#45;&gt;2 -->\n<g id=\"edge2\" class=\"edge\">\n<title>1&#45;&gt;2</title>\n<path fill=\"none\" stroke=\"black\" d=\"M323.76,-160.98C290.93,-150.67 252.88,-138.72 219.1,-128.11\"/>\n<polygon fill=\"black\" stroke=\"black\" points=\"219.83,-124.67 209.24,-125.01 217.73,-131.35 219.83,-124.67\"/>\n</g>\n<!-- 17 -->\n<g id=\"node6\" class=\"node\">\n<title>17</title>\n<polygon fill=\"#f5fdf0\" stroke=\"black\" points=\"537.5,-125 274.5,-125 274.5,-72 537.5,-72 537.5,-125\"/>\n<text text-anchor=\"middle\" x=\"406\" y=\"-109.8\" font-family=\"Helvetica,sans-Serif\" font-size=\"14.00\">feature_194 &lt;= &#45;1.191</text>\n<text text-anchor=\"middle\" x=\"406\" y=\"-94.8\" font-family=\"Helvetica,sans-Serif\" font-size=\"14.00\">samples = 10.7%</text>\n<text text-anchor=\"middle\" x=\"406\" y=\"-79.8\" font-family=\"Helvetica,sans-Serif\" font-size=\"14.00\">value = [0.05, 0.312, 0.256, 0.144, 0.238]</text>\n</g>\n<!-- 1&#45;&gt;17 -->\n<g id=\"edge5\" class=\"edge\">\n<title>1&#45;&gt;17</title>\n<path fill=\"none\" stroke=\"black\" d=\"M405.29,-160.87C405.39,-152.89 405.49,-143.93 405.59,-135.38\"/>\n<polygon fill=\"black\" stroke=\"black\" points=\"409.09,-135.29 405.7,-125.25 402.09,-135.21 409.09,-135.29\"/>\n</g>\n<!-- 3 -->\n<g id=\"node4\" class=\"node\">\n<title>3</title>\n<polygon fill=\"#c0c0c0\" stroke=\"black\" points=\"119,-36 65,-36 65,0 119,0 119,-36\"/>\n<text text-anchor=\"middle\" x=\"92\" y=\"-14.3\" font-family=\"Helvetica,sans-Serif\" font-size=\"14.00\">(...)</text>\n</g>\n<!-- 2&#45;&gt;3 -->\n<g id=\"edge3\" class=\"edge\">\n<title>2&#45;&gt;3</title>\n<path fill=\"none\" stroke=\"black\" d=\"M116.21,-71.8C112.34,-63.35 108.03,-53.95 104.13,-45.45\"/>\n<polygon fill=\"black\" stroke=\"black\" points=\"107.3,-43.96 99.95,-36.33 100.93,-46.88 107.3,-43.96\"/>\n</g>\n<!-- 4 -->\n<g id=\"node5\" class=\"node\">\n<title>4</title>\n<polygon fill=\"#c0c0c0\" stroke=\"black\" points=\"191,-36 137,-36 137,0 191,0 191,-36\"/>\n<text text-anchor=\"middle\" x=\"164\" y=\"-14.3\" font-family=\"Helvetica,sans-Serif\" font-size=\"14.00\">(...)</text>\n</g>\n<!-- 2&#45;&gt;4 -->\n<g id=\"edge4\" class=\"edge\">\n<title>2&#45;&gt;4</title>\n<path fill=\"none\" stroke=\"black\" d=\"M139.79,-71.8C143.66,-63.35 147.97,-53.95 151.87,-45.45\"/>\n<polygon fill=\"black\" stroke=\"black\" points=\"155.07,-46.88 156.05,-36.33 148.7,-43.96 155.07,-46.88\"/>\n</g>\n<!-- 18 -->\n<g id=\"node7\" class=\"node\">\n<title>18</title>\n<polygon fill=\"#c0c0c0\" stroke=\"black\" points=\"397,-36 343,-36 343,0 397,0 397,-36\"/>\n<text text-anchor=\"middle\" x=\"370\" y=\"-14.3\" font-family=\"Helvetica,sans-Serif\" font-size=\"14.00\">(...)</text>\n</g>\n<!-- 17&#45;&gt;18 -->\n<g id=\"edge6\" class=\"edge\">\n<title>17&#45;&gt;18</title>\n<path fill=\"none\" stroke=\"black\" d=\"M394.21,-71.8C390.34,-63.35 386.03,-53.95 382.13,-45.45\"/>\n<polygon fill=\"black\" stroke=\"black\" points=\"385.3,-43.96 377.95,-36.33 378.93,-46.88 385.3,-43.96\"/>\n</g>\n<!-- 65 -->\n<g id=\"node8\" class=\"node\">\n<title>65</title>\n<polygon fill=\"#c0c0c0\" stroke=\"black\" points=\"469,-36 415,-36 415,0 469,0 469,-36\"/>\n<text text-anchor=\"middle\" x=\"442\" y=\"-14.3\" font-family=\"Helvetica,sans-Serif\" font-size=\"14.00\">(...)</text>\n</g>\n<!-- 17&#45;&gt;65 -->\n<g id=\"edge7\" class=\"edge\">\n<title>17&#45;&gt;65</title>\n<path fill=\"none\" stroke=\"black\" d=\"M417.79,-71.8C421.66,-63.35 425.97,-53.95 429.87,-45.45\"/>\n<polygon fill=\"black\" stroke=\"black\" points=\"433.07,-46.88 434.05,-36.33 426.7,-43.96 433.07,-46.88\"/>\n</g>\n<!-- 83 -->\n<g id=\"node10\" class=\"node\">\n<title>83</title>\n<polygon fill=\"#fcebf9\" stroke=\"black\" points=\"828.5,-125 557.5,-125 557.5,-72 828.5,-72 828.5,-125\"/>\n<text text-anchor=\"middle\" x=\"693\" y=\"-109.8\" font-family=\"Helvetica,sans-Serif\" font-size=\"14.00\">feature_1868 &lt;= &#45;1.103</text>\n<text text-anchor=\"middle\" x=\"693\" y=\"-94.8\" font-family=\"Helvetica,sans-Serif\" font-size=\"14.00\">samples = 28.0%</text>\n<text text-anchor=\"middle\" x=\"693\" y=\"-79.8\" font-family=\"Helvetica,sans-Serif\" font-size=\"14.00\">value = [0.104, 0.122, 0.136, 0.283, 0.355]</text>\n</g>\n<!-- 82&#45;&gt;83 -->\n<g id=\"edge9\" class=\"edge\">\n<title>82&#45;&gt;83</title>\n<path fill=\"none\" stroke=\"black\" d=\"M693.71,-160.87C693.61,-152.89 693.51,-143.93 693.41,-135.38\"/>\n<polygon fill=\"black\" stroke=\"black\" points=\"696.91,-135.21 693.3,-125.25 689.91,-135.29 696.91,-135.21\"/>\n</g>\n<!-- 280 -->\n<g id=\"node13\" class=\"node\">\n<title>280</title>\n<polygon fill=\"#fdf5f0\" stroke=\"black\" points=\"1117.5,-125 846.5,-125 846.5,-72 1117.5,-72 1117.5,-125\"/>\n<text text-anchor=\"middle\" x=\"982\" y=\"-109.8\" font-family=\"Helvetica,sans-Serif\" font-size=\"14.00\">feature_3506 &lt;= &#45;0.177</text>\n<text text-anchor=\"middle\" x=\"982\" y=\"-94.8\" font-family=\"Helvetica,sans-Serif\" font-size=\"14.00\">samples = 58.0%</text>\n<text text-anchor=\"middle\" x=\"982\" y=\"-79.8\" font-family=\"Helvetica,sans-Serif\" font-size=\"14.00\">value = [0.284, 0.205, 0.225, 0.178, 0.108]</text>\n</g>\n<!-- 82&#45;&gt;280 -->\n<g id=\"edge12\" class=\"edge\">\n<title>82&#45;&gt;280</title>\n<path fill=\"none\" stroke=\"black\" d=\"M778.46,-160.98C812.75,-150.63 852.5,-138.62 887.73,-127.98\"/>\n<polygon fill=\"black\" stroke=\"black\" points=\"888.98,-131.26 897.54,-125.01 886.95,-124.56 888.98,-131.26\"/>\n</g>\n<!-- 84 -->\n<g id=\"node11\" class=\"node\">\n<title>84</title>\n<polygon fill=\"#c0c0c0\" stroke=\"black\" points=\"684,-36 630,-36 630,0 684,0 684,-36\"/>\n<text text-anchor=\"middle\" x=\"657\" y=\"-14.3\" font-family=\"Helvetica,sans-Serif\" font-size=\"14.00\">(...)</text>\n</g>\n<!-- 83&#45;&gt;84 -->\n<g id=\"edge10\" class=\"edge\">\n<title>83&#45;&gt;84</title>\n<path fill=\"none\" stroke=\"black\" d=\"M681.21,-71.8C677.34,-63.35 673.03,-53.95 669.13,-45.45\"/>\n<polygon fill=\"black\" stroke=\"black\" points=\"672.3,-43.96 664.95,-36.33 665.93,-46.88 672.3,-43.96\"/>\n</g>\n<!-- 93 -->\n<g id=\"node12\" class=\"node\">\n<title>93</title>\n<polygon fill=\"#c0c0c0\" stroke=\"black\" points=\"756,-36 702,-36 702,0 756,0 756,-36\"/>\n<text text-anchor=\"middle\" x=\"729\" y=\"-14.3\" font-family=\"Helvetica,sans-Serif\" font-size=\"14.00\">(...)</text>\n</g>\n<!-- 83&#45;&gt;93 -->\n<g id=\"edge11\" class=\"edge\">\n<title>83&#45;&gt;93</title>\n<path fill=\"none\" stroke=\"black\" d=\"M704.79,-71.8C708.66,-63.35 712.97,-53.95 716.87,-45.45\"/>\n<polygon fill=\"black\" stroke=\"black\" points=\"720.07,-46.88 721.05,-36.33 713.7,-43.96 720.07,-46.88\"/>\n</g>\n<!-- 281 -->\n<g id=\"node14\" class=\"node\">\n<title>281</title>\n<polygon fill=\"#c0c0c0\" stroke=\"black\" points=\"973,-36 919,-36 919,0 973,0 973,-36\"/>\n<text text-anchor=\"middle\" x=\"946\" y=\"-14.3\" font-family=\"Helvetica,sans-Serif\" font-size=\"14.00\">(...)</text>\n</g>\n<!-- 280&#45;&gt;281 -->\n<g id=\"edge13\" class=\"edge\">\n<title>280&#45;&gt;281</title>\n<path fill=\"none\" stroke=\"black\" d=\"M970.21,-71.8C966.34,-63.35 962.03,-53.95 958.13,-45.45\"/>\n<polygon fill=\"black\" stroke=\"black\" points=\"961.3,-43.96 953.95,-36.33 954.93,-46.88 961.3,-43.96\"/>\n</g>\n<!-- 292 -->\n<g id=\"node15\" class=\"node\">\n<title>292</title>\n<polygon fill=\"#c0c0c0\" stroke=\"black\" points=\"1045,-36 991,-36 991,0 1045,0 1045,-36\"/>\n<text text-anchor=\"middle\" x=\"1018\" y=\"-14.3\" font-family=\"Helvetica,sans-Serif\" font-size=\"14.00\">(...)</text>\n</g>\n<!-- 280&#45;&gt;292 -->\n<g id=\"edge14\" class=\"edge\">\n<title>280&#45;&gt;292</title>\n<path fill=\"none\" stroke=\"black\" d=\"M993.79,-71.8C997.66,-63.35 1001.97,-53.95 1005.87,-45.45\"/>\n<polygon fill=\"black\" stroke=\"black\" points=\"1009.07,-46.88 1010.05,-36.33 1002.7,-43.96 1009.07,-46.88\"/>\n</g>\n</g>\n</svg>\n",
            "text/plain": [
              "<graphviz.sources.Source at 0x7ad2a3079ba0>"
            ]
          },
          "metadata": {},
          "output_type": "display_data"
        },
        {
          "data": {
            "image/svg+xml": "<?xml version=\"1.0\" encoding=\"UTF-8\" standalone=\"no\"?>\n<!DOCTYPE svg PUBLIC \"-//W3C//DTD SVG 1.1//EN\"\n \"http://www.w3.org/Graphics/SVG/1.1/DTD/svg11.dtd\">\n<!-- Generated by graphviz version 2.43.0 (0)\n -->\n<!-- Title: Tree Pages: 1 -->\n<svg width=\"1116pt\" height=\"311pt\"\n viewBox=\"0.00 0.00 1116.00 311.00\" xmlns=\"http://www.w3.org/2000/svg\" xmlns:xlink=\"http://www.w3.org/1999/xlink\">\n<g id=\"graph0\" class=\"graph\" transform=\"scale(1 1) rotate(0) translate(4 307)\">\n<title>Tree</title>\n<polygon fill=\"white\" stroke=\"transparent\" points=\"-4,4 -4,-307 1112,-307 1112,4 -4,4\"/>\n<!-- 0 -->\n<g id=\"node1\" class=\"node\">\n<title>0</title>\n<polygon fill=\"#fffdfc\" stroke=\"black\" points=\"674,-303 403,-303 403,-250 674,-250 674,-303\"/>\n<text text-anchor=\"middle\" x=\"538.5\" y=\"-287.8\" font-family=\"Helvetica,sans-Serif\" font-size=\"14.00\">feature_228 &lt;= &#45;1.538</text>\n<text text-anchor=\"middle\" x=\"538.5\" y=\"-272.8\" font-family=\"Helvetica,sans-Serif\" font-size=\"14.00\">samples = 100.0%</text>\n<text text-anchor=\"middle\" x=\"538.5\" y=\"-257.8\" font-family=\"Helvetica,sans-Serif\" font-size=\"14.00\">value = [0.217, 0.191, 0.204, 0.203, 0.185]</text>\n</g>\n<!-- 1 -->\n<g id=\"node2\" class=\"node\">\n<title>1</title>\n<polygon fill=\"#f9fef6\" stroke=\"black\" points=\"530,-214 259,-214 259,-161 530,-161 530,-214\"/>\n<text text-anchor=\"middle\" x=\"394.5\" y=\"-198.8\" font-family=\"Helvetica,sans-Serif\" font-size=\"14.00\">feature_205 &lt;= &#45;2.051</text>\n<text text-anchor=\"middle\" x=\"394.5\" y=\"-183.8\" font-family=\"Helvetica,sans-Serif\" font-size=\"14.00\">samples = 12.6%</text>\n<text text-anchor=\"middle\" x=\"394.5\" y=\"-168.8\" font-family=\"Helvetica,sans-Serif\" font-size=\"14.00\">value = [0.074, 0.348, 0.118, 0.142, 0.319]</text>\n</g>\n<!-- 0&#45;&gt;1 -->\n<g id=\"edge1\" class=\"edge\">\n<title>0&#45;&gt;1</title>\n<path fill=\"none\" stroke=\"black\" d=\"M496.07,-249.87C480.39,-240.39 462.45,-229.55 446.05,-219.64\"/>\n<polygon fill=\"black\" stroke=\"black\" points=\"447.49,-216.43 437.12,-214.25 443.87,-222.42 447.49,-216.43\"/>\n<text text-anchor=\"middle\" x=\"443.11\" y=\"-234.82\" font-family=\"Helvetica,sans-Serif\" font-size=\"14.00\">True</text>\n</g>\n<!-- 88 -->\n<g id=\"node9\" class=\"node\">\n<title>88</title>\n<polygon fill=\"#fefcfa\" stroke=\"black\" points=\"819,-214 548,-214 548,-161 819,-161 819,-214\"/>\n<text text-anchor=\"middle\" x=\"683.5\" y=\"-198.8\" font-family=\"Helvetica,sans-Serif\" font-size=\"14.00\">feature_68 &lt;= &#45;0.55</text>\n<text text-anchor=\"middle\" x=\"683.5\" y=\"-183.8\" font-family=\"Helvetica,sans-Serif\" font-size=\"14.00\">samples = 87.4%</text>\n<text text-anchor=\"middle\" x=\"683.5\" y=\"-168.8\" font-family=\"Helvetica,sans-Serif\" font-size=\"14.00\">value = [0.238, 0.168, 0.217, 0.212, 0.165]</text>\n</g>\n<!-- 0&#45;&gt;88 -->\n<g id=\"edge8\" class=\"edge\">\n<title>0&#45;&gt;88</title>\n<path fill=\"none\" stroke=\"black\" d=\"M581.22,-249.87C597.01,-240.39 615.08,-229.55 631.59,-219.64\"/>\n<polygon fill=\"black\" stroke=\"black\" points=\"633.81,-222.4 640.58,-214.25 630.21,-216.39 633.81,-222.4\"/>\n<text text-anchor=\"middle\" x=\"634.52\" y=\"-234.8\" font-family=\"Helvetica,sans-Serif\" font-size=\"14.00\">False</text>\n</g>\n<!-- 2 -->\n<g id=\"node3\" class=\"node\">\n<title>2</title>\n<polygon fill=\"#f193dd\" stroke=\"black\" points=\"241,-125 0,-125 0,-72 241,-72 241,-125\"/>\n<text text-anchor=\"middle\" x=\"120.5\" y=\"-109.8\" font-family=\"Helvetica,sans-Serif\" font-size=\"14.00\">feature_2386 &lt;= &#45;1.493</text>\n<text text-anchor=\"middle\" x=\"120.5\" y=\"-94.8\" font-family=\"Helvetica,sans-Serif\" font-size=\"14.00\">samples = 4.2%</text>\n<text text-anchor=\"middle\" x=\"120.5\" y=\"-79.8\" font-family=\"Helvetica,sans-Serif\" font-size=\"14.00\">value = [0.0, 0.185, 0.0, 0.185, 0.631]</text>\n</g>\n<!-- 1&#45;&gt;2 -->\n<g id=\"edge2\" class=\"edge\">\n<title>1&#45;&gt;2</title>\n<path fill=\"none\" stroke=\"black\" d=\"M314.14,-160.98C281.66,-150.67 244.02,-138.72 210.62,-128.11\"/>\n<polygon fill=\"black\" stroke=\"black\" points=\"211.45,-124.71 200.86,-125.01 209.33,-131.38 211.45,-124.71\"/>\n</g>\n<!-- 25 -->\n<g id=\"node6\" class=\"node\">\n<title>25</title>\n<polygon fill=\"#d7f7c3\" stroke=\"black\" points=\"530,-125 259,-125 259,-72 530,-72 530,-125\"/>\n<text text-anchor=\"middle\" x=\"394.5\" y=\"-109.8\" font-family=\"Helvetica,sans-Serif\" font-size=\"14.00\">feature_645 &lt;= &#45;1.063</text>\n<text text-anchor=\"middle\" x=\"394.5\" y=\"-94.8\" font-family=\"Helvetica,sans-Serif\" font-size=\"14.00\">samples = 8.5%</text>\n<text text-anchor=\"middle\" x=\"394.5\" y=\"-79.8\" font-family=\"Helvetica,sans-Serif\" font-size=\"14.00\">value = [0.108, 0.424, 0.173, 0.122, 0.173]</text>\n</g>\n<!-- 1&#45;&gt;25 -->\n<g id=\"edge5\" class=\"edge\">\n<title>1&#45;&gt;25</title>\n<path fill=\"none\" stroke=\"black\" d=\"M394.5,-160.87C394.5,-152.89 394.5,-143.93 394.5,-135.38\"/>\n<polygon fill=\"black\" stroke=\"black\" points=\"398,-135.25 394.5,-125.25 391,-135.25 398,-135.25\"/>\n</g>\n<!-- 3 -->\n<g id=\"node4\" class=\"node\">\n<title>3</title>\n<polygon fill=\"#c0c0c0\" stroke=\"black\" points=\"111.5,-36 57.5,-36 57.5,0 111.5,0 111.5,-36\"/>\n<text text-anchor=\"middle\" x=\"84.5\" y=\"-14.3\" font-family=\"Helvetica,sans-Serif\" font-size=\"14.00\">(...)</text>\n</g>\n<!-- 2&#45;&gt;3 -->\n<g id=\"edge3\" class=\"edge\">\n<title>2&#45;&gt;3</title>\n<path fill=\"none\" stroke=\"black\" d=\"M108.71,-71.8C104.84,-63.35 100.53,-53.95 96.63,-45.45\"/>\n<polygon fill=\"black\" stroke=\"black\" points=\"99.8,-43.96 92.45,-36.33 93.43,-46.88 99.8,-43.96\"/>\n</g>\n<!-- 4 -->\n<g id=\"node5\" class=\"node\">\n<title>4</title>\n<polygon fill=\"#c0c0c0\" stroke=\"black\" points=\"183.5,-36 129.5,-36 129.5,0 183.5,0 183.5,-36\"/>\n<text text-anchor=\"middle\" x=\"156.5\" y=\"-14.3\" font-family=\"Helvetica,sans-Serif\" font-size=\"14.00\">(...)</text>\n</g>\n<!-- 2&#45;&gt;4 -->\n<g id=\"edge4\" class=\"edge\">\n<title>2&#45;&gt;4</title>\n<path fill=\"none\" stroke=\"black\" d=\"M132.29,-71.8C136.16,-63.35 140.47,-53.95 144.37,-45.45\"/>\n<polygon fill=\"black\" stroke=\"black\" points=\"147.57,-46.88 148.55,-36.33 141.2,-43.96 147.57,-46.88\"/>\n</g>\n<!-- 26 -->\n<g id=\"node7\" class=\"node\">\n<title>26</title>\n<polygon fill=\"#c0c0c0\" stroke=\"black\" points=\"385.5,-36 331.5,-36 331.5,0 385.5,0 385.5,-36\"/>\n<text text-anchor=\"middle\" x=\"358.5\" y=\"-14.3\" font-family=\"Helvetica,sans-Serif\" font-size=\"14.00\">(...)</text>\n</g>\n<!-- 25&#45;&gt;26 -->\n<g id=\"edge6\" class=\"edge\">\n<title>25&#45;&gt;26</title>\n<path fill=\"none\" stroke=\"black\" d=\"M382.71,-71.8C378.84,-63.35 374.53,-53.95 370.63,-45.45\"/>\n<polygon fill=\"black\" stroke=\"black\" points=\"373.8,-43.96 366.45,-36.33 367.43,-46.88 373.8,-43.96\"/>\n</g>\n<!-- 41 -->\n<g id=\"node8\" class=\"node\">\n<title>41</title>\n<polygon fill=\"#c0c0c0\" stroke=\"black\" points=\"457.5,-36 403.5,-36 403.5,0 457.5,0 457.5,-36\"/>\n<text text-anchor=\"middle\" x=\"430.5\" y=\"-14.3\" font-family=\"Helvetica,sans-Serif\" font-size=\"14.00\">(...)</text>\n</g>\n<!-- 25&#45;&gt;41 -->\n<g id=\"edge7\" class=\"edge\">\n<title>25&#45;&gt;41</title>\n<path fill=\"none\" stroke=\"black\" d=\"M406.29,-71.8C410.16,-63.35 414.47,-53.95 418.37,-45.45\"/>\n<polygon fill=\"black\" stroke=\"black\" points=\"421.57,-46.88 422.55,-36.33 415.2,-43.96 421.57,-46.88\"/>\n</g>\n<!-- 89 -->\n<g id=\"node10\" class=\"node\">\n<title>89</title>\n<polygon fill=\"#fdf3fb\" stroke=\"black\" points=\"819,-125 548,-125 548,-72 819,-72 819,-125\"/>\n<text text-anchor=\"middle\" x=\"683.5\" y=\"-109.8\" font-family=\"Helvetica,sans-Serif\" font-size=\"14.00\">feature_47 &lt;= &#45;0.196</text>\n<text text-anchor=\"middle\" x=\"683.5\" y=\"-94.8\" font-family=\"Helvetica,sans-Serif\" font-size=\"14.00\">samples = 30.4%</text>\n<text text-anchor=\"middle\" x=\"683.5\" y=\"-79.8\" font-family=\"Helvetica,sans-Serif\" font-size=\"14.00\">value = [0.111, 0.113, 0.166, 0.283, 0.328]</text>\n</g>\n<!-- 88&#45;&gt;89 -->\n<g id=\"edge9\" class=\"edge\">\n<title>88&#45;&gt;89</title>\n<path fill=\"none\" stroke=\"black\" d=\"M683.5,-160.87C683.5,-152.89 683.5,-143.93 683.5,-135.38\"/>\n<polygon fill=\"black\" stroke=\"black\" points=\"687,-135.25 683.5,-125.25 680,-135.25 687,-135.25\"/>\n</g>\n<!-- 314 -->\n<g id=\"node13\" class=\"node\">\n<title>314</title>\n<polygon fill=\"#fdf5ef\" stroke=\"black\" points=\"1108,-125 837,-125 837,-72 1108,-72 1108,-125\"/>\n<text text-anchor=\"middle\" x=\"972.5\" y=\"-109.8\" font-family=\"Helvetica,sans-Serif\" font-size=\"14.00\">feature_778 &lt;= &#45;0.797</text>\n<text text-anchor=\"middle\" x=\"972.5\" y=\"-94.8\" font-family=\"Helvetica,sans-Serif\" font-size=\"14.00\">samples = 56.9%</text>\n<text text-anchor=\"middle\" x=\"972.5\" y=\"-79.8\" font-family=\"Helvetica,sans-Serif\" font-size=\"14.00\">value = [0.306, 0.197, 0.244, 0.174, 0.078]</text>\n</g>\n<!-- 88&#45;&gt;314 -->\n<g id=\"edge12\" class=\"edge\">\n<title>88&#45;&gt;314</title>\n<path fill=\"none\" stroke=\"black\" d=\"M768.26,-160.98C802.66,-150.63 842.55,-138.62 877.9,-127.98\"/>\n<polygon fill=\"black\" stroke=\"black\" points=\"879.18,-131.25 887.74,-125.01 877.16,-124.55 879.18,-131.25\"/>\n</g>\n<!-- 90 -->\n<g id=\"node11\" class=\"node\">\n<title>90</title>\n<polygon fill=\"#c0c0c0\" stroke=\"black\" points=\"674.5,-36 620.5,-36 620.5,0 674.5,0 674.5,-36\"/>\n<text text-anchor=\"middle\" x=\"647.5\" y=\"-14.3\" font-family=\"Helvetica,sans-Serif\" font-size=\"14.00\">(...)</text>\n</g>\n<!-- 89&#45;&gt;90 -->\n<g id=\"edge10\" class=\"edge\">\n<title>89&#45;&gt;90</title>\n<path fill=\"none\" stroke=\"black\" d=\"M671.71,-71.8C667.84,-63.35 663.53,-53.95 659.63,-45.45\"/>\n<polygon fill=\"black\" stroke=\"black\" points=\"662.8,-43.96 655.45,-36.33 656.43,-46.88 662.8,-43.96\"/>\n</g>\n<!-- 249 -->\n<g id=\"node12\" class=\"node\">\n<title>249</title>\n<polygon fill=\"#c0c0c0\" stroke=\"black\" points=\"746.5,-36 692.5,-36 692.5,0 746.5,0 746.5,-36\"/>\n<text text-anchor=\"middle\" x=\"719.5\" y=\"-14.3\" font-family=\"Helvetica,sans-Serif\" font-size=\"14.00\">(...)</text>\n</g>\n<!-- 89&#45;&gt;249 -->\n<g id=\"edge11\" class=\"edge\">\n<title>89&#45;&gt;249</title>\n<path fill=\"none\" stroke=\"black\" d=\"M695.29,-71.8C699.16,-63.35 703.47,-53.95 707.37,-45.45\"/>\n<polygon fill=\"black\" stroke=\"black\" points=\"710.57,-46.88 711.55,-36.33 704.2,-43.96 710.57,-46.88\"/>\n</g>\n<!-- 315 -->\n<g id=\"node14\" class=\"node\">\n<title>315</title>\n<polygon fill=\"#c0c0c0\" stroke=\"black\" points=\"963.5,-36 909.5,-36 909.5,0 963.5,0 963.5,-36\"/>\n<text text-anchor=\"middle\" x=\"936.5\" y=\"-14.3\" font-family=\"Helvetica,sans-Serif\" font-size=\"14.00\">(...)</text>\n</g>\n<!-- 314&#45;&gt;315 -->\n<g id=\"edge13\" class=\"edge\">\n<title>314&#45;&gt;315</title>\n<path fill=\"none\" stroke=\"black\" d=\"M960.71,-71.8C956.84,-63.35 952.53,-53.95 948.63,-45.45\"/>\n<polygon fill=\"black\" stroke=\"black\" points=\"951.8,-43.96 944.45,-36.33 945.43,-46.88 951.8,-43.96\"/>\n</g>\n<!-- 366 -->\n<g id=\"node15\" class=\"node\">\n<title>366</title>\n<polygon fill=\"#c0c0c0\" stroke=\"black\" points=\"1035.5,-36 981.5,-36 981.5,0 1035.5,0 1035.5,-36\"/>\n<text text-anchor=\"middle\" x=\"1008.5\" y=\"-14.3\" font-family=\"Helvetica,sans-Serif\" font-size=\"14.00\">(...)</text>\n</g>\n<!-- 314&#45;&gt;366 -->\n<g id=\"edge14\" class=\"edge\">\n<title>314&#45;&gt;366</title>\n<path fill=\"none\" stroke=\"black\" d=\"M984.29,-71.8C988.16,-63.35 992.47,-53.95 996.37,-45.45\"/>\n<polygon fill=\"black\" stroke=\"black\" points=\"999.57,-46.88 1000.55,-36.33 993.2,-43.96 999.57,-46.88\"/>\n</g>\n</g>\n</svg>\n",
            "text/plain": [
              "<graphviz.sources.Source at 0x7ad2a2e678b0>"
            ]
          },
          "metadata": {},
          "output_type": "display_data"
        }
      ],
      "source": [
        "# Fit the random forest classifier\n",
        "rf.fit(X_train, y_train)\n",
        "\n",
        "# Access the individual decision trees\n",
        "for i in range(3):\n",
        "    tree = rf.estimators_[i]\n",
        "    dot_data = export_graphviz(tree,\n",
        "                               out_file=None,\n",
        "                               feature_names=[f'feature_{i}' for i in range(X_train.shape[1])],\n",
        "                               filled=True,\n",
        "                               max_depth=2,\n",
        "                               impurity=False,\n",
        "                               proportion=True)\n",
        "    graph = graphviz.Source(dot_data)\n",
        "    display(graph)\n"
      ]
    },
    {
      "cell_type": "markdown",
      "metadata": {
        "id": "JMTdwvFUNQnT"
      },
      "source": [
        "Random Search for hyperparameter tuning and fiding an optimal model\n"
      ]
    },
    {
      "cell_type": "code",
      "execution_count": null,
      "metadata": {
        "colab": {
          "base_uri": "https://localhost:8080/"
        },
        "id": "vSgKLjGKNV68",
        "outputId": "3aac08a3-fb5f-44f1-c1b7-0b873d5ca1b2"
      },
      "outputs": [
        {
          "name": "stdout",
          "output_type": "stream",
          "text": [
            "Best hyperparameters: {'max_depth': 15, 'n_estimators': 416}\n"
          ]
        }
      ],
      "source": [
        "param_dist = {'n_estimators': randint(100,500),\n",
        "              'max_depth': randint(10,20)}\n",
        "\n",
        "# Create a random forest classifier\n",
        "rf = RandomForestClassifier()\n",
        "\n",
        "# Use random search to find the best hyperparameters\n",
        "rand_search = RandomizedSearchCV(rf,\n",
        "                                 param_distributions = param_dist,\n",
        "                                 n_iter=20,\n",
        "                                 cv=5)\n",
        "\n",
        "# Fit the random search object to the data\n",
        "rand_search.fit(X_train, y_train)\n",
        "\n",
        "# Create a variable for the best model\n",
        "best_rf = rand_search.best_estimator_\n",
        "\n",
        "# Print the best hyperparameters\n",
        "print('Best hyperparameters:',  rand_search.best_params_)\n"
      ]
    },
    {
      "cell_type": "code",
      "execution_count": null,
      "metadata": {
        "colab": {
          "base_uri": "https://localhost:8080/"
        },
        "id": "eM4MhTBFPBqx",
        "outputId": "f950013c-a0eb-4896-e553-1af51cbe3ed8"
      },
      "outputs": [
        {
          "name": "stdout",
          "output_type": "stream",
          "text": [
            "Accuracy: 0.4075\n"
          ]
        }
      ],
      "source": [
        "best_rf = RandomForestClassifier(max_depth=15, n_estimators=200)\n",
        "\n",
        "best_rf.fit(X_train, y_train)\n",
        "\n",
        "y_pred = best_rf.predict(X_test)\n",
        "\n",
        "# Evaluate the performance of the model\n",
        "accuracy = accuracy_score(y_test, y_pred)\n",
        "print(\"Accuracy:\", accuracy)"
      ]
    },
    {
      "cell_type": "markdown",
      "metadata": {
        "id": "Ihc3k50I3zIU"
      },
      "source": []
    },
    {
      "cell_type": "markdown",
      "metadata": {
        "id": "dQMT7NSN9K9Z"
      },
      "source": [
        "# Meta-Model (RF + XGB + MLP) --> RF"
      ]
    },
    {
      "cell_type": "code",
      "execution_count": null,
      "metadata": {
        "colab": {
          "background_save": true
        },
        "id": "d2yhsGh49Vpw",
        "outputId": "73ebb28f-5d08-4ab4-8f09-d958e9d4327c"
      },
      "outputs": [
        {
          "name": "stdout",
          "output_type": "stream",
          "text": [
            "Voting Classifier Accuracy: 0.41454545454545455\n"
          ]
        }
      ],
      "source": [
        "from sklearn.model_selection import train_test_split\n",
        "from sklearn.ensemble import RandomForestClassifier\n",
        "from sklearn.neural_network import MLPClassifier\n",
        "from xgboost import XGBClassifier\n",
        "from sklearn.ensemble import StackingClassifier\n",
        "from sklearn.metrics import accuracy_score\n",
        "from sklearn.ensemble import VotingClassifier\n",
        "from sklearn.preprocessing import LabelEncoder\n",
        "\n",
        "\n",
        "\n",
        "\n",
        "# Convert emotion labels to numerical values\n",
        "label_encoder = LabelEncoder()\n",
        "y_encoded = label_encoder.fit_transform(y_filtered)\n",
        "\n",
        "# Standardize features by removing the mean and scaling to unit variance\n",
        "scaler = StandardScaler()\n",
        "X_scaled = scaler.fit_transform(X_filtered)\n",
        "\n",
        "# Train-test split\n",
        "X_train, X_test, y_train, y_test = train_test_split(X_scaled, y_filtered, test_size=0.2, random_state=42)\n",
        "\n",
        "# Define base models\n",
        "base_models = [\n",
        "    ('rf', RandomForestClassifier(n_estimators=400, max_depth=15 , random_state=42)),\n",
        "    #('mlp', MLPClassifier(hidden_layer_sizes=(200,), max_iter=100, random_state=42)),\n",
        "    ('xgb', XGBClassifier(n_estimators=150, max_depth=15, random_state=42))]\n",
        "\n",
        "# Define meta-model\n",
        "meta_model = RandomForestClassifier(n_estimators=400, max_depth=15 , random_state=42)\n",
        "\n",
        "# Create stacking classifier\n",
        "stacking_model = StackingClassifier(estimators=base_models, final_estimator=meta_model)\n",
        "\n",
        "# Train stacking model\n",
        "stacking_model.fit(X_train, y_train)\n",
        "\n",
        "# Make predictions\n",
        "y_pred = stacking_model.predict(X_test)\n",
        "\n",
        "# Create voting classifier\n",
        "#voting_model = VotingClassifier(estimators=base_models, voting='soft')\n",
        "\n",
        "# Train voting classifier\n",
        "#voting_model.fit(X_train, y_train)\n",
        "\n",
        "# Make predictions\n",
        "#y_pred = voting_model.predict(X_test)\n",
        "\n",
        "# Evaluate performance\n",
        "accuracy = accuracy_score(y_test, y_pred)\n",
        "print(\"Voting Classifier Accuracy:\", accuracy)\n",
        "\n"
      ]
    },
    {
      "cell_type": "markdown",
      "metadata": {
        "id": "epVU4GoocluH"
      },
      "source": [
        "0.395 for 100 estimators for each, no max depth and also MLP with 100 hidden (more than 10 min)\n",
        "0.35 without MLP 400 estimators and 15 depth for RF and XGB"
      ]
    },
    {
      "cell_type": "code",
      "execution_count": null,
      "metadata": {
        "id": "sTPSHBOFcldf"
      },
      "outputs": [],
      "source": []
    }
  ],
  "metadata": {
    "accelerator": "TPU",
    "colab": {
      "provenance": [],
      "include_colab_link": true
    },
    "kernelspec": {
      "display_name": "Python 3",
      "name": "python3"
    },
    "language_info": {
      "name": "python"
    }
  },
  "nbformat": 4,
  "nbformat_minor": 0
}