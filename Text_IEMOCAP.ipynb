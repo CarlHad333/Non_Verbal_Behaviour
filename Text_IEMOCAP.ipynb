{
  "cells": [
    {
      "cell_type": "markdown",
      "metadata": {
        "id": "view-in-github",
        "colab_type": "text"
      },
      "source": [
        "<a href=\"https://colab.research.google.com/github/CarlHad333/Non_Verbal_Behaviour/blob/main/Text_IEMOCAP.ipynb\" target=\"_parent\"><img src=\"https://colab.research.google.com/assets/colab-badge.svg\" alt=\"Open In Colab\"/></a>"
      ]
    },
    {
      "cell_type": "code",
      "execution_count": null,
      "metadata": {
        "colab": {
          "base_uri": "https://localhost:8080/"
        },
        "id": "CxRIknJBUYvB",
        "outputId": "f50e69e8-b4af-4761-a300-6e4ee6e2c049"
      },
      "outputs": [
        {
          "output_type": "stream",
          "name": "stdout",
          "text": [
            "Mounted at /content/gdrive\n"
          ]
        }
      ],
      "source": [
        "from google.colab import drive\n",
        "drive.mount('/content/gdrive')"
      ]
    },
    {
      "cell_type": "code",
      "execution_count": null,
      "metadata": {
        "id": "4Y1FSJos8WWq"
      },
      "outputs": [],
      "source": [
        "#installing some packages that aren't available by default in colab\n",
        "!pip install neattext\n",
        "!pip install pytorch_transformers"
      ]
    },
    {
      "cell_type": "code",
      "execution_count": null,
      "metadata": {
        "id": "5lZPMSBHhzZV"
      },
      "outputs": [],
      "source": [
        "#Importing necessary libraries\n",
        "import numpy as np\n",
        "import pandas as pd\n",
        "import os\n",
        "import re\n",
        "import neattext.functions as nfx\n",
        "from sklearn.pipeline import Pipeline\n",
        "from sklearn.model_selection import train_test_split\n",
        "from sklearn.feature_extraction.text import CountVectorizer\n",
        "from sklearn.linear_model import LogisticRegression\n",
        "from sklearn.feature_extraction.text import TfidfVectorizer\n",
        "from sklearn.preprocessing import LabelEncoder\n",
        "import torch\n",
        "import torch\n",
        "from transformers import AutoTokenizer, AutoModel\n",
        "from xgboost import XGBClassifier\n",
        "from sklearn.pipeline import Pipeline"
      ]
    },
    {
      "cell_type": "code",
      "execution_count": null,
      "metadata": {
        "colab": {
          "base_uri": "https://localhost:8080/",
          "height": 243
        },
        "id": "yl4x9f-fbg7s",
        "outputId": "93e33be1-4bec-4e7f-c3b2-7f70867bc451"
      },
      "outputs": [
        {
          "output_type": "display_data",
          "data": {
            "text/plain": [
              "   Unnamed: 0  session  method gender  n_annotators  agreement emotion  \\\n",
              "0           0        1  script      F             3          3     neu   \n",
              "1           1        1  script      F             3          2     fru   \n",
              "2           2        1  script      F             0          0     xxx   \n",
              "3           3        1  script      F             3          2     sur   \n",
              "4           4        1  script      F             3          2     neu   \n",
              "\n",
              "   valence  activation  dominance  \\\n",
              "0      2.5         2.0        2.0   \n",
              "1      2.5         2.0        2.5   \n",
              "2      2.0         2.0        2.5   \n",
              "3      2.5         3.0        3.0   \n",
              "4      2.0         3.0        3.0   \n",
              "\n",
              "                                            wav_path  \\\n",
              "0  IEMOCAP_full_release/Session1/sentences/wav/Se...   \n",
              "1  IEMOCAP_full_release/Session1/sentences/wav/Se...   \n",
              "2  IEMOCAP_full_release/Session1/sentences/wav/Se...   \n",
              "3  IEMOCAP_full_release/Session1/sentences/wav/Se...   \n",
              "4  IEMOCAP_full_release/Session1/sentences/wav/Se...   \n",
              "\n",
              "                                  MOCAP_rotated_path  \\\n",
              "0  IEMOCAP_full_release/Session1/sentences/MOCAP_...   \n",
              "1  IEMOCAP_full_release/Session1/sentences/MOCAP_...   \n",
              "2  IEMOCAP_full_release/Session1/sentences/MOCAP_...   \n",
              "3  IEMOCAP_full_release/Session1/sentences/MOCAP_...   \n",
              "4  IEMOCAP_full_release/Session1/sentences/MOCAP_...   \n",
              "\n",
              "                                     MOCAP_head_path  \\\n",
              "0  IEMOCAP_full_release/Session1/sentences/MOCAP_...   \n",
              "1  IEMOCAP_full_release/Session1/sentences/MOCAP_...   \n",
              "2  IEMOCAP_full_release/Session1/sentences/MOCAP_...   \n",
              "3  IEMOCAP_full_release/Session1/sentences/MOCAP_...   \n",
              "4  IEMOCAP_full_release/Session1/sentences/MOCAP_...   \n",
              "\n",
              "                                     MOCAP_hand_path  \\\n",
              "0  IEMOCAP_full_release/Session1/sentences/MOCAP_...   \n",
              "1  IEMOCAP_full_release/Session1/sentences/MOCAP_...   \n",
              "2  IEMOCAP_full_release/Session1/sentences/MOCAP_...   \n",
              "3  IEMOCAP_full_release/Session1/sentences/MOCAP_...   \n",
              "4  IEMOCAP_full_release/Session1/sentences/MOCAP_...   \n",
              "\n",
              "                                          FA_ph_path  \\\n",
              "0  IEMOCAP_full_release/Session1/sentences/Forced...   \n",
              "1  IEMOCAP_full_release/Session1/sentences/Forced...   \n",
              "2  IEMOCAP_full_release/Session1/sentences/Forced...   \n",
              "3  IEMOCAP_full_release/Session1/sentences/Forced...   \n",
              "4  IEMOCAP_full_release/Session1/sentences/Forced...   \n",
              "\n",
              "                                          FA_st_path  \\\n",
              "0  IEMOCAP_full_release/Session1/sentences/Forced...   \n",
              "1  IEMOCAP_full_release/Session1/sentences/Forced...   \n",
              "2  IEMOCAP_full_release/Session1/sentences/Forced...   \n",
              "3  IEMOCAP_full_release/Session1/sentences/Forced...   \n",
              "4  IEMOCAP_full_release/Session1/sentences/Forced...   \n",
              "\n",
              "                                          FA_sy_path  \\\n",
              "0  IEMOCAP_full_release/Session1/sentences/Forced...   \n",
              "1  IEMOCAP_full_release/Session1/sentences/Forced...   \n",
              "2  IEMOCAP_full_release/Session1/sentences/Forced...   \n",
              "3  IEMOCAP_full_release/Session1/sentences/Forced...   \n",
              "4  IEMOCAP_full_release/Session1/sentences/Forced...   \n",
              "\n",
              "                                          FA_wd_path  \n",
              "0  IEMOCAP_full_release/Session1/sentences/Forced...  \n",
              "1  IEMOCAP_full_release/Session1/sentences/Forced...  \n",
              "2  IEMOCAP_full_release/Session1/sentences/Forced...  \n",
              "3  IEMOCAP_full_release/Session1/sentences/Forced...  \n",
              "4  IEMOCAP_full_release/Session1/sentences/Forced...  "
            ],
            "text/html": [
              "\n",
              "  <div id=\"df-dc495904-2651-4418-96ec-ed391095b2ec\" class=\"colab-df-container\">\n",
              "    <div>\n",
              "<style scoped>\n",
              "    .dataframe tbody tr th:only-of-type {\n",
              "        vertical-align: middle;\n",
              "    }\n",
              "\n",
              "    .dataframe tbody tr th {\n",
              "        vertical-align: top;\n",
              "    }\n",
              "\n",
              "    .dataframe thead th {\n",
              "        text-align: right;\n",
              "    }\n",
              "</style>\n",
              "<table border=\"1\" class=\"dataframe\">\n",
              "  <thead>\n",
              "    <tr style=\"text-align: right;\">\n",
              "      <th></th>\n",
              "      <th>Unnamed: 0</th>\n",
              "      <th>session</th>\n",
              "      <th>method</th>\n",
              "      <th>gender</th>\n",
              "      <th>n_annotators</th>\n",
              "      <th>agreement</th>\n",
              "      <th>emotion</th>\n",
              "      <th>valence</th>\n",
              "      <th>activation</th>\n",
              "      <th>dominance</th>\n",
              "      <th>wav_path</th>\n",
              "      <th>MOCAP_rotated_path</th>\n",
              "      <th>MOCAP_head_path</th>\n",
              "      <th>MOCAP_hand_path</th>\n",
              "      <th>FA_ph_path</th>\n",
              "      <th>FA_st_path</th>\n",
              "      <th>FA_sy_path</th>\n",
              "      <th>FA_wd_path</th>\n",
              "    </tr>\n",
              "  </thead>\n",
              "  <tbody>\n",
              "    <tr>\n",
              "      <th>0</th>\n",
              "      <td>0</td>\n",
              "      <td>1</td>\n",
              "      <td>script</td>\n",
              "      <td>F</td>\n",
              "      <td>3</td>\n",
              "      <td>3</td>\n",
              "      <td>neu</td>\n",
              "      <td>2.5</td>\n",
              "      <td>2.0</td>\n",
              "      <td>2.0</td>\n",
              "      <td>IEMOCAP_full_release/Session1/sentences/wav/Se...</td>\n",
              "      <td>IEMOCAP_full_release/Session1/sentences/MOCAP_...</td>\n",
              "      <td>IEMOCAP_full_release/Session1/sentences/MOCAP_...</td>\n",
              "      <td>IEMOCAP_full_release/Session1/sentences/MOCAP_...</td>\n",
              "      <td>IEMOCAP_full_release/Session1/sentences/Forced...</td>\n",
              "      <td>IEMOCAP_full_release/Session1/sentences/Forced...</td>\n",
              "      <td>IEMOCAP_full_release/Session1/sentences/Forced...</td>\n",
              "      <td>IEMOCAP_full_release/Session1/sentences/Forced...</td>\n",
              "    </tr>\n",
              "    <tr>\n",
              "      <th>1</th>\n",
              "      <td>1</td>\n",
              "      <td>1</td>\n",
              "      <td>script</td>\n",
              "      <td>F</td>\n",
              "      <td>3</td>\n",
              "      <td>2</td>\n",
              "      <td>fru</td>\n",
              "      <td>2.5</td>\n",
              "      <td>2.0</td>\n",
              "      <td>2.5</td>\n",
              "      <td>IEMOCAP_full_release/Session1/sentences/wav/Se...</td>\n",
              "      <td>IEMOCAP_full_release/Session1/sentences/MOCAP_...</td>\n",
              "      <td>IEMOCAP_full_release/Session1/sentences/MOCAP_...</td>\n",
              "      <td>IEMOCAP_full_release/Session1/sentences/MOCAP_...</td>\n",
              "      <td>IEMOCAP_full_release/Session1/sentences/Forced...</td>\n",
              "      <td>IEMOCAP_full_release/Session1/sentences/Forced...</td>\n",
              "      <td>IEMOCAP_full_release/Session1/sentences/Forced...</td>\n",
              "      <td>IEMOCAP_full_release/Session1/sentences/Forced...</td>\n",
              "    </tr>\n",
              "    <tr>\n",
              "      <th>2</th>\n",
              "      <td>2</td>\n",
              "      <td>1</td>\n",
              "      <td>script</td>\n",
              "      <td>F</td>\n",
              "      <td>0</td>\n",
              "      <td>0</td>\n",
              "      <td>xxx</td>\n",
              "      <td>2.0</td>\n",
              "      <td>2.0</td>\n",
              "      <td>2.5</td>\n",
              "      <td>IEMOCAP_full_release/Session1/sentences/wav/Se...</td>\n",
              "      <td>IEMOCAP_full_release/Session1/sentences/MOCAP_...</td>\n",
              "      <td>IEMOCAP_full_release/Session1/sentences/MOCAP_...</td>\n",
              "      <td>IEMOCAP_full_release/Session1/sentences/MOCAP_...</td>\n",
              "      <td>IEMOCAP_full_release/Session1/sentences/Forced...</td>\n",
              "      <td>IEMOCAP_full_release/Session1/sentences/Forced...</td>\n",
              "      <td>IEMOCAP_full_release/Session1/sentences/Forced...</td>\n",
              "      <td>IEMOCAP_full_release/Session1/sentences/Forced...</td>\n",
              "    </tr>\n",
              "    <tr>\n",
              "      <th>3</th>\n",
              "      <td>3</td>\n",
              "      <td>1</td>\n",
              "      <td>script</td>\n",
              "      <td>F</td>\n",
              "      <td>3</td>\n",
              "      <td>2</td>\n",
              "      <td>sur</td>\n",
              "      <td>2.5</td>\n",
              "      <td>3.0</td>\n",
              "      <td>3.0</td>\n",
              "      <td>IEMOCAP_full_release/Session1/sentences/wav/Se...</td>\n",
              "      <td>IEMOCAP_full_release/Session1/sentences/MOCAP_...</td>\n",
              "      <td>IEMOCAP_full_release/Session1/sentences/MOCAP_...</td>\n",
              "      <td>IEMOCAP_full_release/Session1/sentences/MOCAP_...</td>\n",
              "      <td>IEMOCAP_full_release/Session1/sentences/Forced...</td>\n",
              "      <td>IEMOCAP_full_release/Session1/sentences/Forced...</td>\n",
              "      <td>IEMOCAP_full_release/Session1/sentences/Forced...</td>\n",
              "      <td>IEMOCAP_full_release/Session1/sentences/Forced...</td>\n",
              "    </tr>\n",
              "    <tr>\n",
              "      <th>4</th>\n",
              "      <td>4</td>\n",
              "      <td>1</td>\n",
              "      <td>script</td>\n",
              "      <td>F</td>\n",
              "      <td>3</td>\n",
              "      <td>2</td>\n",
              "      <td>neu</td>\n",
              "      <td>2.0</td>\n",
              "      <td>3.0</td>\n",
              "      <td>3.0</td>\n",
              "      <td>IEMOCAP_full_release/Session1/sentences/wav/Se...</td>\n",
              "      <td>IEMOCAP_full_release/Session1/sentences/MOCAP_...</td>\n",
              "      <td>IEMOCAP_full_release/Session1/sentences/MOCAP_...</td>\n",
              "      <td>IEMOCAP_full_release/Session1/sentences/MOCAP_...</td>\n",
              "      <td>IEMOCAP_full_release/Session1/sentences/Forced...</td>\n",
              "      <td>IEMOCAP_full_release/Session1/sentences/Forced...</td>\n",
              "      <td>IEMOCAP_full_release/Session1/sentences/Forced...</td>\n",
              "      <td>IEMOCAP_full_release/Session1/sentences/Forced...</td>\n",
              "    </tr>\n",
              "  </tbody>\n",
              "</table>\n",
              "</div>\n",
              "    <div class=\"colab-df-buttons\">\n",
              "\n",
              "  <div class=\"colab-df-container\">\n",
              "    <button class=\"colab-df-convert\" onclick=\"convertToInteractive('df-dc495904-2651-4418-96ec-ed391095b2ec')\"\n",
              "            title=\"Convert this dataframe to an interactive table.\"\n",
              "            style=\"display:none;\">\n",
              "\n",
              "  <svg xmlns=\"http://www.w3.org/2000/svg\" height=\"24px\" viewBox=\"0 -960 960 960\">\n",
              "    <path d=\"M120-120v-720h720v720H120Zm60-500h600v-160H180v160Zm220 220h160v-160H400v160Zm0 220h160v-160H400v160ZM180-400h160v-160H180v160Zm440 0h160v-160H620v160ZM180-180h160v-160H180v160Zm440 0h160v-160H620v160Z\"/>\n",
              "  </svg>\n",
              "    </button>\n",
              "\n",
              "  <style>\n",
              "    .colab-df-container {\n",
              "      display:flex;\n",
              "      gap: 12px;\n",
              "    }\n",
              "\n",
              "    .colab-df-convert {\n",
              "      background-color: #E8F0FE;\n",
              "      border: none;\n",
              "      border-radius: 50%;\n",
              "      cursor: pointer;\n",
              "      display: none;\n",
              "      fill: #1967D2;\n",
              "      height: 32px;\n",
              "      padding: 0 0 0 0;\n",
              "      width: 32px;\n",
              "    }\n",
              "\n",
              "    .colab-df-convert:hover {\n",
              "      background-color: #E2EBFA;\n",
              "      box-shadow: 0px 1px 2px rgba(60, 64, 67, 0.3), 0px 1px 3px 1px rgba(60, 64, 67, 0.15);\n",
              "      fill: #174EA6;\n",
              "    }\n",
              "\n",
              "    .colab-df-buttons div {\n",
              "      margin-bottom: 4px;\n",
              "    }\n",
              "\n",
              "    [theme=dark] .colab-df-convert {\n",
              "      background-color: #3B4455;\n",
              "      fill: #D2E3FC;\n",
              "    }\n",
              "\n",
              "    [theme=dark] .colab-df-convert:hover {\n",
              "      background-color: #434B5C;\n",
              "      box-shadow: 0px 1px 3px 1px rgba(0, 0, 0, 0.15);\n",
              "      filter: drop-shadow(0px 1px 2px rgba(0, 0, 0, 0.3));\n",
              "      fill: #FFFFFF;\n",
              "    }\n",
              "  </style>\n",
              "\n",
              "    <script>\n",
              "      const buttonEl =\n",
              "        document.querySelector('#df-dc495904-2651-4418-96ec-ed391095b2ec button.colab-df-convert');\n",
              "      buttonEl.style.display =\n",
              "        google.colab.kernel.accessAllowed ? 'block' : 'none';\n",
              "\n",
              "      async function convertToInteractive(key) {\n",
              "        const element = document.querySelector('#df-dc495904-2651-4418-96ec-ed391095b2ec');\n",
              "        const dataTable =\n",
              "          await google.colab.kernel.invokeFunction('convertToInteractive',\n",
              "                                                    [key], {});\n",
              "        if (!dataTable) return;\n",
              "\n",
              "        const docLinkHtml = 'Like what you see? Visit the ' +\n",
              "          '<a target=\"_blank\" href=https://colab.research.google.com/notebooks/data_table.ipynb>data table notebook</a>'\n",
              "          + ' to learn more about interactive tables.';\n",
              "        element.innerHTML = '';\n",
              "        dataTable['output_type'] = 'display_data';\n",
              "        await google.colab.output.renderOutput(dataTable, element);\n",
              "        const docLink = document.createElement('div');\n",
              "        docLink.innerHTML = docLinkHtml;\n",
              "        element.appendChild(docLink);\n",
              "      }\n",
              "    </script>\n",
              "  </div>\n",
              "\n",
              "\n",
              "<div id=\"df-103aa6db-384f-4064-a191-548e881529c4\">\n",
              "  <button class=\"colab-df-quickchart\" onclick=\"quickchart('df-103aa6db-384f-4064-a191-548e881529c4')\"\n",
              "            title=\"Suggest charts\"\n",
              "            style=\"display:none;\">\n",
              "\n",
              "<svg xmlns=\"http://www.w3.org/2000/svg\" height=\"24px\"viewBox=\"0 0 24 24\"\n",
              "     width=\"24px\">\n",
              "    <g>\n",
              "        <path d=\"M19 3H5c-1.1 0-2 .9-2 2v14c0 1.1.9 2 2 2h14c1.1 0 2-.9 2-2V5c0-1.1-.9-2-2-2zM9 17H7v-7h2v7zm4 0h-2V7h2v10zm4 0h-2v-4h2v4z\"/>\n",
              "    </g>\n",
              "</svg>\n",
              "  </button>\n",
              "\n",
              "<style>\n",
              "  .colab-df-quickchart {\n",
              "      --bg-color: #E8F0FE;\n",
              "      --fill-color: #1967D2;\n",
              "      --hover-bg-color: #E2EBFA;\n",
              "      --hover-fill-color: #174EA6;\n",
              "      --disabled-fill-color: #AAA;\n",
              "      --disabled-bg-color: #DDD;\n",
              "  }\n",
              "\n",
              "  [theme=dark] .colab-df-quickchart {\n",
              "      --bg-color: #3B4455;\n",
              "      --fill-color: #D2E3FC;\n",
              "      --hover-bg-color: #434B5C;\n",
              "      --hover-fill-color: #FFFFFF;\n",
              "      --disabled-bg-color: #3B4455;\n",
              "      --disabled-fill-color: #666;\n",
              "  }\n",
              "\n",
              "  .colab-df-quickchart {\n",
              "    background-color: var(--bg-color);\n",
              "    border: none;\n",
              "    border-radius: 50%;\n",
              "    cursor: pointer;\n",
              "    display: none;\n",
              "    fill: var(--fill-color);\n",
              "    height: 32px;\n",
              "    padding: 0;\n",
              "    width: 32px;\n",
              "  }\n",
              "\n",
              "  .colab-df-quickchart:hover {\n",
              "    background-color: var(--hover-bg-color);\n",
              "    box-shadow: 0 1px 2px rgba(60, 64, 67, 0.3), 0 1px 3px 1px rgba(60, 64, 67, 0.15);\n",
              "    fill: var(--button-hover-fill-color);\n",
              "  }\n",
              "\n",
              "  .colab-df-quickchart-complete:disabled,\n",
              "  .colab-df-quickchart-complete:disabled:hover {\n",
              "    background-color: var(--disabled-bg-color);\n",
              "    fill: var(--disabled-fill-color);\n",
              "    box-shadow: none;\n",
              "  }\n",
              "\n",
              "  .colab-df-spinner {\n",
              "    border: 2px solid var(--fill-color);\n",
              "    border-color: transparent;\n",
              "    border-bottom-color: var(--fill-color);\n",
              "    animation:\n",
              "      spin 1s steps(1) infinite;\n",
              "  }\n",
              "\n",
              "  @keyframes spin {\n",
              "    0% {\n",
              "      border-color: transparent;\n",
              "      border-bottom-color: var(--fill-color);\n",
              "      border-left-color: var(--fill-color);\n",
              "    }\n",
              "    20% {\n",
              "      border-color: transparent;\n",
              "      border-left-color: var(--fill-color);\n",
              "      border-top-color: var(--fill-color);\n",
              "    }\n",
              "    30% {\n",
              "      border-color: transparent;\n",
              "      border-left-color: var(--fill-color);\n",
              "      border-top-color: var(--fill-color);\n",
              "      border-right-color: var(--fill-color);\n",
              "    }\n",
              "    40% {\n",
              "      border-color: transparent;\n",
              "      border-right-color: var(--fill-color);\n",
              "      border-top-color: var(--fill-color);\n",
              "    }\n",
              "    60% {\n",
              "      border-color: transparent;\n",
              "      border-right-color: var(--fill-color);\n",
              "    }\n",
              "    80% {\n",
              "      border-color: transparent;\n",
              "      border-right-color: var(--fill-color);\n",
              "      border-bottom-color: var(--fill-color);\n",
              "    }\n",
              "    90% {\n",
              "      border-color: transparent;\n",
              "      border-bottom-color: var(--fill-color);\n",
              "    }\n",
              "  }\n",
              "</style>\n",
              "\n",
              "  <script>\n",
              "    async function quickchart(key) {\n",
              "      const quickchartButtonEl =\n",
              "        document.querySelector('#' + key + ' button');\n",
              "      quickchartButtonEl.disabled = true;  // To prevent multiple clicks.\n",
              "      quickchartButtonEl.classList.add('colab-df-spinner');\n",
              "      try {\n",
              "        const charts = await google.colab.kernel.invokeFunction(\n",
              "            'suggestCharts', [key], {});\n",
              "      } catch (error) {\n",
              "        console.error('Error during call to suggestCharts:', error);\n",
              "      }\n",
              "      quickchartButtonEl.classList.remove('colab-df-spinner');\n",
              "      quickchartButtonEl.classList.add('colab-df-quickchart-complete');\n",
              "    }\n",
              "    (() => {\n",
              "      let quickchartButtonEl =\n",
              "        document.querySelector('#df-103aa6db-384f-4064-a191-548e881529c4 button');\n",
              "      quickchartButtonEl.style.display =\n",
              "        google.colab.kernel.accessAllowed ? 'block' : 'none';\n",
              "    })();\n",
              "  </script>\n",
              "</div>\n",
              "    </div>\n",
              "  </div>\n"
            ],
            "application/vnd.google.colaboratory.intrinsic+json": {
              "type": "dataframe",
              "summary": "{\n  \"name\": \"display(df\",\n  \"rows\": 5,\n  \"fields\": [\n    {\n      \"column\": \"Unnamed: 0\",\n      \"properties\": {\n        \"dtype\": \"number\",\n        \"std\": 1,\n        \"min\": 0,\n        \"max\": 4,\n        \"num_unique_values\": 5,\n        \"samples\": [\n          1,\n          4,\n          2\n        ],\n        \"semantic_type\": \"\",\n        \"description\": \"\"\n      }\n    },\n    {\n      \"column\": \"session\",\n      \"properties\": {\n        \"dtype\": \"number\",\n        \"std\": 0,\n        \"min\": 1,\n        \"max\": 1,\n        \"num_unique_values\": 1,\n        \"samples\": [\n          1\n        ],\n        \"semantic_type\": \"\",\n        \"description\": \"\"\n      }\n    },\n    {\n      \"column\": \"method\",\n      \"properties\": {\n        \"dtype\": \"category\",\n        \"num_unique_values\": 1,\n        \"samples\": [\n          \"script\"\n        ],\n        \"semantic_type\": \"\",\n        \"description\": \"\"\n      }\n    },\n    {\n      \"column\": \"gender\",\n      \"properties\": {\n        \"dtype\": \"category\",\n        \"num_unique_values\": 1,\n        \"samples\": [\n          \"F\"\n        ],\n        \"semantic_type\": \"\",\n        \"description\": \"\"\n      }\n    },\n    {\n      \"column\": \"n_annotators\",\n      \"properties\": {\n        \"dtype\": \"number\",\n        \"std\": 1,\n        \"min\": 0,\n        \"max\": 3,\n        \"num_unique_values\": 2,\n        \"samples\": [\n          0\n        ],\n        \"semantic_type\": \"\",\n        \"description\": \"\"\n      }\n    },\n    {\n      \"column\": \"agreement\",\n      \"properties\": {\n        \"dtype\": \"number\",\n        \"std\": 1,\n        \"min\": 0,\n        \"max\": 3,\n        \"num_unique_values\": 3,\n        \"samples\": [\n          3\n        ],\n        \"semantic_type\": \"\",\n        \"description\": \"\"\n      }\n    },\n    {\n      \"column\": \"emotion\",\n      \"properties\": {\n        \"dtype\": \"string\",\n        \"num_unique_values\": 4,\n        \"samples\": [\n          \"fru\"\n        ],\n        \"semantic_type\": \"\",\n        \"description\": \"\"\n      }\n    },\n    {\n      \"column\": \"valence\",\n      \"properties\": {\n        \"dtype\": \"number\",\n        \"std\": 0.27386127875258304,\n        \"min\": 2.0,\n        \"max\": 2.5,\n        \"num_unique_values\": 2,\n        \"samples\": [\n          2.0\n        ],\n        \"semantic_type\": \"\",\n        \"description\": \"\"\n      }\n    },\n    {\n      \"column\": \"activation\",\n      \"properties\": {\n        \"dtype\": \"number\",\n        \"std\": 0.5477225575051661,\n        \"min\": 2.0,\n        \"max\": 3.0,\n        \"num_unique_values\": 2,\n        \"samples\": [\n          3.0\n        ],\n        \"semantic_type\": \"\",\n        \"description\": \"\"\n      }\n    },\n    {\n      \"column\": \"dominance\",\n      \"properties\": {\n        \"dtype\": \"number\",\n        \"std\": 0.4183300132670378,\n        \"min\": 2.0,\n        \"max\": 3.0,\n        \"num_unique_values\": 3,\n        \"samples\": [\n          2.0\n        ],\n        \"semantic_type\": \"\",\n        \"description\": \"\"\n      }\n    },\n    {\n      \"column\": \"wav_path\",\n      \"properties\": {\n        \"dtype\": \"string\",\n        \"num_unique_values\": 5,\n        \"samples\": [\n          \"IEMOCAP_full_release/Session1/sentences/wav/Ses01F_script02_1/Ses01F_script02_1_F001.wav\"\n        ],\n        \"semantic_type\": \"\",\n        \"description\": \"\"\n      }\n    },\n    {\n      \"column\": \"MOCAP_rotated_path\",\n      \"properties\": {\n        \"dtype\": \"string\",\n        \"num_unique_values\": 5,\n        \"samples\": [\n          \"IEMOCAP_full_release/Session1/sentences/MOCAP_rotated/Ses01F_script02_1/Ses01F_script02_1_F001.txt\"\n        ],\n        \"semantic_type\": \"\",\n        \"description\": \"\"\n      }\n    },\n    {\n      \"column\": \"MOCAP_head_path\",\n      \"properties\": {\n        \"dtype\": \"string\",\n        \"num_unique_values\": 5,\n        \"samples\": [\n          \"IEMOCAP_full_release/Session1/sentences/MOCAP_head/Ses01F_script02_1/Ses01F_script02_1_F001.txt\"\n        ],\n        \"semantic_type\": \"\",\n        \"description\": \"\"\n      }\n    },\n    {\n      \"column\": \"MOCAP_hand_path\",\n      \"properties\": {\n        \"dtype\": \"string\",\n        \"num_unique_values\": 5,\n        \"samples\": [\n          \"IEMOCAP_full_release/Session1/sentences/MOCAP_hand/Ses01F_script02_1/Ses01F_script02_1_F001.txt\"\n        ],\n        \"semantic_type\": \"\",\n        \"description\": \"\"\n      }\n    },\n    {\n      \"column\": \"FA_ph_path\",\n      \"properties\": {\n        \"dtype\": \"string\",\n        \"num_unique_values\": 5,\n        \"samples\": [\n          \"IEMOCAP_full_release/Session1/sentences/ForcedAlignment/Ses01F_script02_1/Ses01F_script02_1_F001.phseg\"\n        ],\n        \"semantic_type\": \"\",\n        \"description\": \"\"\n      }\n    },\n    {\n      \"column\": \"FA_st_path\",\n      \"properties\": {\n        \"dtype\": \"string\",\n        \"num_unique_values\": 5,\n        \"samples\": [\n          \"IEMOCAP_full_release/Session1/sentences/ForcedAlignment/Ses01F_script02_1/Ses01F_script02_1_F001.stseg\"\n        ],\n        \"semantic_type\": \"\",\n        \"description\": \"\"\n      }\n    },\n    {\n      \"column\": \"FA_sy_path\",\n      \"properties\": {\n        \"dtype\": \"string\",\n        \"num_unique_values\": 5,\n        \"samples\": [\n          \"IEMOCAP_full_release/Session1/sentences/ForcedAlignment/Ses01F_script02_1/Ses01F_script02_1_F001.syseg\"\n        ],\n        \"semantic_type\": \"\",\n        \"description\": \"\"\n      }\n    },\n    {\n      \"column\": \"FA_wd_path\",\n      \"properties\": {\n        \"dtype\": \"string\",\n        \"num_unique_values\": 5,\n        \"samples\": [\n          \"IEMOCAP_full_release/Session1/sentences/ForcedAlignment/Ses01F_script02_1/Ses01F_script02_1_F001.wdseg\"\n        ],\n        \"semantic_type\": \"\",\n        \"description\": \"\"\n      }\n    }\n  ]\n}"
            }
          },
          "metadata": {}
        }
      ],
      "source": [
        "root_path = '/content/gdrive/MyDrive/IEMOCAP_full_release_withoutVideos_sentenceOnly'\n",
        "\n",
        "df = pd.read_csv(os.path.join(root_path, 'iemocap.csv'))\n",
        "\n",
        "display(df.head())"
      ]
    },
    {
      "cell_type": "code",
      "source": [
        "df.columns"
      ],
      "metadata": {
        "colab": {
          "base_uri": "https://localhost:8080/"
        },
        "id": "m7pPJw9DSXBc",
        "outputId": "7212ee2c-f29c-4eb3-9498-9c71d3e3ab9b"
      },
      "execution_count": null,
      "outputs": [
        {
          "output_type": "execute_result",
          "data": {
            "text/plain": [
              "Index(['Unnamed: 0', 'session', 'method', 'gender', 'n_annotators',\n",
              "       'agreement', 'emotion', 'valence', 'activation', 'dominance',\n",
              "       'wav_path', 'MOCAP_rotated_path', 'MOCAP_head_path', 'MOCAP_hand_path',\n",
              "       'FA_ph_path', 'FA_st_path', 'FA_sy_path', 'FA_wd_path'],\n",
              "      dtype='object')"
            ]
          },
          "metadata": {},
          "execution_count": 5
        }
      ]
    },
    {
      "cell_type": "markdown",
      "metadata": {
        "id": "P7svVl2BpFQL"
      },
      "source": [
        "#Data prepping"
      ]
    },
    {
      "cell_type": "markdown",
      "source": [
        "The purpose of this part is to build a dataset of (text, associated emotions) pairs. This dataset will then be used for emotion recognition."
      ],
      "metadata": {
        "id": "_qju_wxcSaHX"
      }
    },
    {
      "cell_type": "markdown",
      "metadata": {
        "id": "DdFC6jZSoB43"
      },
      "source": [
        "The function below takes as input the path to a .txt file, and returns a dictionary where the keys are the dialogue sentences, and the values and the emotions associated to the sentence.\n",
        "\\\n",
        "**How it works:** \\\n",
        "- This is what a réplique in the transcript looks like : \"*Ses01M_script02_1_M000 [003.3988-008.5500]: What time is it?  God, this is great, isn't it?  I can't believe it*.\"\n",
        "- The fct takes this part '*Ses01M_script02_1_M000*', searches for the corresponding .wav file and the associated emotion (in the DataFrame df)\n",
        "- It then adds the sentence \"*What time is it?  God, this is great, isn't it?  I can't believe it.*\" as key, and the value is the emotion found thanks to df.\n",
        "\n",
        "**NB :** Only data where at least 2 annotators agree are added to our dictionnary"
      ]
    },
    {
      "cell_type": "code",
      "execution_count": null,
      "metadata": {
        "id": "beq69HD5mw0X"
      },
      "outputs": [],
      "source": [
        "def create_emotion_dictionary(txt_file):\n",
        "\n",
        "    # The dictionnary that'll store (sentence: emotion)\n",
        "    emotion_dict = {}\n",
        "    #Reading the .txt file\n",
        "    with open(txt_file, 'r') as file:\n",
        "        for line in file:\n",
        "            # Split the line based on ']:'\n",
        "            parts = line.split(']:', 1)\n",
        "\n",
        "            # Check if the line has the expected format (to deal with M: F: unidentified speakers)\n",
        "            if len(parts) == 2:\n",
        "                # Extract the replique ID from the line (to look for corresponding .wav file)\n",
        "                replique_id = parts[0].split(' ')[0].strip()\n",
        "                # Extract the sentence from the line\n",
        "                sentence = parts[1].strip()\n",
        "\n",
        "                # pattern to match the .wav file name\n",
        "                pattern = replique_id.replace('[', '').replace(']', '') + r'.wav'\n",
        "\n",
        "                # Find the corresponding row in df\n",
        "                row = df[df['wav_path'].str.contains(pattern)]\n",
        "                # Check if the row is found in the dataframe\n",
        "                if not row.empty:\n",
        "                    # Get the emotion if at least 2 annotators agree on it\n",
        "                    emotion = row['emotion'].iloc[0]\n",
        "                    agreement = row['agreement'].iloc[0]\n",
        "                    if emotion != 'xxx' and agreement >=2:\n",
        "                    # Add the sentence and emotion to the dictionary\n",
        "                      emotion_dict[sentence] = emotion\n",
        "    return emotion_dict"
      ]
    },
    {
      "cell_type": "code",
      "execution_count": null,
      "metadata": {
        "id": "2ZOU0mIevq4E"
      },
      "outputs": [],
      "source": [
        "session_names = ['Session1', 'Session2', 'Session3', 'Session4', 'Session5']\n",
        "#Function to process all text files in a directory\n",
        "def process_text_files_in_session(session_directory):\n",
        "    emotion_dict_all = {}\n",
        "    for root, dirs, files in os.walk(session_directory):\n",
        "        for file in files:\n",
        "            if file.endswith('.txt'):\n",
        "                file_path = os.path.join(root, file)\n",
        "                emotion_dict = create_emotion_dictionary(file_path)\n",
        "                emotion_dict_all.update(emotion_dict)\n",
        "    return emotion_dict_all\n",
        "\n",
        "root_path = '/content/gdrive/MyDrive/IEMOCAP_full_release_withoutVideos_sentenceOnly'\n",
        "#process_text_files_in_session(root_path  + '/IEMOCAP_full_release/Session1/dialog/transcriptions')"
      ]
    },
    {
      "cell_type": "code",
      "execution_count": null,
      "metadata": {
        "id": "0MpLUYIPxsRk"
      },
      "outputs": [],
      "source": [
        "# Function to process all sessions\n",
        "def process_all_sessions(root_path):\n",
        "    all_emotion_dict = {}\n",
        "    for session_name in session_names:\n",
        "        session_directory = os.path.join(root_path, session_name, 'dialog', 'transcriptions')\n",
        "        session_emotion_dict = process_text_files_in_session(session_directory)\n",
        "        all_emotion_dict[session_name] = session_emotion_dict\n",
        "    return all_emotion_dict"
      ]
    },
    {
      "cell_type": "code",
      "execution_count": null,
      "metadata": {
        "id": "6q-iPLwrxvL0"
      },
      "outputs": [],
      "source": [
        "# Example\n",
        "root_path = '/content/gdrive/MyDrive/IEMOCAP_full_release_withoutVideos_sentenceOnly/IEMOCAP_full_release'\n",
        "#Dictionnary whose keys are sentences, and whose values are associated emotions\n",
        "all_sessions_emotion_dict = process_all_sessions(root_path)"
      ]
    },
    {
      "cell_type": "code",
      "execution_count": null,
      "metadata": {
        "id": "FTx5pWuF5dLY"
      },
      "outputs": [],
      "source": [
        "session_dfs = []\n",
        "for session, data in all_sessions_emotion_dict.items():\n",
        "    #get session nb (from 'Session1' for instance)\n",
        "    session_number = session.replace('Session', '')  # Extract session number\n",
        "    text_data = pd.DataFrame.from_dict(data, orient='index').reset_index()\n",
        "    text_data.columns = ['sentence', 'emotion']\n",
        "    text_data['Session'] = session_number  # Add session column\n",
        "    text_data = text_data[['Session', 'sentence', 'emotion']]  # Reorder columns\n",
        "    session_dfs.append(text_data)\n",
        "# Concatenate all session DataFrames into one DataFrame\n",
        "final_text_data = pd.concat(session_dfs, ignore_index=True)\n",
        "#Cleaning our text\n",
        "final_text_data['Clean_Text'] = final_text_data['sentence'].apply(nfx.remove_userhandles)\n",
        "final_text_data['Clean_Text'] = final_text_data['sentence'].apply(nfx.remove_stopwords)"
      ]
    },
    {
      "cell_type": "code",
      "execution_count": null,
      "metadata": {
        "colab": {
          "base_uri": "https://localhost:8080/",
          "height": 206
        },
        "id": "G1ukkBRg6w0k",
        "outputId": "74bb0e7a-a8b3-4acb-8804-e4d9c5ba3b6f"
      },
      "outputs": [
        {
          "output_type": "execute_result",
          "data": {
            "text/plain": [
              "  Session                           sentence emotion             Clean_Text\n",
              "0       1                          You okay?     neu                  okay?\n",
              "1       1              Yeah, I'm just-- yeah     sad  Yeah, I'm just-- yeah\n",
              "2       1  Just kind of feel numb, you know.     sad  kind feel numb, know.\n",
              "3       1                   What's happened?     neu       What's happened?\n",
              "4       1              You didn't even hear?     sad                  hear?"
            ],
            "text/html": [
              "\n",
              "  <div id=\"df-c64475ae-9df0-4e73-b3ac-7c820f05811a\" class=\"colab-df-container\">\n",
              "    <div>\n",
              "<style scoped>\n",
              "    .dataframe tbody tr th:only-of-type {\n",
              "        vertical-align: middle;\n",
              "    }\n",
              "\n",
              "    .dataframe tbody tr th {\n",
              "        vertical-align: top;\n",
              "    }\n",
              "\n",
              "    .dataframe thead th {\n",
              "        text-align: right;\n",
              "    }\n",
              "</style>\n",
              "<table border=\"1\" class=\"dataframe\">\n",
              "  <thead>\n",
              "    <tr style=\"text-align: right;\">\n",
              "      <th></th>\n",
              "      <th>Session</th>\n",
              "      <th>sentence</th>\n",
              "      <th>emotion</th>\n",
              "      <th>Clean_Text</th>\n",
              "    </tr>\n",
              "  </thead>\n",
              "  <tbody>\n",
              "    <tr>\n",
              "      <th>0</th>\n",
              "      <td>1</td>\n",
              "      <td>You okay?</td>\n",
              "      <td>neu</td>\n",
              "      <td>okay?</td>\n",
              "    </tr>\n",
              "    <tr>\n",
              "      <th>1</th>\n",
              "      <td>1</td>\n",
              "      <td>Yeah, I'm just-- yeah</td>\n",
              "      <td>sad</td>\n",
              "      <td>Yeah, I'm just-- yeah</td>\n",
              "    </tr>\n",
              "    <tr>\n",
              "      <th>2</th>\n",
              "      <td>1</td>\n",
              "      <td>Just kind of feel numb, you know.</td>\n",
              "      <td>sad</td>\n",
              "      <td>kind feel numb, know.</td>\n",
              "    </tr>\n",
              "    <tr>\n",
              "      <th>3</th>\n",
              "      <td>1</td>\n",
              "      <td>What's happened?</td>\n",
              "      <td>neu</td>\n",
              "      <td>What's happened?</td>\n",
              "    </tr>\n",
              "    <tr>\n",
              "      <th>4</th>\n",
              "      <td>1</td>\n",
              "      <td>You didn't even hear?</td>\n",
              "      <td>sad</td>\n",
              "      <td>hear?</td>\n",
              "    </tr>\n",
              "  </tbody>\n",
              "</table>\n",
              "</div>\n",
              "    <div class=\"colab-df-buttons\">\n",
              "\n",
              "  <div class=\"colab-df-container\">\n",
              "    <button class=\"colab-df-convert\" onclick=\"convertToInteractive('df-c64475ae-9df0-4e73-b3ac-7c820f05811a')\"\n",
              "            title=\"Convert this dataframe to an interactive table.\"\n",
              "            style=\"display:none;\">\n",
              "\n",
              "  <svg xmlns=\"http://www.w3.org/2000/svg\" height=\"24px\" viewBox=\"0 -960 960 960\">\n",
              "    <path d=\"M120-120v-720h720v720H120Zm60-500h600v-160H180v160Zm220 220h160v-160H400v160Zm0 220h160v-160H400v160ZM180-400h160v-160H180v160Zm440 0h160v-160H620v160ZM180-180h160v-160H180v160Zm440 0h160v-160H620v160Z\"/>\n",
              "  </svg>\n",
              "    </button>\n",
              "\n",
              "  <style>\n",
              "    .colab-df-container {\n",
              "      display:flex;\n",
              "      gap: 12px;\n",
              "    }\n",
              "\n",
              "    .colab-df-convert {\n",
              "      background-color: #E8F0FE;\n",
              "      border: none;\n",
              "      border-radius: 50%;\n",
              "      cursor: pointer;\n",
              "      display: none;\n",
              "      fill: #1967D2;\n",
              "      height: 32px;\n",
              "      padding: 0 0 0 0;\n",
              "      width: 32px;\n",
              "    }\n",
              "\n",
              "    .colab-df-convert:hover {\n",
              "      background-color: #E2EBFA;\n",
              "      box-shadow: 0px 1px 2px rgba(60, 64, 67, 0.3), 0px 1px 3px 1px rgba(60, 64, 67, 0.15);\n",
              "      fill: #174EA6;\n",
              "    }\n",
              "\n",
              "    .colab-df-buttons div {\n",
              "      margin-bottom: 4px;\n",
              "    }\n",
              "\n",
              "    [theme=dark] .colab-df-convert {\n",
              "      background-color: #3B4455;\n",
              "      fill: #D2E3FC;\n",
              "    }\n",
              "\n",
              "    [theme=dark] .colab-df-convert:hover {\n",
              "      background-color: #434B5C;\n",
              "      box-shadow: 0px 1px 3px 1px rgba(0, 0, 0, 0.15);\n",
              "      filter: drop-shadow(0px 1px 2px rgba(0, 0, 0, 0.3));\n",
              "      fill: #FFFFFF;\n",
              "    }\n",
              "  </style>\n",
              "\n",
              "    <script>\n",
              "      const buttonEl =\n",
              "        document.querySelector('#df-c64475ae-9df0-4e73-b3ac-7c820f05811a button.colab-df-convert');\n",
              "      buttonEl.style.display =\n",
              "        google.colab.kernel.accessAllowed ? 'block' : 'none';\n",
              "\n",
              "      async function convertToInteractive(key) {\n",
              "        const element = document.querySelector('#df-c64475ae-9df0-4e73-b3ac-7c820f05811a');\n",
              "        const dataTable =\n",
              "          await google.colab.kernel.invokeFunction('convertToInteractive',\n",
              "                                                    [key], {});\n",
              "        if (!dataTable) return;\n",
              "\n",
              "        const docLinkHtml = 'Like what you see? Visit the ' +\n",
              "          '<a target=\"_blank\" href=https://colab.research.google.com/notebooks/data_table.ipynb>data table notebook</a>'\n",
              "          + ' to learn more about interactive tables.';\n",
              "        element.innerHTML = '';\n",
              "        dataTable['output_type'] = 'display_data';\n",
              "        await google.colab.output.renderOutput(dataTable, element);\n",
              "        const docLink = document.createElement('div');\n",
              "        docLink.innerHTML = docLinkHtml;\n",
              "        element.appendChild(docLink);\n",
              "      }\n",
              "    </script>\n",
              "  </div>\n",
              "\n",
              "\n",
              "<div id=\"df-64f31ce2-6705-47d2-8a2a-1aab62a647a5\">\n",
              "  <button class=\"colab-df-quickchart\" onclick=\"quickchart('df-64f31ce2-6705-47d2-8a2a-1aab62a647a5')\"\n",
              "            title=\"Suggest charts\"\n",
              "            style=\"display:none;\">\n",
              "\n",
              "<svg xmlns=\"http://www.w3.org/2000/svg\" height=\"24px\"viewBox=\"0 0 24 24\"\n",
              "     width=\"24px\">\n",
              "    <g>\n",
              "        <path d=\"M19 3H5c-1.1 0-2 .9-2 2v14c0 1.1.9 2 2 2h14c1.1 0 2-.9 2-2V5c0-1.1-.9-2-2-2zM9 17H7v-7h2v7zm4 0h-2V7h2v10zm4 0h-2v-4h2v4z\"/>\n",
              "    </g>\n",
              "</svg>\n",
              "  </button>\n",
              "\n",
              "<style>\n",
              "  .colab-df-quickchart {\n",
              "      --bg-color: #E8F0FE;\n",
              "      --fill-color: #1967D2;\n",
              "      --hover-bg-color: #E2EBFA;\n",
              "      --hover-fill-color: #174EA6;\n",
              "      --disabled-fill-color: #AAA;\n",
              "      --disabled-bg-color: #DDD;\n",
              "  }\n",
              "\n",
              "  [theme=dark] .colab-df-quickchart {\n",
              "      --bg-color: #3B4455;\n",
              "      --fill-color: #D2E3FC;\n",
              "      --hover-bg-color: #434B5C;\n",
              "      --hover-fill-color: #FFFFFF;\n",
              "      --disabled-bg-color: #3B4455;\n",
              "      --disabled-fill-color: #666;\n",
              "  }\n",
              "\n",
              "  .colab-df-quickchart {\n",
              "    background-color: var(--bg-color);\n",
              "    border: none;\n",
              "    border-radius: 50%;\n",
              "    cursor: pointer;\n",
              "    display: none;\n",
              "    fill: var(--fill-color);\n",
              "    height: 32px;\n",
              "    padding: 0;\n",
              "    width: 32px;\n",
              "  }\n",
              "\n",
              "  .colab-df-quickchart:hover {\n",
              "    background-color: var(--hover-bg-color);\n",
              "    box-shadow: 0 1px 2px rgba(60, 64, 67, 0.3), 0 1px 3px 1px rgba(60, 64, 67, 0.15);\n",
              "    fill: var(--button-hover-fill-color);\n",
              "  }\n",
              "\n",
              "  .colab-df-quickchart-complete:disabled,\n",
              "  .colab-df-quickchart-complete:disabled:hover {\n",
              "    background-color: var(--disabled-bg-color);\n",
              "    fill: var(--disabled-fill-color);\n",
              "    box-shadow: none;\n",
              "  }\n",
              "\n",
              "  .colab-df-spinner {\n",
              "    border: 2px solid var(--fill-color);\n",
              "    border-color: transparent;\n",
              "    border-bottom-color: var(--fill-color);\n",
              "    animation:\n",
              "      spin 1s steps(1) infinite;\n",
              "  }\n",
              "\n",
              "  @keyframes spin {\n",
              "    0% {\n",
              "      border-color: transparent;\n",
              "      border-bottom-color: var(--fill-color);\n",
              "      border-left-color: var(--fill-color);\n",
              "    }\n",
              "    20% {\n",
              "      border-color: transparent;\n",
              "      border-left-color: var(--fill-color);\n",
              "      border-top-color: var(--fill-color);\n",
              "    }\n",
              "    30% {\n",
              "      border-color: transparent;\n",
              "      border-left-color: var(--fill-color);\n",
              "      border-top-color: var(--fill-color);\n",
              "      border-right-color: var(--fill-color);\n",
              "    }\n",
              "    40% {\n",
              "      border-color: transparent;\n",
              "      border-right-color: var(--fill-color);\n",
              "      border-top-color: var(--fill-color);\n",
              "    }\n",
              "    60% {\n",
              "      border-color: transparent;\n",
              "      border-right-color: var(--fill-color);\n",
              "    }\n",
              "    80% {\n",
              "      border-color: transparent;\n",
              "      border-right-color: var(--fill-color);\n",
              "      border-bottom-color: var(--fill-color);\n",
              "    }\n",
              "    90% {\n",
              "      border-color: transparent;\n",
              "      border-bottom-color: var(--fill-color);\n",
              "    }\n",
              "  }\n",
              "</style>\n",
              "\n",
              "  <script>\n",
              "    async function quickchart(key) {\n",
              "      const quickchartButtonEl =\n",
              "        document.querySelector('#' + key + ' button');\n",
              "      quickchartButtonEl.disabled = true;  // To prevent multiple clicks.\n",
              "      quickchartButtonEl.classList.add('colab-df-spinner');\n",
              "      try {\n",
              "        const charts = await google.colab.kernel.invokeFunction(\n",
              "            'suggestCharts', [key], {});\n",
              "      } catch (error) {\n",
              "        console.error('Error during call to suggestCharts:', error);\n",
              "      }\n",
              "      quickchartButtonEl.classList.remove('colab-df-spinner');\n",
              "      quickchartButtonEl.classList.add('colab-df-quickchart-complete');\n",
              "    }\n",
              "    (() => {\n",
              "      let quickchartButtonEl =\n",
              "        document.querySelector('#df-64f31ce2-6705-47d2-8a2a-1aab62a647a5 button');\n",
              "      quickchartButtonEl.style.display =\n",
              "        google.colab.kernel.accessAllowed ? 'block' : 'none';\n",
              "    })();\n",
              "  </script>\n",
              "</div>\n",
              "    </div>\n",
              "  </div>\n"
            ],
            "application/vnd.google.colaboratory.intrinsic+json": {
              "type": "dataframe",
              "variable_name": "final_text_data",
              "summary": "{\n  \"name\": \"final_text_data\",\n  \"rows\": 6861,\n  \"fields\": [\n    {\n      \"column\": \"Session\",\n      \"properties\": {\n        \"dtype\": \"category\",\n        \"num_unique_values\": 5,\n        \"samples\": [\n          \"2\",\n          \"5\",\n          \"3\"\n        ],\n        \"semantic_type\": \"\",\n        \"description\": \"\"\n      }\n    },\n    {\n      \"column\": \"sentence\",\n      \"properties\": {\n        \"dtype\": \"string\",\n        \"num_unique_values\": 6331,\n        \"samples\": [\n          \"That's the best way to put it.\",\n          \"Hope for some things.\",\n          \"he comes up onstage-- And the entire cast everyone just like\"\n        ],\n        \"semantic_type\": \"\",\n        \"description\": \"\"\n      }\n    },\n    {\n      \"column\": \"emotion\",\n      \"properties\": {\n        \"dtype\": \"category\",\n        \"num_unique_values\": 10,\n        \"samples\": [\n          \"oth\",\n          \"sad\",\n          \"sur\"\n        ],\n        \"semantic_type\": \"\",\n        \"description\": \"\"\n      }\n    },\n    {\n      \"column\": \"Clean_Text\",\n      \"properties\": {\n        \"dtype\": \"string\",\n        \"num_unique_values\": 6084,\n        \"samples\": [\n          \"great view moon here, though, huh?\",\n          \"Okay. want report to, boss airline finished waiting dollar gift certificate.\",\n          \"kidding? difficult this.\"\n        ],\n        \"semantic_type\": \"\",\n        \"description\": \"\"\n      }\n    }\n  ]\n}"
            }
          },
          "metadata": {},
          "execution_count": 11
        }
      ],
      "source": [
        "final_text_data.head()"
      ]
    },
    {
      "cell_type": "code",
      "execution_count": null,
      "metadata": {
        "colab": {
          "base_uri": "https://localhost:8080/"
        },
        "id": "J6L4CjQ37DL6",
        "outputId": "25248d34-c747-4e13-9fb0-f7ba4953415c"
      },
      "outputs": [
        {
          "output_type": "execute_result",
          "data": {
            "text/plain": [
              "fru    1716\n",
              "neu    1531\n",
              "ang     999\n",
              "exc     986\n",
              "sad     958\n",
              "hap     550\n",
              "sur      81\n",
              "fea      35\n",
              "oth       3\n",
              "dis       2\n",
              "Name: emotion, dtype: int64"
            ]
          },
          "metadata": {},
          "execution_count": 12
        }
      ],
      "source": [
        "final_text_data.emotion.value_counts()"
      ]
    },
    {
      "cell_type": "markdown",
      "source": [
        "Not very balanced ..."
      ],
      "metadata": {
        "id": "dVSjBZ7eTuY9"
      }
    },
    {
      "cell_type": "markdown",
      "metadata": {
        "id": "qjEzbBTw9MaW"
      },
      "source": [
        "[Git repo on text emotion recognition](https://github.com/SannketNikam/Emotion-Detection-in-Text/blob/main/notebooks/Emotion%20Detection%20in%20Text.ipynb)\n"
      ]
    },
    {
      "cell_type": "code",
      "execution_count": null,
      "metadata": {
        "colab": {
          "base_uri": "https://localhost:8080/",
          "height": 423
        },
        "id": "g1mxen_J9ztV",
        "outputId": "0e282407-8ee6-46f3-c70c-cf19fa97b83c"
      },
      "outputs": [
        {
          "output_type": "execute_result",
          "data": {
            "text/plain": [
              "     Session                                           sentence emotion  \\\n",
              "0          1                                          You okay?     neu   \n",
              "1          1                              Yeah, I'm just-- yeah     sad   \n",
              "2          1                  Just kind of feel numb, you know.     sad   \n",
              "3          1                                   What's happened?     neu   \n",
              "4          1                              You didn't even hear?     sad   \n",
              "...      ...                                                ...     ...   \n",
              "6856       5  I don't know.  I think this is a pretty good s...     hap   \n",
              "6857       5  Yes, I did notice that.  It does look really b...     hap   \n",
              "6858       5                 Oh, well look what we've got here.     hap   \n",
              "6859       5                          Well, it isn't champagne.     hap   \n",
              "6860       5  No.  I'm beginning to think you might be right...     hap   \n",
              "\n",
              "                                             Clean_Text  \n",
              "0                                                 okay?  \n",
              "1                                 Yeah, I'm just-- yeah  \n",
              "2                                 kind feel numb, know.  \n",
              "3                                      What's happened?  \n",
              "4                                                 hear?  \n",
              "...                                                 ...  \n",
              "6856  know. think pretty good spot. mean, look view ...  \n",
              "6857  Yes, notice that. look beautiful water. Big ol...  \n",
              "6858                           Oh, look we've got here.  \n",
              "6859                                   Well, champagne.  \n",
              "6860  No. I'm beginning think right. think spot all....  \n",
              "\n",
              "[6861 rows x 4 columns]"
            ],
            "text/html": [
              "\n",
              "  <div id=\"df-af077737-e571-4a58-80d5-e997b68cfeb9\" class=\"colab-df-container\">\n",
              "    <div>\n",
              "<style scoped>\n",
              "    .dataframe tbody tr th:only-of-type {\n",
              "        vertical-align: middle;\n",
              "    }\n",
              "\n",
              "    .dataframe tbody tr th {\n",
              "        vertical-align: top;\n",
              "    }\n",
              "\n",
              "    .dataframe thead th {\n",
              "        text-align: right;\n",
              "    }\n",
              "</style>\n",
              "<table border=\"1\" class=\"dataframe\">\n",
              "  <thead>\n",
              "    <tr style=\"text-align: right;\">\n",
              "      <th></th>\n",
              "      <th>Session</th>\n",
              "      <th>sentence</th>\n",
              "      <th>emotion</th>\n",
              "      <th>Clean_Text</th>\n",
              "    </tr>\n",
              "  </thead>\n",
              "  <tbody>\n",
              "    <tr>\n",
              "      <th>0</th>\n",
              "      <td>1</td>\n",
              "      <td>You okay?</td>\n",
              "      <td>neu</td>\n",
              "      <td>okay?</td>\n",
              "    </tr>\n",
              "    <tr>\n",
              "      <th>1</th>\n",
              "      <td>1</td>\n",
              "      <td>Yeah, I'm just-- yeah</td>\n",
              "      <td>sad</td>\n",
              "      <td>Yeah, I'm just-- yeah</td>\n",
              "    </tr>\n",
              "    <tr>\n",
              "      <th>2</th>\n",
              "      <td>1</td>\n",
              "      <td>Just kind of feel numb, you know.</td>\n",
              "      <td>sad</td>\n",
              "      <td>kind feel numb, know.</td>\n",
              "    </tr>\n",
              "    <tr>\n",
              "      <th>3</th>\n",
              "      <td>1</td>\n",
              "      <td>What's happened?</td>\n",
              "      <td>neu</td>\n",
              "      <td>What's happened?</td>\n",
              "    </tr>\n",
              "    <tr>\n",
              "      <th>4</th>\n",
              "      <td>1</td>\n",
              "      <td>You didn't even hear?</td>\n",
              "      <td>sad</td>\n",
              "      <td>hear?</td>\n",
              "    </tr>\n",
              "    <tr>\n",
              "      <th>...</th>\n",
              "      <td>...</td>\n",
              "      <td>...</td>\n",
              "      <td>...</td>\n",
              "      <td>...</td>\n",
              "    </tr>\n",
              "    <tr>\n",
              "      <th>6856</th>\n",
              "      <td>5</td>\n",
              "      <td>I don't know.  I think this is a pretty good s...</td>\n",
              "      <td>hap</td>\n",
              "      <td>know. think pretty good spot. mean, look view ...</td>\n",
              "    </tr>\n",
              "    <tr>\n",
              "      <th>6857</th>\n",
              "      <td>5</td>\n",
              "      <td>Yes, I did notice that.  It does look really b...</td>\n",
              "      <td>hap</td>\n",
              "      <td>Yes, notice that. look beautiful water. Big ol...</td>\n",
              "    </tr>\n",
              "    <tr>\n",
              "      <th>6858</th>\n",
              "      <td>5</td>\n",
              "      <td>Oh, well look what we've got here.</td>\n",
              "      <td>hap</td>\n",
              "      <td>Oh, look we've got here.</td>\n",
              "    </tr>\n",
              "    <tr>\n",
              "      <th>6859</th>\n",
              "      <td>5</td>\n",
              "      <td>Well, it isn't champagne.</td>\n",
              "      <td>hap</td>\n",
              "      <td>Well, champagne.</td>\n",
              "    </tr>\n",
              "    <tr>\n",
              "      <th>6860</th>\n",
              "      <td>5</td>\n",
              "      <td>No.  I'm beginning to think you might be right...</td>\n",
              "      <td>hap</td>\n",
              "      <td>No. I'm beginning think right. think spot all....</td>\n",
              "    </tr>\n",
              "  </tbody>\n",
              "</table>\n",
              "<p>6861 rows × 4 columns</p>\n",
              "</div>\n",
              "    <div class=\"colab-df-buttons\">\n",
              "\n",
              "  <div class=\"colab-df-container\">\n",
              "    <button class=\"colab-df-convert\" onclick=\"convertToInteractive('df-af077737-e571-4a58-80d5-e997b68cfeb9')\"\n",
              "            title=\"Convert this dataframe to an interactive table.\"\n",
              "            style=\"display:none;\">\n",
              "\n",
              "  <svg xmlns=\"http://www.w3.org/2000/svg\" height=\"24px\" viewBox=\"0 -960 960 960\">\n",
              "    <path d=\"M120-120v-720h720v720H120Zm60-500h600v-160H180v160Zm220 220h160v-160H400v160Zm0 220h160v-160H400v160ZM180-400h160v-160H180v160Zm440 0h160v-160H620v160ZM180-180h160v-160H180v160Zm440 0h160v-160H620v160Z\"/>\n",
              "  </svg>\n",
              "    </button>\n",
              "\n",
              "  <style>\n",
              "    .colab-df-container {\n",
              "      display:flex;\n",
              "      gap: 12px;\n",
              "    }\n",
              "\n",
              "    .colab-df-convert {\n",
              "      background-color: #E8F0FE;\n",
              "      border: none;\n",
              "      border-radius: 50%;\n",
              "      cursor: pointer;\n",
              "      display: none;\n",
              "      fill: #1967D2;\n",
              "      height: 32px;\n",
              "      padding: 0 0 0 0;\n",
              "      width: 32px;\n",
              "    }\n",
              "\n",
              "    .colab-df-convert:hover {\n",
              "      background-color: #E2EBFA;\n",
              "      box-shadow: 0px 1px 2px rgba(60, 64, 67, 0.3), 0px 1px 3px 1px rgba(60, 64, 67, 0.15);\n",
              "      fill: #174EA6;\n",
              "    }\n",
              "\n",
              "    .colab-df-buttons div {\n",
              "      margin-bottom: 4px;\n",
              "    }\n",
              "\n",
              "    [theme=dark] .colab-df-convert {\n",
              "      background-color: #3B4455;\n",
              "      fill: #D2E3FC;\n",
              "    }\n",
              "\n",
              "    [theme=dark] .colab-df-convert:hover {\n",
              "      background-color: #434B5C;\n",
              "      box-shadow: 0px 1px 3px 1px rgba(0, 0, 0, 0.15);\n",
              "      filter: drop-shadow(0px 1px 2px rgba(0, 0, 0, 0.3));\n",
              "      fill: #FFFFFF;\n",
              "    }\n",
              "  </style>\n",
              "\n",
              "    <script>\n",
              "      const buttonEl =\n",
              "        document.querySelector('#df-af077737-e571-4a58-80d5-e997b68cfeb9 button.colab-df-convert');\n",
              "      buttonEl.style.display =\n",
              "        google.colab.kernel.accessAllowed ? 'block' : 'none';\n",
              "\n",
              "      async function convertToInteractive(key) {\n",
              "        const element = document.querySelector('#df-af077737-e571-4a58-80d5-e997b68cfeb9');\n",
              "        const dataTable =\n",
              "          await google.colab.kernel.invokeFunction('convertToInteractive',\n",
              "                                                    [key], {});\n",
              "        if (!dataTable) return;\n",
              "\n",
              "        const docLinkHtml = 'Like what you see? Visit the ' +\n",
              "          '<a target=\"_blank\" href=https://colab.research.google.com/notebooks/data_table.ipynb>data table notebook</a>'\n",
              "          + ' to learn more about interactive tables.';\n",
              "        element.innerHTML = '';\n",
              "        dataTable['output_type'] = 'display_data';\n",
              "        await google.colab.output.renderOutput(dataTable, element);\n",
              "        const docLink = document.createElement('div');\n",
              "        docLink.innerHTML = docLinkHtml;\n",
              "        element.appendChild(docLink);\n",
              "      }\n",
              "    </script>\n",
              "  </div>\n",
              "\n",
              "\n",
              "<div id=\"df-e491d25a-415e-47c2-a6ff-c5546d114a0c\">\n",
              "  <button class=\"colab-df-quickchart\" onclick=\"quickchart('df-e491d25a-415e-47c2-a6ff-c5546d114a0c')\"\n",
              "            title=\"Suggest charts\"\n",
              "            style=\"display:none;\">\n",
              "\n",
              "<svg xmlns=\"http://www.w3.org/2000/svg\" height=\"24px\"viewBox=\"0 0 24 24\"\n",
              "     width=\"24px\">\n",
              "    <g>\n",
              "        <path d=\"M19 3H5c-1.1 0-2 .9-2 2v14c0 1.1.9 2 2 2h14c1.1 0 2-.9 2-2V5c0-1.1-.9-2-2-2zM9 17H7v-7h2v7zm4 0h-2V7h2v10zm4 0h-2v-4h2v4z\"/>\n",
              "    </g>\n",
              "</svg>\n",
              "  </button>\n",
              "\n",
              "<style>\n",
              "  .colab-df-quickchart {\n",
              "      --bg-color: #E8F0FE;\n",
              "      --fill-color: #1967D2;\n",
              "      --hover-bg-color: #E2EBFA;\n",
              "      --hover-fill-color: #174EA6;\n",
              "      --disabled-fill-color: #AAA;\n",
              "      --disabled-bg-color: #DDD;\n",
              "  }\n",
              "\n",
              "  [theme=dark] .colab-df-quickchart {\n",
              "      --bg-color: #3B4455;\n",
              "      --fill-color: #D2E3FC;\n",
              "      --hover-bg-color: #434B5C;\n",
              "      --hover-fill-color: #FFFFFF;\n",
              "      --disabled-bg-color: #3B4455;\n",
              "      --disabled-fill-color: #666;\n",
              "  }\n",
              "\n",
              "  .colab-df-quickchart {\n",
              "    background-color: var(--bg-color);\n",
              "    border: none;\n",
              "    border-radius: 50%;\n",
              "    cursor: pointer;\n",
              "    display: none;\n",
              "    fill: var(--fill-color);\n",
              "    height: 32px;\n",
              "    padding: 0;\n",
              "    width: 32px;\n",
              "  }\n",
              "\n",
              "  .colab-df-quickchart:hover {\n",
              "    background-color: var(--hover-bg-color);\n",
              "    box-shadow: 0 1px 2px rgba(60, 64, 67, 0.3), 0 1px 3px 1px rgba(60, 64, 67, 0.15);\n",
              "    fill: var(--button-hover-fill-color);\n",
              "  }\n",
              "\n",
              "  .colab-df-quickchart-complete:disabled,\n",
              "  .colab-df-quickchart-complete:disabled:hover {\n",
              "    background-color: var(--disabled-bg-color);\n",
              "    fill: var(--disabled-fill-color);\n",
              "    box-shadow: none;\n",
              "  }\n",
              "\n",
              "  .colab-df-spinner {\n",
              "    border: 2px solid var(--fill-color);\n",
              "    border-color: transparent;\n",
              "    border-bottom-color: var(--fill-color);\n",
              "    animation:\n",
              "      spin 1s steps(1) infinite;\n",
              "  }\n",
              "\n",
              "  @keyframes spin {\n",
              "    0% {\n",
              "      border-color: transparent;\n",
              "      border-bottom-color: var(--fill-color);\n",
              "      border-left-color: var(--fill-color);\n",
              "    }\n",
              "    20% {\n",
              "      border-color: transparent;\n",
              "      border-left-color: var(--fill-color);\n",
              "      border-top-color: var(--fill-color);\n",
              "    }\n",
              "    30% {\n",
              "      border-color: transparent;\n",
              "      border-left-color: var(--fill-color);\n",
              "      border-top-color: var(--fill-color);\n",
              "      border-right-color: var(--fill-color);\n",
              "    }\n",
              "    40% {\n",
              "      border-color: transparent;\n",
              "      border-right-color: var(--fill-color);\n",
              "      border-top-color: var(--fill-color);\n",
              "    }\n",
              "    60% {\n",
              "      border-color: transparent;\n",
              "      border-right-color: var(--fill-color);\n",
              "    }\n",
              "    80% {\n",
              "      border-color: transparent;\n",
              "      border-right-color: var(--fill-color);\n",
              "      border-bottom-color: var(--fill-color);\n",
              "    }\n",
              "    90% {\n",
              "      border-color: transparent;\n",
              "      border-bottom-color: var(--fill-color);\n",
              "    }\n",
              "  }\n",
              "</style>\n",
              "\n",
              "  <script>\n",
              "    async function quickchart(key) {\n",
              "      const quickchartButtonEl =\n",
              "        document.querySelector('#' + key + ' button');\n",
              "      quickchartButtonEl.disabled = true;  // To prevent multiple clicks.\n",
              "      quickchartButtonEl.classList.add('colab-df-spinner');\n",
              "      try {\n",
              "        const charts = await google.colab.kernel.invokeFunction(\n",
              "            'suggestCharts', [key], {});\n",
              "      } catch (error) {\n",
              "        console.error('Error during call to suggestCharts:', error);\n",
              "      }\n",
              "      quickchartButtonEl.classList.remove('colab-df-spinner');\n",
              "      quickchartButtonEl.classList.add('colab-df-quickchart-complete');\n",
              "    }\n",
              "    (() => {\n",
              "      let quickchartButtonEl =\n",
              "        document.querySelector('#df-e491d25a-415e-47c2-a6ff-c5546d114a0c button');\n",
              "      quickchartButtonEl.style.display =\n",
              "        google.colab.kernel.accessAllowed ? 'block' : 'none';\n",
              "    })();\n",
              "  </script>\n",
              "</div>\n",
              "    </div>\n",
              "  </div>\n"
            ],
            "application/vnd.google.colaboratory.intrinsic+json": {
              "type": "dataframe",
              "variable_name": "final_text_data",
              "summary": "{\n  \"name\": \"final_text_data\",\n  \"rows\": 6861,\n  \"fields\": [\n    {\n      \"column\": \"Session\",\n      \"properties\": {\n        \"dtype\": \"category\",\n        \"num_unique_values\": 5,\n        \"samples\": [\n          \"2\",\n          \"5\",\n          \"3\"\n        ],\n        \"semantic_type\": \"\",\n        \"description\": \"\"\n      }\n    },\n    {\n      \"column\": \"sentence\",\n      \"properties\": {\n        \"dtype\": \"string\",\n        \"num_unique_values\": 6331,\n        \"samples\": [\n          \"That's the best way to put it.\",\n          \"Hope for some things.\",\n          \"he comes up onstage-- And the entire cast everyone just like\"\n        ],\n        \"semantic_type\": \"\",\n        \"description\": \"\"\n      }\n    },\n    {\n      \"column\": \"emotion\",\n      \"properties\": {\n        \"dtype\": \"category\",\n        \"num_unique_values\": 10,\n        \"samples\": [\n          \"oth\",\n          \"sad\",\n          \"sur\"\n        ],\n        \"semantic_type\": \"\",\n        \"description\": \"\"\n      }\n    },\n    {\n      \"column\": \"Clean_Text\",\n      \"properties\": {\n        \"dtype\": \"string\",\n        \"num_unique_values\": 6084,\n        \"samples\": [\n          \"great view moon here, though, huh?\",\n          \"Okay. want report to, boss airline finished waiting dollar gift certificate.\",\n          \"kidding? difficult this.\"\n        ],\n        \"semantic_type\": \"\",\n        \"description\": \"\"\n      }\n    }\n  ]\n}"
            }
          },
          "metadata": {},
          "execution_count": 13
        }
      ],
      "source": [
        "final_text_data"
      ]
    },
    {
      "cell_type": "code",
      "execution_count": null,
      "metadata": {
        "colab": {
          "base_uri": "https://localhost:8080/"
        },
        "id": "d5dVcK5YXFCh",
        "outputId": "dd184da6-392b-492b-b266-90a00aa763a7"
      },
      "outputs": [
        {
          "output_type": "execute_result",
          "data": {
            "text/plain": [
              "neu    1531\n",
              "ang     999\n",
              "exc     986\n",
              "sad     958\n",
              "hap     550\n",
              "Name: emotion, dtype: int64"
            ]
          },
          "metadata": {},
          "execution_count": 14
        }
      ],
      "source": [
        "selected_emotions = ['neu', 'ang', 'exc', 'sad', 'hap']\n",
        "final_text_data_filtered = final_text_data[final_text_data['emotion'].isin(selected_emotions)]\n",
        "final_text_data_filtered.emotion.value_counts()"
      ]
    },
    {
      "cell_type": "code",
      "execution_count": null,
      "metadata": {
        "id": "E4zbvAjJAxgE"
      },
      "outputs": [],
      "source": [
        "Xfeatures = final_text_data_filtered['Clean_Text']\n",
        "ylabels = final_text_data_filtered['emotion']"
      ]
    },
    {
      "cell_type": "code",
      "execution_count": null,
      "metadata": {
        "id": "Ltqo08bPAtkW"
      },
      "outputs": [],
      "source": [
        "x_train,x_test,y_train,y_test = train_test_split(Xfeatures,ylabels,test_size=0.3,random_state=42)"
      ]
    },
    {
      "cell_type": "markdown",
      "metadata": {
        "id": "rZrXoLhZP5bs"
      },
      "source": [
        "[Count Vectorizer explained](https://spotintelligence.com/2023/05/17/countvectorizer/#:~:text=CountVectorizer%20is%20a%20text%20preprocessing,machine%20learning%20library%20in%20Python.)"
      ]
    },
    {
      "cell_type": "markdown",
      "metadata": {
        "id": "g6aByn-VQAWI"
      },
      "source": [
        "- **Used model:** Logistic regression\n",
        "- **Feature:** CountVectorizer (cf. intro  above)"
      ]
    },
    {
      "cell_type": "code",
      "execution_count": null,
      "metadata": {
        "colab": {
          "base_uri": "https://localhost:8080/"
        },
        "id": "DnpVxcw_A_hq",
        "outputId": "efcf27e2-f81a-4271-a555-d4a4b1cd459f"
      },
      "outputs": [
        {
          "output_type": "stream",
          "name": "stdout",
          "text": [
            "Accuracy: \n"
          ]
        },
        {
          "output_type": "execute_result",
          "data": {
            "text/plain": [
              "0.5583554376657824"
            ]
          },
          "metadata": {},
          "execution_count": 17
        }
      ],
      "source": [
        "pipe_lr = Pipeline(steps=[('cv',CountVectorizer()),('lr',LogisticRegression(max_iter = 500))])\n",
        "pipe_lr.fit(x_train,y_train)\n",
        "print('Accuracy: ')\n",
        "pipe_lr.score(x_test,y_test)"
      ]
    },
    {
      "cell_type": "markdown",
      "metadata": {
        "id": "eZTewP5RR4zR"
      },
      "source": [
        "- **Used model:** Logistic regression\n",
        "- **Feature:** Tf-Idf Vectorizer"
      ]
    },
    {
      "cell_type": "code",
      "execution_count": null,
      "metadata": {
        "colab": {
          "base_uri": "https://localhost:8080/"
        },
        "id": "y9fwrFuFRSVT",
        "outputId": "0f5f79c3-47fa-43bf-aa56-ffcb6b004214"
      },
      "outputs": [
        {
          "output_type": "stream",
          "name": "stdout",
          "text": [
            "Accuracy: 0.5610079575596817\n"
          ]
        }
      ],
      "source": [
        "pipe_lr_tfidf = Pipeline(steps=[\n",
        "    ('tfidf', TfidfVectorizer()),\n",
        "    ('lr', LogisticRegression(max_iter=1000))\n",
        "])\n",
        "\n",
        "# Fit the pipeline on training data\n",
        "pipe_lr_tfidf.fit(x_train, y_train)\n",
        "\n",
        "# Evaluate the model on test data\n",
        "accuracy = pipe_lr_tfidf.score(x_test, y_test)\n",
        "print(\"Accuracy:\", accuracy)"
      ]
    },
    {
      "cell_type": "markdown",
      "source": [
        "**Logistic regression but this time with a more balanced dataset**"
      ],
      "metadata": {
        "id": "EOcVwvJMH8FL"
      }
    },
    {
      "cell_type": "markdown",
      "source": [
        "*Balancing the dataset*"
      ],
      "metadata": {
        "id": "PXNagbRfIJ2D"
      }
    },
    {
      "cell_type": "code",
      "source": [
        "selected_emotions = ['neu', 'ang', 'exc', 'sad', 'hap']\n",
        "final_text_data_filtered = final_text_data[final_text_data['emotion'].isin(selected_emotions)].copy()\n",
        "\n",
        "# Replace 'exc' with 'hap'\n",
        "final_text_data_filtered.loc[final_text_data_filtered['emotion'] == 'exc', 'emotion'] = 'hap'\n",
        "\n",
        "# Display the value counts after replacement\n",
        "print(final_text_data_filtered['emotion'].value_counts())\n",
        "balanced_data = final_text_data_filtered.groupby('emotion').head(963)\n",
        "LE = LabelEncoder()\n",
        "balanced_data['label'] = LE.fit_transform(balanced_data['emotion'])\n",
        "# Display the value counts to ensure balance\n",
        "print(balanced_data['emotion'].value_counts())"
      ],
      "metadata": {
        "colab": {
          "base_uri": "https://localhost:8080/"
        },
        "id": "9awazTz2IC-f",
        "outputId": "abe456c4-cf97-49bb-cb3a-cbb03b4c2c4a"
      },
      "execution_count": null,
      "outputs": [
        {
          "output_type": "stream",
          "name": "stdout",
          "text": [
            "hap    1536\n",
            "neu    1531\n",
            "ang     999\n",
            "sad     958\n",
            "Name: emotion, dtype: int64\n",
            "neu    963\n",
            "ang    963\n",
            "hap    963\n",
            "sad    958\n",
            "Name: emotion, dtype: int64\n"
          ]
        },
        {
          "output_type": "stream",
          "name": "stderr",
          "text": [
            "<ipython-input-19-9bd96d84771a>:11: SettingWithCopyWarning: \n",
            "A value is trying to be set on a copy of a slice from a DataFrame.\n",
            "Try using .loc[row_indexer,col_indexer] = value instead\n",
            "\n",
            "See the caveats in the documentation: https://pandas.pydata.org/pandas-docs/stable/user_guide/indexing.html#returning-a-view-versus-a-copy\n",
            "  balanced_data['label'] = LE.fit_transform(balanced_data['emotion'])\n"
          ]
        }
      ]
    },
    {
      "cell_type": "code",
      "source": [
        "balanced_data.head()"
      ],
      "metadata": {
        "colab": {
          "base_uri": "https://localhost:8080/",
          "height": 206
        },
        "id": "L7MTPzR8InDF",
        "outputId": "8f0a012e-4de6-4f27-bc2c-7fc796f6edc6"
      },
      "execution_count": null,
      "outputs": [
        {
          "output_type": "execute_result",
          "data": {
            "text/plain": [
              "  Session                           sentence emotion             Clean_Text  \\\n",
              "0       1                          You okay?     neu                  okay?   \n",
              "1       1              Yeah, I'm just-- yeah     sad  Yeah, I'm just-- yeah   \n",
              "2       1  Just kind of feel numb, you know.     sad  kind feel numb, know.   \n",
              "3       1                   What's happened?     neu       What's happened?   \n",
              "4       1              You didn't even hear?     sad                  hear?   \n",
              "\n",
              "   label  \n",
              "0      2  \n",
              "1      3  \n",
              "2      3  \n",
              "3      2  \n",
              "4      3  "
            ],
            "text/html": [
              "\n",
              "  <div id=\"df-8e57910e-73bd-4bb2-b74e-22ca075eb85b\" class=\"colab-df-container\">\n",
              "    <div>\n",
              "<style scoped>\n",
              "    .dataframe tbody tr th:only-of-type {\n",
              "        vertical-align: middle;\n",
              "    }\n",
              "\n",
              "    .dataframe tbody tr th {\n",
              "        vertical-align: top;\n",
              "    }\n",
              "\n",
              "    .dataframe thead th {\n",
              "        text-align: right;\n",
              "    }\n",
              "</style>\n",
              "<table border=\"1\" class=\"dataframe\">\n",
              "  <thead>\n",
              "    <tr style=\"text-align: right;\">\n",
              "      <th></th>\n",
              "      <th>Session</th>\n",
              "      <th>sentence</th>\n",
              "      <th>emotion</th>\n",
              "      <th>Clean_Text</th>\n",
              "      <th>label</th>\n",
              "    </tr>\n",
              "  </thead>\n",
              "  <tbody>\n",
              "    <tr>\n",
              "      <th>0</th>\n",
              "      <td>1</td>\n",
              "      <td>You okay?</td>\n",
              "      <td>neu</td>\n",
              "      <td>okay?</td>\n",
              "      <td>2</td>\n",
              "    </tr>\n",
              "    <tr>\n",
              "      <th>1</th>\n",
              "      <td>1</td>\n",
              "      <td>Yeah, I'm just-- yeah</td>\n",
              "      <td>sad</td>\n",
              "      <td>Yeah, I'm just-- yeah</td>\n",
              "      <td>3</td>\n",
              "    </tr>\n",
              "    <tr>\n",
              "      <th>2</th>\n",
              "      <td>1</td>\n",
              "      <td>Just kind of feel numb, you know.</td>\n",
              "      <td>sad</td>\n",
              "      <td>kind feel numb, know.</td>\n",
              "      <td>3</td>\n",
              "    </tr>\n",
              "    <tr>\n",
              "      <th>3</th>\n",
              "      <td>1</td>\n",
              "      <td>What's happened?</td>\n",
              "      <td>neu</td>\n",
              "      <td>What's happened?</td>\n",
              "      <td>2</td>\n",
              "    </tr>\n",
              "    <tr>\n",
              "      <th>4</th>\n",
              "      <td>1</td>\n",
              "      <td>You didn't even hear?</td>\n",
              "      <td>sad</td>\n",
              "      <td>hear?</td>\n",
              "      <td>3</td>\n",
              "    </tr>\n",
              "  </tbody>\n",
              "</table>\n",
              "</div>\n",
              "    <div class=\"colab-df-buttons\">\n",
              "\n",
              "  <div class=\"colab-df-container\">\n",
              "    <button class=\"colab-df-convert\" onclick=\"convertToInteractive('df-8e57910e-73bd-4bb2-b74e-22ca075eb85b')\"\n",
              "            title=\"Convert this dataframe to an interactive table.\"\n",
              "            style=\"display:none;\">\n",
              "\n",
              "  <svg xmlns=\"http://www.w3.org/2000/svg\" height=\"24px\" viewBox=\"0 -960 960 960\">\n",
              "    <path d=\"M120-120v-720h720v720H120Zm60-500h600v-160H180v160Zm220 220h160v-160H400v160Zm0 220h160v-160H400v160ZM180-400h160v-160H180v160Zm440 0h160v-160H620v160ZM180-180h160v-160H180v160Zm440 0h160v-160H620v160Z\"/>\n",
              "  </svg>\n",
              "    </button>\n",
              "\n",
              "  <style>\n",
              "    .colab-df-container {\n",
              "      display:flex;\n",
              "      gap: 12px;\n",
              "    }\n",
              "\n",
              "    .colab-df-convert {\n",
              "      background-color: #E8F0FE;\n",
              "      border: none;\n",
              "      border-radius: 50%;\n",
              "      cursor: pointer;\n",
              "      display: none;\n",
              "      fill: #1967D2;\n",
              "      height: 32px;\n",
              "      padding: 0 0 0 0;\n",
              "      width: 32px;\n",
              "    }\n",
              "\n",
              "    .colab-df-convert:hover {\n",
              "      background-color: #E2EBFA;\n",
              "      box-shadow: 0px 1px 2px rgba(60, 64, 67, 0.3), 0px 1px 3px 1px rgba(60, 64, 67, 0.15);\n",
              "      fill: #174EA6;\n",
              "    }\n",
              "\n",
              "    .colab-df-buttons div {\n",
              "      margin-bottom: 4px;\n",
              "    }\n",
              "\n",
              "    [theme=dark] .colab-df-convert {\n",
              "      background-color: #3B4455;\n",
              "      fill: #D2E3FC;\n",
              "    }\n",
              "\n",
              "    [theme=dark] .colab-df-convert:hover {\n",
              "      background-color: #434B5C;\n",
              "      box-shadow: 0px 1px 3px 1px rgba(0, 0, 0, 0.15);\n",
              "      filter: drop-shadow(0px 1px 2px rgba(0, 0, 0, 0.3));\n",
              "      fill: #FFFFFF;\n",
              "    }\n",
              "  </style>\n",
              "\n",
              "    <script>\n",
              "      const buttonEl =\n",
              "        document.querySelector('#df-8e57910e-73bd-4bb2-b74e-22ca075eb85b button.colab-df-convert');\n",
              "      buttonEl.style.display =\n",
              "        google.colab.kernel.accessAllowed ? 'block' : 'none';\n",
              "\n",
              "      async function convertToInteractive(key) {\n",
              "        const element = document.querySelector('#df-8e57910e-73bd-4bb2-b74e-22ca075eb85b');\n",
              "        const dataTable =\n",
              "          await google.colab.kernel.invokeFunction('convertToInteractive',\n",
              "                                                    [key], {});\n",
              "        if (!dataTable) return;\n",
              "\n",
              "        const docLinkHtml = 'Like what you see? Visit the ' +\n",
              "          '<a target=\"_blank\" href=https://colab.research.google.com/notebooks/data_table.ipynb>data table notebook</a>'\n",
              "          + ' to learn more about interactive tables.';\n",
              "        element.innerHTML = '';\n",
              "        dataTable['output_type'] = 'display_data';\n",
              "        await google.colab.output.renderOutput(dataTable, element);\n",
              "        const docLink = document.createElement('div');\n",
              "        docLink.innerHTML = docLinkHtml;\n",
              "        element.appendChild(docLink);\n",
              "      }\n",
              "    </script>\n",
              "  </div>\n",
              "\n",
              "\n",
              "<div id=\"df-89b26079-0ff5-40a9-97a4-c4489081489f\">\n",
              "  <button class=\"colab-df-quickchart\" onclick=\"quickchart('df-89b26079-0ff5-40a9-97a4-c4489081489f')\"\n",
              "            title=\"Suggest charts\"\n",
              "            style=\"display:none;\">\n",
              "\n",
              "<svg xmlns=\"http://www.w3.org/2000/svg\" height=\"24px\"viewBox=\"0 0 24 24\"\n",
              "     width=\"24px\">\n",
              "    <g>\n",
              "        <path d=\"M19 3H5c-1.1 0-2 .9-2 2v14c0 1.1.9 2 2 2h14c1.1 0 2-.9 2-2V5c0-1.1-.9-2-2-2zM9 17H7v-7h2v7zm4 0h-2V7h2v10zm4 0h-2v-4h2v4z\"/>\n",
              "    </g>\n",
              "</svg>\n",
              "  </button>\n",
              "\n",
              "<style>\n",
              "  .colab-df-quickchart {\n",
              "      --bg-color: #E8F0FE;\n",
              "      --fill-color: #1967D2;\n",
              "      --hover-bg-color: #E2EBFA;\n",
              "      --hover-fill-color: #174EA6;\n",
              "      --disabled-fill-color: #AAA;\n",
              "      --disabled-bg-color: #DDD;\n",
              "  }\n",
              "\n",
              "  [theme=dark] .colab-df-quickchart {\n",
              "      --bg-color: #3B4455;\n",
              "      --fill-color: #D2E3FC;\n",
              "      --hover-bg-color: #434B5C;\n",
              "      --hover-fill-color: #FFFFFF;\n",
              "      --disabled-bg-color: #3B4455;\n",
              "      --disabled-fill-color: #666;\n",
              "  }\n",
              "\n",
              "  .colab-df-quickchart {\n",
              "    background-color: var(--bg-color);\n",
              "    border: none;\n",
              "    border-radius: 50%;\n",
              "    cursor: pointer;\n",
              "    display: none;\n",
              "    fill: var(--fill-color);\n",
              "    height: 32px;\n",
              "    padding: 0;\n",
              "    width: 32px;\n",
              "  }\n",
              "\n",
              "  .colab-df-quickchart:hover {\n",
              "    background-color: var(--hover-bg-color);\n",
              "    box-shadow: 0 1px 2px rgba(60, 64, 67, 0.3), 0 1px 3px 1px rgba(60, 64, 67, 0.15);\n",
              "    fill: var(--button-hover-fill-color);\n",
              "  }\n",
              "\n",
              "  .colab-df-quickchart-complete:disabled,\n",
              "  .colab-df-quickchart-complete:disabled:hover {\n",
              "    background-color: var(--disabled-bg-color);\n",
              "    fill: var(--disabled-fill-color);\n",
              "    box-shadow: none;\n",
              "  }\n",
              "\n",
              "  .colab-df-spinner {\n",
              "    border: 2px solid var(--fill-color);\n",
              "    border-color: transparent;\n",
              "    border-bottom-color: var(--fill-color);\n",
              "    animation:\n",
              "      spin 1s steps(1) infinite;\n",
              "  }\n",
              "\n",
              "  @keyframes spin {\n",
              "    0% {\n",
              "      border-color: transparent;\n",
              "      border-bottom-color: var(--fill-color);\n",
              "      border-left-color: var(--fill-color);\n",
              "    }\n",
              "    20% {\n",
              "      border-color: transparent;\n",
              "      border-left-color: var(--fill-color);\n",
              "      border-top-color: var(--fill-color);\n",
              "    }\n",
              "    30% {\n",
              "      border-color: transparent;\n",
              "      border-left-color: var(--fill-color);\n",
              "      border-top-color: var(--fill-color);\n",
              "      border-right-color: var(--fill-color);\n",
              "    }\n",
              "    40% {\n",
              "      border-color: transparent;\n",
              "      border-right-color: var(--fill-color);\n",
              "      border-top-color: var(--fill-color);\n",
              "    }\n",
              "    60% {\n",
              "      border-color: transparent;\n",
              "      border-right-color: var(--fill-color);\n",
              "    }\n",
              "    80% {\n",
              "      border-color: transparent;\n",
              "      border-right-color: var(--fill-color);\n",
              "      border-bottom-color: var(--fill-color);\n",
              "    }\n",
              "    90% {\n",
              "      border-color: transparent;\n",
              "      border-bottom-color: var(--fill-color);\n",
              "    }\n",
              "  }\n",
              "</style>\n",
              "\n",
              "  <script>\n",
              "    async function quickchart(key) {\n",
              "      const quickchartButtonEl =\n",
              "        document.querySelector('#' + key + ' button');\n",
              "      quickchartButtonEl.disabled = true;  // To prevent multiple clicks.\n",
              "      quickchartButtonEl.classList.add('colab-df-spinner');\n",
              "      try {\n",
              "        const charts = await google.colab.kernel.invokeFunction(\n",
              "            'suggestCharts', [key], {});\n",
              "      } catch (error) {\n",
              "        console.error('Error during call to suggestCharts:', error);\n",
              "      }\n",
              "      quickchartButtonEl.classList.remove('colab-df-spinner');\n",
              "      quickchartButtonEl.classList.add('colab-df-quickchart-complete');\n",
              "    }\n",
              "    (() => {\n",
              "      let quickchartButtonEl =\n",
              "        document.querySelector('#df-89b26079-0ff5-40a9-97a4-c4489081489f button');\n",
              "      quickchartButtonEl.style.display =\n",
              "        google.colab.kernel.accessAllowed ? 'block' : 'none';\n",
              "    })();\n",
              "  </script>\n",
              "</div>\n",
              "    </div>\n",
              "  </div>\n"
            ],
            "application/vnd.google.colaboratory.intrinsic+json": {
              "type": "dataframe",
              "variable_name": "balanced_data",
              "summary": "{\n  \"name\": \"balanced_data\",\n  \"rows\": 3847,\n  \"fields\": [\n    {\n      \"column\": \"Session\",\n      \"properties\": {\n        \"dtype\": \"category\",\n        \"num_unique_values\": 5,\n        \"samples\": [\n          \"2\",\n          \"5\",\n          \"3\"\n        ],\n        \"semantic_type\": \"\",\n        \"description\": \"\"\n      }\n    },\n    {\n      \"column\": \"sentence\",\n      \"properties\": {\n        \"dtype\": \"string\",\n        \"num_unique_values\": 3601,\n        \"samples\": [\n          \"this is the only track record that we have and if it's not listed here then it's probably not anywhere.\",\n          \"Oh, you will--You'll find just the right girl.  And she'll be perfect for you and everything will be great.\",\n          \"When do you leave?\"\n        ],\n        \"semantic_type\": \"\",\n        \"description\": \"\"\n      }\n    },\n    {\n      \"column\": \"emotion\",\n      \"properties\": {\n        \"dtype\": \"category\",\n        \"num_unique_values\": 4,\n        \"samples\": [\n          \"sad\",\n          \"hap\",\n          \"neu\"\n        ],\n        \"semantic_type\": \"\",\n        \"description\": \"\"\n      }\n    },\n    {\n      \"column\": \"Clean_Text\",\n      \"properties\": {\n        \"dtype\": \"string\",\n        \"num_unique_values\": 3487,\n        \"samples\": [\n          \"No. figured I'd let wait.\",\n          \"half kind like ripped away.\",\n          \"but, gonna fine. I'm gonna fine. know I'm good this. this. That's trained time. I'm good this. Okay?\"\n        ],\n        \"semantic_type\": \"\",\n        \"description\": \"\"\n      }\n    },\n    {\n      \"column\": \"label\",\n      \"properties\": {\n        \"dtype\": \"number\",\n        \"std\": 1,\n        \"min\": 0,\n        \"max\": 3,\n        \"num_unique_values\": 4,\n        \"samples\": [\n          3,\n          1,\n          2\n        ],\n        \"semantic_type\": \"\",\n        \"description\": \"\"\n      }\n    }\n  ]\n}"
            }
          },
          "metadata": {},
          "execution_count": 20
        }
      ]
    },
    {
      "cell_type": "code",
      "source": [
        "X_train, X_test, Y_train, Y_test = train_test_split(balanced_data['Clean_Text'], balanced_data['label'], test_size=0.2, random_state=42)\n"
      ],
      "metadata": {
        "id": "odbBcRw9IJPW"
      },
      "execution_count": null,
      "outputs": []
    },
    {
      "cell_type": "markdown",
      "source": [
        "**Star of the day : logistic regression**"
      ],
      "metadata": {
        "id": "E_9hlSisMxoc"
      }
    },
    {
      "cell_type": "code",
      "source": [
        "pipe_lr = Pipeline(steps=[('cv',CountVectorizer()),('lr',LogisticRegression(max_iter = 500))])\n",
        "pipe_lr.fit(X_train,Y_train)\n",
        "print('Accuracy: ')\n",
        "pipe_lr.score(X_test,Y_test)"
      ],
      "metadata": {
        "colab": {
          "base_uri": "https://localhost:8080/"
        },
        "id": "ECk9A6SvIw77",
        "outputId": "b92873b6-3420-474d-c42f-c80cce151dcb"
      },
      "execution_count": null,
      "outputs": [
        {
          "output_type": "stream",
          "name": "stdout",
          "text": [
            "Accuracy: \n"
          ]
        },
        {
          "output_type": "execute_result",
          "data": {
            "text/plain": [
              "0.6116883116883117"
            ]
          },
          "metadata": {},
          "execution_count": 22
        }
      ]
    },
    {
      "cell_type": "code",
      "source": [
        "pipe_lr_tfidf = Pipeline(steps=[\n",
        "    ('tfidf', TfidfVectorizer()),\n",
        "    ('lr', LogisticRegression(max_iter=1000))\n",
        "])\n",
        "\n",
        "# Fit the pipeline on training data\n",
        "pipe_lr_tfidf.fit(X_train, Y_train)\n",
        "\n",
        "# Evaluate the model on test data\n",
        "accuracy = pipe_lr_tfidf.score(X_test, Y_test)\n",
        "print(\"Accuracy:\", accuracy)"
      ],
      "metadata": {
        "colab": {
          "base_uri": "https://localhost:8080/"
        },
        "id": "VlPd6TMgI47c",
        "outputId": "2a8564b4-5270-45c0-e29b-f7f51ed9ff3e"
      },
      "execution_count": null,
      "outputs": [
        {
          "output_type": "stream",
          "name": "stdout",
          "text": [
            "Accuracy: 0.6155844155844156\n"
          ]
        }
      ]
    },
    {
      "cell_type": "markdown",
      "source": [
        "**XGBoost**"
      ],
      "metadata": {
        "id": "-DlR6zD4MulA"
      }
    },
    {
      "cell_type": "code",
      "source": [
        "pipe_xgb_cv = Pipeline(steps=[('cv', CountVectorizer()), ('xgb', XGBClassifier())])\n",
        "pipe_xgb_cv.fit(X_train,Y_train)\n",
        "print('Accuracy: ')\n",
        "pipe_xgb_cv.score(X_test,Y_test)"
      ],
      "metadata": {
        "colab": {
          "base_uri": "https://localhost:8080/"
        },
        "id": "jW4sdh3rLGIJ",
        "outputId": "031d5c74-5a07-4df2-859a-db54a863f24e"
      },
      "execution_count": null,
      "outputs": [
        {
          "output_type": "stream",
          "name": "stdout",
          "text": [
            "Accuracy: \n"
          ]
        },
        {
          "output_type": "execute_result",
          "data": {
            "text/plain": [
              "0.6012987012987013"
            ]
          },
          "metadata": {},
          "execution_count": 24
        }
      ]
    },
    {
      "cell_type": "code",
      "source": [
        "pipe_xgb_tfidf = Pipeline(steps=[ ('tfidf', TfidfVectorizer()), ('xgb', XGBClassifier())])\n",
        "pipe_xgb_tfidf.fit(X_train,Y_train)\n",
        "print('Accuracy: ')\n",
        "pipe_xgb_tfidf.score(X_test,Y_test)"
      ],
      "metadata": {
        "colab": {
          "base_uri": "https://localhost:8080/"
        },
        "id": "KuTLB_IjMRxK",
        "outputId": "71b1b0fe-88a1-4309-873a-2b4452c7ab33"
      },
      "execution_count": null,
      "outputs": [
        {
          "output_type": "stream",
          "name": "stdout",
          "text": [
            "Accuracy: \n"
          ]
        },
        {
          "output_type": "execute_result",
          "data": {
            "text/plain": [
              "0.5883116883116883"
            ]
          },
          "metadata": {},
          "execution_count": 25
        }
      ]
    },
    {
      "cell_type": "markdown",
      "metadata": {
        "id": "pIrYRZp9f8b_"
      },
      "source": [
        "#Attempt to use BERT for feature extraction from text data"
      ]
    },
    {
      "cell_type": "code",
      "execution_count": null,
      "metadata": {
        "id": "XQw_H7LQicZF",
        "colab": {
          "base_uri": "https://localhost:8080/",
          "height": 164
        },
        "outputId": "0b3f9089-34a4-4e0d-d004-48b1acbe3506"
      },
      "outputs": [
        {
          "output_type": "error",
          "ename": "NameError",
          "evalue": "name 'BertTokenizer' is not defined",
          "traceback": [
            "\u001b[0;31m---------------------------------------------------------------------------\u001b[0m",
            "\u001b[0;31mNameError\u001b[0m                                 Traceback (most recent call last)",
            "\u001b[0;32m<ipython-input-26-896eade846db>\u001b[0m in \u001b[0;36m<cell line: 1>\u001b[0;34m()\u001b[0m\n\u001b[0;32m----> 1\u001b[0;31m \u001b[0mtokenizer\u001b[0m \u001b[0;34m=\u001b[0m \u001b[0mBertTokenizer\u001b[0m\u001b[0;34m.\u001b[0m\u001b[0mfrom_pretrained\u001b[0m\u001b[0;34m(\u001b[0m\u001b[0;34m'bert-base-uncased'\u001b[0m\u001b[0;34m)\u001b[0m\u001b[0;34m\u001b[0m\u001b[0;34m\u001b[0m\u001b[0m\n\u001b[0m\u001b[1;32m      2\u001b[0m \u001b[0mmodel\u001b[0m \u001b[0;34m=\u001b[0m \u001b[0mBertModel\u001b[0m\u001b[0;34m.\u001b[0m\u001b[0mfrom_pretrained\u001b[0m\u001b[0;34m(\u001b[0m\u001b[0;34m'bert-base-uncased'\u001b[0m\u001b[0;34m,\u001b[0m\u001b[0moutput_hidden_states\u001b[0m\u001b[0;34m=\u001b[0m\u001b[0;32mTrue\u001b[0m\u001b[0;34m)\u001b[0m\u001b[0;34m\u001b[0m\u001b[0;34m\u001b[0m\u001b[0m\n",
            "\u001b[0;31mNameError\u001b[0m: name 'BertTokenizer' is not defined"
          ]
        }
      ],
      "source": [
        "tokenizer = BertTokenizer.from_pretrained('bert-base-uncased')\n",
        "model = BertModel.from_pretrained('bert-base-uncased',output_hidden_states=True)"
      ]
    },
    {
      "cell_type": "code",
      "execution_count": null,
      "metadata": {
        "id": "NHCewh5bmL2k"
      },
      "outputs": [],
      "source": [
        "#converting text labels (emotions) into numerical form\n",
        "LE = LabelEncoder()\n",
        "final_text_data_filtered['label'] = LE.fit_transform(final_text_data_filtered['emotion'])"
      ]
    },
    {
      "cell_type": "code",
      "execution_count": null,
      "metadata": {
        "id": "MfURiUB_npg2"
      },
      "outputs": [],
      "source": [
        "final_text_data_filtered.head()"
      ]
    },
    {
      "cell_type": "code",
      "execution_count": null,
      "metadata": {
        "id": "jIDaPN-QrT-x"
      },
      "outputs": [],
      "source": [
        "from transformers import BertTokenizer, BertModel\n"
      ]
    },
    {
      "cell_type": "code",
      "execution_count": null,
      "metadata": {
        "id": "2lZaMWeCIl-O"
      },
      "outputs": [],
      "source": [
        "len(final_text_data_filtered['Clean_Text'].tolist())"
      ]
    },
    {
      "cell_type": "code",
      "execution_count": null,
      "metadata": {
        "id": "SMR2yh8aJhg6"
      },
      "outputs": [],
      "source": [
        "filtered_list = final_text_data_filtered['Clean_Text'].tolist()\n",
        "first_2000_elements = filtered_list[:3000]"
      ]
    },
    {
      "cell_type": "code",
      "execution_count": null,
      "metadata": {
        "id": "w1SWgIWQ2JrQ"
      },
      "outputs": [],
      "source": [
        "import torch\n",
        "from transformers import BertTokenizer, BertModel\n",
        "from sklearn.model_selection import train_test_split\n",
        "\n",
        "# Initialize tokenizer\n",
        "tokenizer = BertTokenizer.from_pretrained('bert-base-uncased')\n",
        "\n",
        "# Tokenize data\n",
        "data_tokenized = tokenizer(filtered_list, padding=True, truncation=True, return_tensors='pt')\n",
        "\n",
        "# Load pre-trained BERT model\n",
        "bert_model = BertModel.from_pretrained('bert-base-uncased')\n",
        "bert_model.eval()  # Set the model to evaluation mode\n",
        "\n",
        "# Extract BERT embeddings for training data\n",
        "with torch.no_grad():\n",
        "    outputs = bert_model(**data_tokenized)\n",
        "    pooled_output = outputs.pooler_output  # Extract pooled representation\n",
        "\n",
        "# Convert pooled output to numpy array\n",
        "bert_data_features = pooled_output.numpy()"
      ]
    },
    {
      "cell_type": "code",
      "execution_count": null,
      "metadata": {
        "id": "pkuqLWvDDYxV"
      },
      "outputs": [],
      "source": [
        "X_train, X_test, Y_train, Y_test = train_test_split(bert_data_features, final_text_data_filtered['label'], test_size=0.3, random_state=42)"
      ]
    },
    {
      "cell_type": "code",
      "execution_count": null,
      "metadata": {
        "id": "C6pQkhH-2m5z"
      },
      "outputs": [],
      "source": [
        "print(X_train[0].shape)  # Check shape of first training example\n"
      ]
    },
    {
      "cell_type": "code",
      "execution_count": null,
      "metadata": {
        "id": "qcCTUMF0Mgpu"
      },
      "outputs": [],
      "source": [
        "X_train = X_train.reshape((X_train.shape[0], -1))\n",
        "X_test = X_test.reshape((X_test.shape[0], -1))\n",
        "\n",
        "X_train.shape"
      ]
    },
    {
      "cell_type": "code",
      "execution_count": null,
      "metadata": {
        "id": "BdFRDdRnNEBK"
      },
      "outputs": [],
      "source": [
        "Y_train.shape"
      ]
    },
    {
      "cell_type": "code",
      "execution_count": null,
      "metadata": {
        "id": "DUSCkkYJ4Umt"
      },
      "outputs": [],
      "source": [
        "X_train =(X_train - np.mean(X_train))/np.std(X_train)"
      ]
    },
    {
      "cell_type": "code",
      "execution_count": null,
      "metadata": {
        "id": "HMZHGMyAyBcM"
      },
      "outputs": [],
      "source": [
        "# Reshape the features into a 2D array\n",
        "# Train the logistic regression model\n",
        "classifier = LogisticRegression(max_iter = 500)\n",
        "classifier.fit(X_train,y= Y_train)"
      ]
    },
    {
      "cell_type": "code",
      "execution_count": null,
      "metadata": {
        "id": "a2ZDLr3CMBse"
      },
      "outputs": [],
      "source": [
        "#Compute accuracy with logistic regression\n",
        "X_test =(X_test - np.mean(X_test))/np.std(X_test)\n",
        "from sklearn.metrics import accuracy_score\n",
        "predictions = classifier.predict(X_test)\n",
        "accuracy = accuracy_score(Y_test, predictions)\n",
        "print(\"Accuracy:\", accuracy)"
      ]
    },
    {
      "cell_type": "code",
      "execution_count": null,
      "metadata": {
        "id": "gBhf2oFs8ZSM"
      },
      "outputs": [],
      "source": [
        "# Define and train your CNN model\n",
        "import torch.nn as nn\n",
        "import torch\n",
        "from torch.utils.data import DataLoader, TensorDataset\n",
        "from transformers import BertTokenizer, BertModel\n",
        "import pandas as pd\n",
        "from sklearn.model_selection import train_test_split\n",
        "from sklearn.preprocessing import LabelEncoder\n",
        "from sklearn.feature_extraction.text import TfidfVectorizer\n",
        "import numpy as np\n",
        "import torch.nn as nn\n",
        "import torch.optim as optim\n",
        "class CNNModel(nn.Module):\n",
        "    def __init__(self):\n",
        "        super(CNNModel, self).__init__()\n",
        "        self.conv1 = nn.Conv1d(in_channels=X_train_features.shape[1], out_channels=128, kernel_size=3)\n",
        "        self.conv2 = nn.Conv1d(in_channels=128, out_channels=64, kernel_size=3)\n",
        "        self.pool = nn.MaxPool1d(kernel_size=2)\n",
        "        self.fc1 = nn.Linear(64 * 5, 64)\n",
        "        self.fc2 = nn.Linear(64, 5)\n",
        "\n",
        "    def forward(self, x):\n",
        "        x = self.pool(torch.relu(self.conv1(x)))\n",
        "        x = self.pool(torch.relu(self.conv2(x)))\n",
        "        x = torch.flatten(x, 1)\n",
        "        x = torch.relu(self.fc1(x))\n",
        "        x = self.fc2(x)\n",
        "        return x\n",
        "\n",
        "# Initialize the model, loss function, and optimizer\n",
        "model = CNNModel()\n",
        "criterion = nn.CrossEntropyLoss()\n",
        "optimizer = optim.Adam(model.parameters(), lr=0.001)\n",
        "\n",
        "# Convert features and labels to PyTorch tensors\n",
        "X_train_tensor = torch.tensor(X_train_features, dtype=torch.float32)\n",
        "X_test_tensor = torch.tensor(X_test_features, dtype=torch.float32)\n",
        "y_train_tensor = torch.tensor(y_train.values, dtype=torch.int64)\n",
        "y_test_tensor = torch.tensor(y_test.values, dtype=torch.int64)\n",
        "\n",
        "# Create DataLoader for training and testing sets\n",
        "train_dataset = TensorDataset(X_train_tensor, y_train_tensor)\n",
        "test_dataset = TensorDataset(X_test_tensor, y_test_tensor)\n",
        "train_loader = DataLoader(train_dataset, batch_size=32, shuffle=True)\n",
        "test_loader = DataLoader(test_dataset, batch_size=32)\n",
        "\n",
        "# Train the model\n",
        "epochs = 2\n",
        "for epoch in range(epochs):\n",
        "    model.train()\n",
        "    running_loss = 0.0\n",
        "    for inputs, labels in train_loader:\n",
        "        optimizer.zero_grad()\n",
        "        outputs = model(inputs.permute(0, 2, 1))  # Permute dimensions for CNN input\n",
        "        loss = criterion(outputs, labels)\n",
        "        loss.backward()\n",
        "        optimizer.step()\n",
        "        running_loss += loss.item()\n",
        "    print(f\"Epoch {epoch+1}, Loss: {running_loss / len(train_loader)}\")\n",
        "\n",
        "# Evaluate the model\n",
        "model.eval()\n",
        "correct = 0\n",
        "total = 0\n",
        "with torch.no_grad():\n",
        "    for inputs, labels in test_loader:\n",
        "        outputs = model(inputs.permute(0, 2, 1))  # Permute dimensions for CNN input\n",
        "        _, predicted = torch.max(outputs, 1)\n",
        "        total += labels.size(0)\n",
        "        correct += (predicted == labels).sum().item()\n",
        "\n",
        "accuracy = correct / total\n",
        "print(f\"Test Accuracy: {accuracy}\")\n"
      ]
    },
    {
      "cell_type": "code",
      "source": [
        "import torch\n",
        "import torch.nn as nn\n",
        "import torch.nn.functional as F\n",
        "\n",
        "class CNN_classifier(nn.Module):\n",
        "    def __init__(self, num_classes, input_channels=1):\n",
        "        super(CNN_classifier, self).__init__()\n",
        "        self.num_classes = num_classes\n",
        "\n",
        "        # Convolutional layers\n",
        "        self.conv1 = nn.Conv1d(in_channels=input_channels, out_channels=32, kernel_size=3, padding=1)\n",
        "        self.conv2 = nn.Conv1d(in_channels=32, out_channels=64, kernel_size=3, padding=1)\n",
        "        self.conv3 = nn.Conv1d(in_channels=64, out_channels=128, kernel_size=3, padding=1)\n",
        "\n",
        "        # Maxpool layers\n",
        "        self.maxpool = nn.MaxPool1d(kernel_size=2, stride=2)\n",
        "\n",
        "        # Fully connected layers\n",
        "        self.fc1 = nn.Linear(128 * (768 // 8), 256)  # Adjusted based on maxpooling\n",
        "        self.fc2 = nn.Linear(256, num_classes)\n",
        "\n",
        "        # Dropout layer\n",
        "        self.dropout = nn.Dropout(p=0.5)\n",
        "\n",
        "    def forward(self, x):\n",
        "        x = x.unsqueeze(0)\n",
        "        # Convolutional layers with ReLU activation and maxpooling\n",
        "        x = F.relu(self.conv1(x.unsqueeze(1)))  # Add unsqueeze to add a channel dimension\n",
        "        print(x.shape)\n",
        "        x = self.maxpool(x)\n",
        "        x = F.relu(self.conv2(x))\n",
        "        x = self.maxpool(x)\n",
        "        x = F.relu(self.conv3(x))\n",
        "        x = self.maxpool(x)\n",
        "\n",
        "        # Flatten the output for fully connected layers\n",
        "        x = x.view(x.size(0), -1)\n",
        "\n",
        "        # Fully connected layers with dropout\n",
        "        x = F.relu(self.fc1(x))\n",
        "        x = self.dropout(x)\n",
        "        x = self.fc2(x)\n",
        "\n",
        "        # Apply softmax for multi-class classification\n",
        "        x = F.softmax(x, dim=1)\n",
        "\n",
        "        return x\n"
      ],
      "metadata": {
        "id": "_cgbZ7BdH6B6"
      },
      "execution_count": null,
      "outputs": []
    },
    {
      "cell_type": "code",
      "source": [
        "import torch\n",
        "import torch.nn as nn\n",
        "import torch.nn.functional as F\n",
        "\n",
        "class CNN_classifier(nn.Module):\n",
        "    def __init__(self, num_classes, input_channels=1):\n",
        "        super(CNN_classifier, self).__init__()\n",
        "        self.num_classes = num_classes\n",
        "\n",
        "        # Convolutional layers\n",
        "        self.conv1 = nn.Conv1d(in_channels=input_channels, out_channels=32, kernel_size=3, padding=1)\n",
        "        self.conv2 = nn.Conv1d(in_channels=32, out_channels=64, kernel_size=3, padding=1)\n",
        "        self.conv3 = nn.Conv1d(in_channels=64, out_channels=128, kernel_size=3, padding=1)\n",
        "\n",
        "        # Maxpool layers\n",
        "        self.maxpool = nn.MaxPool1d(kernel_size=2, stride=2)\n",
        "\n",
        "        # Fully connected layers\n",
        "        self.fc1 = nn.Linear(128 * 96, 256)  # 128 * 192 is the output size of conv3\n",
        "        self.fc2 = nn.Linear(256, num_classes)\n",
        "\n",
        "        # Dropout layer\n",
        "        self.dropout = nn.Dropout(p=0.5)\n",
        "\n",
        "    def forward(self, x):\n",
        "        # Convolutional layers with ReLU activation and maxpooling\n",
        "        x = F.relu(self.conv1(x))\n",
        "        x = self.maxpool(x)\n",
        "        x = F.relu(self.conv2(x))\n",
        "        x = self.maxpool(x)\n",
        "        x = F.relu(self.conv3(x))\n",
        "        x = self.maxpool(x)\n",
        "\n",
        "        # Flatten the output for fully connected layers\n",
        "        x = x.view(x.size(0), -1)\n",
        "\n",
        "        # Fully connected layers with dropout\n",
        "\n",
        "        x = F.relu(self.fc1(x))\n",
        "        x = self.dropout(x)\n",
        "        x = self.fc2(x)\n",
        "\n",
        "        # Apply softmax for multi-class classification\n",
        "        x = F.softmax(x, dim=1)\n",
        "\n",
        "        return x\n"
      ],
      "metadata": {
        "id": "JshCWVgjKszM"
      },
      "execution_count": null,
      "outputs": []
    },
    {
      "cell_type": "code",
      "source": [
        "from torchsummary import summary\n",
        "model = CNN_classifier(5, input_channels=1)\n",
        "summary(model, (1,768))"
      ],
      "metadata": {
        "id": "0rLf6UHbKvd_"
      },
      "execution_count": null,
      "outputs": []
    }
  ],
  "metadata": {
    "colab": {
      "provenance": [],
      "authorship_tag": "ABX9TyPCHo/r6UDlycd+taPNVl6B",
      "include_colab_link": true
    },
    "kernelspec": {
      "display_name": "Python 3",
      "name": "python3"
    },
    "language_info": {
      "name": "python"
    }
  },
  "nbformat": 4,
  "nbformat_minor": 0
}